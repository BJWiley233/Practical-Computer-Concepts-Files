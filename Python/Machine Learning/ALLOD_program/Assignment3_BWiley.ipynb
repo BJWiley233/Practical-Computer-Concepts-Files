{
 "cells": [
  {
   "cell_type": "markdown",
   "id": "1969cace",
   "metadata": {},
   "source": [
    "##### You are going to test your skills in a machine learning classification problem. You are going to use the breast cancer dataset, which is a classic and very easy binary classification dataset. \n",
    "\n",
    "Information about the dataset and how to load it are here https://scikit-learn.org/stable/modules/generated/sklearn.datasets.load_breast_cancer.html\n",
    ". \n",
    "\n",
    "- You have to split you dataset into a training set (70%) and a test set (30%) and train 5 different machine learning algorithms. \n",
    "- From the sklearn package \n",
    "    1. the [linear discriminant analysis](https://scikit-learn.org/stable/modules/generated/sklearn.discriminant_analysis.LinearDiscriminantAnalysis.html), \n",
    "    2. the [logistic regression](https://scikit-learn.org/stable/modules/generated/sklearn.linear_model.LogisticRegression.html), \n",
    "    3. the [support vector machines](https://scikit-learn.org/stable/modules/generated/sklearn.svm.SVC.html) \n",
    "    4. the [extremely randomized trees](https://scikit-learn.org/stable/modules/generated/sklearn.ensemble.ExtraTreesClassifier.html)\n",
    "    5. the [XGBoosts package the XGBClassifier]()\n",
    "- In order to improve the predictive power of these algorithms you need to tune their hyper-parameters. \n",
    "- For each one of these 5 classifiers do a randomized search with 5-fold cross-validation for 300 iterations using a big enough range of values for the parameters that are tunable, and afterwards, perform a grid search 5-fold cross-validation in a small range of values around the best parameters found from the randomized search. \n",
    "- As a metric for the randomized and grid searches use the f1 score. \n",
    "- Input the final best models of your 5 classifiers using the mlxtend package to the second level classifiers \n",
    "    1. [voting classifier](http://rasbt.github.io/mlxtend/user_guide/classifier/EnsembleVoteClassifier/)\n",
    "    2. [stacking classifier](http://rasbt.github.io/mlxtend/user_guide/classifier/StackingCVClassifier/).\n",
    "- For the stacking classifier use the logistic regression as a meta-classifier with the default parameters (`meta_classifier=LogisticRegression()`). \n",
    "- Calculate the accuracy, the f1 score, and the ROC AUC score for the initial 5 best models and the 2 second-level classifiers and \n",
    "- Comment on the results."
   ]
  },
  {
   "cell_type": "code",
   "execution_count": 55,
   "id": "d0088418",
   "metadata": {},
   "outputs": [],
   "source": [
    "import numpy as np\n",
    "import matplotlib.pyplot as plt\n",
    "import matplotlib.gridspec as gridspec\n",
    "import itertools\n",
    "from sklearn.discriminant_analysis import LinearDiscriminantAnalysis\n",
    "from sklearn.linear_model import LogisticRegression\n",
    "from sklearn.svm import SVC\n",
    "from sklearn.ensemble import ExtraTreesClassifier\n",
    "import xgboost as xgb\n",
    "from sklearn.metrics import roc_curve, auc\n",
    "import warnings\n",
    "## Only filter out warnings before running nbconvert\n",
    "warnings.filterwarnings('ignore')"
   ]
  },
  {
   "cell_type": "code",
   "execution_count": 3,
   "id": "60e732b9",
   "metadata": {},
   "outputs": [
    {
     "name": "stdout",
     "output_type": "stream",
     "text": [
      "['malignant', 'benign']\n",
      "['mean radius' 'mean texture' 'mean perimeter' 'mean area'\n",
      " 'mean smoothness' 'mean compactness' 'mean concavity'\n",
      " 'mean concave points' 'mean symmetry' 'mean fractal dimension'\n",
      " 'radius error' 'texture error' 'perimeter error' 'area error'\n",
      " 'smoothness error' 'compactness error' 'concavity error'\n",
      " 'concave points error' 'symmetry error' 'fractal dimension error'\n",
      " 'worst radius' 'worst texture' 'worst perimeter' 'worst area'\n",
      " 'worst smoothness' 'worst compactness' 'worst concavity'\n",
      " 'worst concave points' 'worst symmetry' 'worst fractal dimension']\n",
      "(569, 32)\n",
      "(array([0, 1]), array([212, 357]))\n"
     ]
    },
    {
     "data": {
      "text/html": [
       "<div>\n",
       "<style scoped>\n",
       "    .dataframe tbody tr th:only-of-type {\n",
       "        vertical-align: middle;\n",
       "    }\n",
       "\n",
       "    .dataframe tbody tr th {\n",
       "        vertical-align: top;\n",
       "    }\n",
       "\n",
       "    .dataframe thead th {\n",
       "        text-align: right;\n",
       "    }\n",
       "</style>\n",
       "<table border=\"1\" class=\"dataframe\">\n",
       "  <thead>\n",
       "    <tr style=\"text-align: right;\">\n",
       "      <th></th>\n",
       "      <th>mean radius</th>\n",
       "      <th>mean texture</th>\n",
       "      <th>mean perimeter</th>\n",
       "      <th>mean area</th>\n",
       "      <th>mean smoothness</th>\n",
       "      <th>mean compactness</th>\n",
       "      <th>mean concavity</th>\n",
       "      <th>mean concave points</th>\n",
       "      <th>mean symmetry</th>\n",
       "      <th>mean fractal dimension</th>\n",
       "      <th>...</th>\n",
       "      <th>worst perimeter</th>\n",
       "      <th>worst area</th>\n",
       "      <th>worst smoothness</th>\n",
       "      <th>worst compactness</th>\n",
       "      <th>worst concavity</th>\n",
       "      <th>worst concave points</th>\n",
       "      <th>worst symmetry</th>\n",
       "      <th>worst fractal dimension</th>\n",
       "      <th>target</th>\n",
       "      <th>target_binary</th>\n",
       "    </tr>\n",
       "  </thead>\n",
       "  <tbody>\n",
       "    <tr>\n",
       "      <th>0</th>\n",
       "      <td>17.99</td>\n",
       "      <td>10.38</td>\n",
       "      <td>122.8</td>\n",
       "      <td>1001.0</td>\n",
       "      <td>0.1184</td>\n",
       "      <td>0.2776</td>\n",
       "      <td>0.3001</td>\n",
       "      <td>0.1471</td>\n",
       "      <td>0.2419</td>\n",
       "      <td>0.07871</td>\n",
       "      <td>...</td>\n",
       "      <td>184.6</td>\n",
       "      <td>2019.0</td>\n",
       "      <td>0.1622</td>\n",
       "      <td>0.6656</td>\n",
       "      <td>0.7119</td>\n",
       "      <td>0.2654</td>\n",
       "      <td>0.4601</td>\n",
       "      <td>0.1189</td>\n",
       "      <td>malignant</td>\n",
       "      <td>0</td>\n",
       "    </tr>\n",
       "    <tr>\n",
       "      <th>1</th>\n",
       "      <td>20.57</td>\n",
       "      <td>17.77</td>\n",
       "      <td>132.9</td>\n",
       "      <td>1326.0</td>\n",
       "      <td>0.08474</td>\n",
       "      <td>0.07864</td>\n",
       "      <td>0.0869</td>\n",
       "      <td>0.07017</td>\n",
       "      <td>0.1812</td>\n",
       "      <td>0.05667</td>\n",
       "      <td>...</td>\n",
       "      <td>158.8</td>\n",
       "      <td>1956.0</td>\n",
       "      <td>0.1238</td>\n",
       "      <td>0.1866</td>\n",
       "      <td>0.2416</td>\n",
       "      <td>0.186</td>\n",
       "      <td>0.275</td>\n",
       "      <td>0.08902</td>\n",
       "      <td>malignant</td>\n",
       "      <td>0</td>\n",
       "    </tr>\n",
       "    <tr>\n",
       "      <th>2</th>\n",
       "      <td>19.69</td>\n",
       "      <td>21.25</td>\n",
       "      <td>130.0</td>\n",
       "      <td>1203.0</td>\n",
       "      <td>0.1096</td>\n",
       "      <td>0.1599</td>\n",
       "      <td>0.1974</td>\n",
       "      <td>0.1279</td>\n",
       "      <td>0.2069</td>\n",
       "      <td>0.05999</td>\n",
       "      <td>...</td>\n",
       "      <td>152.5</td>\n",
       "      <td>1709.0</td>\n",
       "      <td>0.1444</td>\n",
       "      <td>0.4245</td>\n",
       "      <td>0.4504</td>\n",
       "      <td>0.243</td>\n",
       "      <td>0.3613</td>\n",
       "      <td>0.08758</td>\n",
       "      <td>malignant</td>\n",
       "      <td>0</td>\n",
       "    </tr>\n",
       "    <tr>\n",
       "      <th>3</th>\n",
       "      <td>11.42</td>\n",
       "      <td>20.38</td>\n",
       "      <td>77.58</td>\n",
       "      <td>386.1</td>\n",
       "      <td>0.1425</td>\n",
       "      <td>0.2839</td>\n",
       "      <td>0.2414</td>\n",
       "      <td>0.1052</td>\n",
       "      <td>0.2597</td>\n",
       "      <td>0.09744</td>\n",
       "      <td>...</td>\n",
       "      <td>98.87</td>\n",
       "      <td>567.7</td>\n",
       "      <td>0.2098</td>\n",
       "      <td>0.8663</td>\n",
       "      <td>0.6869</td>\n",
       "      <td>0.2575</td>\n",
       "      <td>0.6638</td>\n",
       "      <td>0.173</td>\n",
       "      <td>malignant</td>\n",
       "      <td>0</td>\n",
       "    </tr>\n",
       "    <tr>\n",
       "      <th>4</th>\n",
       "      <td>20.29</td>\n",
       "      <td>14.34</td>\n",
       "      <td>135.1</td>\n",
       "      <td>1297.0</td>\n",
       "      <td>0.1003</td>\n",
       "      <td>0.1328</td>\n",
       "      <td>0.198</td>\n",
       "      <td>0.1043</td>\n",
       "      <td>0.1809</td>\n",
       "      <td>0.05883</td>\n",
       "      <td>...</td>\n",
       "      <td>152.2</td>\n",
       "      <td>1575.0</td>\n",
       "      <td>0.1374</td>\n",
       "      <td>0.205</td>\n",
       "      <td>0.4</td>\n",
       "      <td>0.1625</td>\n",
       "      <td>0.2364</td>\n",
       "      <td>0.07678</td>\n",
       "      <td>malignant</td>\n",
       "      <td>0</td>\n",
       "    </tr>\n",
       "  </tbody>\n",
       "</table>\n",
       "<p>5 rows × 32 columns</p>\n",
       "</div>"
      ],
      "text/plain": [
       "  mean radius mean texture mean perimeter mean area mean smoothness  \\\n",
       "0       17.99        10.38          122.8    1001.0          0.1184   \n",
       "1       20.57        17.77          132.9    1326.0         0.08474   \n",
       "2       19.69        21.25          130.0    1203.0          0.1096   \n",
       "3       11.42        20.38          77.58     386.1          0.1425   \n",
       "4       20.29        14.34          135.1    1297.0          0.1003   \n",
       "\n",
       "  mean compactness mean concavity mean concave points mean symmetry  \\\n",
       "0           0.2776         0.3001              0.1471        0.2419   \n",
       "1          0.07864         0.0869             0.07017        0.1812   \n",
       "2           0.1599         0.1974              0.1279        0.2069   \n",
       "3           0.2839         0.2414              0.1052        0.2597   \n",
       "4           0.1328          0.198              0.1043        0.1809   \n",
       "\n",
       "  mean fractal dimension  ... worst perimeter worst area worst smoothness  \\\n",
       "0                0.07871  ...           184.6     2019.0           0.1622   \n",
       "1                0.05667  ...           158.8     1956.0           0.1238   \n",
       "2                0.05999  ...           152.5     1709.0           0.1444   \n",
       "3                0.09744  ...           98.87      567.7           0.2098   \n",
       "4                0.05883  ...           152.2     1575.0           0.1374   \n",
       "\n",
       "  worst compactness worst concavity worst concave points worst symmetry  \\\n",
       "0            0.6656          0.7119               0.2654         0.4601   \n",
       "1            0.1866          0.2416                0.186          0.275   \n",
       "2            0.4245          0.4504                0.243         0.3613   \n",
       "3            0.8663          0.6869               0.2575         0.6638   \n",
       "4             0.205             0.4               0.1625         0.2364   \n",
       "\n",
       "  worst fractal dimension     target target_binary  \n",
       "0                  0.1189  malignant             0  \n",
       "1                 0.08902  malignant             0  \n",
       "2                 0.08758  malignant             0  \n",
       "3                   0.173  malignant             0  \n",
       "4                 0.07678  malignant             0  \n",
       "\n",
       "[5 rows x 32 columns]"
      ]
     },
     "execution_count": 3,
     "metadata": {},
     "output_type": "execute_result"
    }
   ],
   "source": [
    "import pandas as pd\n",
    "\n",
    "# get data\n",
    "from sklearn.datasets import load_breast_cancer\n",
    "breast = load_breast_cancer()\n",
    "print(list(breast.target_names))\n",
    "print(breast.feature_names)\n",
    "\n",
    "# from my \"original\" https://github.com/BJWiley233/Practical-Computer-Concepts-Files/blob/37a1b78f34022a6c490cec40e867decc1fd1dc10/Python/Machine%20Learning/module1.py\n",
    "# so I don't have to remember how we loaded this in class\n",
    "\n",
    "breast_df = pd.DataFrame(data=np.c_[breast.data, \n",
    "                                   [breast.target_names[v] for v in breast.target],\n",
    "                                   [v for v in breast.target]], \n",
    "                         columns=np.concatenate((breast.feature_names, \n",
    "                                                 np.array(['target'], dtype='<U23'),\n",
    "                                                 np.array(['target_binary'], dtype='<U23')), axis=0)\n",
    "            )\n",
    "\n",
    "\n",
    "\n",
    "print(breast_df.shape)\n",
    "print(np.unique(breast.target, return_counts=True))\n",
    "breast_df.head()"
   ]
  },
  {
   "cell_type": "code",
   "execution_count": 4,
   "id": "cc1a689e",
   "metadata": {},
   "outputs": [
    {
     "data": {
      "text/plain": [
       "mean radius                float64\n",
       "mean texture               float64\n",
       "mean perimeter             float64\n",
       "mean area                  float64\n",
       "mean smoothness            float64\n",
       "mean compactness           float64\n",
       "mean concavity             float64\n",
       "mean concave points        float64\n",
       "mean symmetry              float64\n",
       "mean fractal dimension     float64\n",
       "radius error               float64\n",
       "texture error              float64\n",
       "perimeter error            float64\n",
       "area error                 float64\n",
       "smoothness error           float64\n",
       "compactness error          float64\n",
       "concavity error            float64\n",
       "concave points error       float64\n",
       "symmetry error             float64\n",
       "fractal dimension error    float64\n",
       "worst radius               float64\n",
       "worst texture              float64\n",
       "worst perimeter            float64\n",
       "worst area                 float64\n",
       "worst smoothness           float64\n",
       "worst compactness          float64\n",
       "worst concavity            float64\n",
       "worst concave points       float64\n",
       "worst symmetry             float64\n",
       "worst fractal dimension    float64\n",
       "target                      object\n",
       "target_binary                int32\n",
       "dtype: object"
      ]
     },
     "execution_count": 4,
     "metadata": {},
     "output_type": "execute_result"
    }
   ],
   "source": [
    "# convert dtypes to float64 or int32 for float and int columns\n",
    "# I CANNOT believe this doesn't work with iloc :(\n",
    "breast_df[breast_df.columns[0:breast_df.shape[1]-2]] = breast_df[breast_df.columns[0:breast_df.shape[1]-2]].apply(lambda x: x.astype(np.float64))\n",
    "breast_df['target_binary'] = breast_df['target_binary'].astype(np.int32)\n",
    "breast_df.dtypes"
   ]
  },
  {
   "cell_type": "code",
   "execution_count": 5,
   "id": "4a58b5a4",
   "metadata": {},
   "outputs": [],
   "source": [
    "from sklearn.model_selection import train_test_split, StratifiedKFold, cross_validate, GridSearchCV\n",
    "from sklearn.preprocessing import StandardScaler\n",
    "from sklearn.pipeline import make_pipeline, Pipeline\n",
    "\n",
    "X = breast_df.iloc[:,0:breast_df.shape[1]-2]\n",
    "y = breast_df['target_binary'].ravel()\n",
    "X_train, X_test, y_train, y_test = train_test_split(X, y, test_size=0.30, random_state=42)"
   ]
  },
  {
   "cell_type": "markdown",
   "id": "0c667b3b",
   "metadata": {},
   "source": [
    "Note for LDA:\n",
    "Note that covariance_estimator works only with ‘lsqr’ and ‘eigen’ solvers.\n",
    "\n",
    "Will separate out `lsqr` and `eigen` solvers with the covariance_estimator as option"
   ]
  },
  {
   "cell_type": "code",
   "execution_count": 44,
   "id": "bfce57cf",
   "metadata": {},
   "outputs": [
    {
     "name": "stdout",
     "output_type": "stream",
     "text": [
      "{'tol': 0.00099, 'store_covariance': False, 'solver': 'lsqr', 'covariance_estimator': None}\n",
      "\n",
      "{'tol': 0.00018999999999999998, 'store_covariance': True, 'solver': 'svd', 'covariance_estimator': None}\n"
     ]
    }
   ],
   "source": [
    "# LDA Randomized\n",
    "from sklearn.model_selection import RandomizedSearchCV\n",
    "from sklearn.covariance import EmpiricalCovariance, OAS\n",
    "\n",
    "# LDA has a closed-form solution and therefore has no hyperparameters https://datascience.stackexchange.com/questions/21942/linear-discriminant-analysis-which-parameters-can-be-tunned-in-cross-validation\n",
    "# tolfloat, default=1.0e-4\n",
    "# Maximum likelihood covariance estimator, \n",
    "params_cov = dict(solver=['lsqr', 'eigen'],\n",
    "              tol=np.linspace(1e-5, 1e-3, 100),\n",
    "              store_covariance=[True, False],\n",
    "              covariance_estimator=[None, EmpiricalCovariance(), OAS()])\n",
    "params_no_cov = dict(solver=['svd'],\n",
    "              tol=np.linspace(1e-5, 1e-3, 100),\n",
    "              store_covariance=[True, False],\n",
    "              covariance_estimator=[None])\n",
    "\n",
    "# integer, to specify the number of folds in a (Stratified)KFold\n",
    "lda_clf_cov = RandomizedSearchCV(LinearDiscriminantAnalysis(), params_cov, cv=5, random_state=0, n_iter=200, \n",
    "                             scoring='f1', error_score='raise')\n",
    "\n",
    "lda_clf_no_cov = RandomizedSearchCV(LinearDiscriminantAnalysis(), params_no_cov, cv=5, random_state=0, n_iter=100, \n",
    "                             scoring='f1', error_score='raise')\n",
    "\n",
    "search_lda_cov = lda_clf_cov.fit(X_train, y_train)\n",
    "print(lda_clf_cov.best_params_)\n",
    "print()\n",
    "search_lda_no_cov = lda_clf_no_cov.fit(X_train, y_train)\n",
    "print(search_lda_no_cov.best_params_)"
   ]
  },
  {
   "cell_type": "code",
   "execution_count": 45,
   "id": "50981388",
   "metadata": {},
   "outputs": [
    {
     "name": "stdout",
     "output_type": "stream",
     "text": [
      "300\n",
      "300\n"
     ]
    },
    {
     "data": {
      "text/plain": [
       "[(0.9631616256477521,\n",
       "  {'tol': 0.00099,\n",
       "   'store_covariance': False,\n",
       "   'solver': 'lsqr',\n",
       "   'covariance_estimator': None}),\n",
       " (0.9631616256477521,\n",
       "  {'tol': 0.00029,\n",
       "   'store_covariance': False,\n",
       "   'solver': 'eigen',\n",
       "   'covariance_estimator': None}),\n",
       " (0.9631616256477521,\n",
       "  {'tol': 0.00046,\n",
       "   'store_covariance': True,\n",
       "   'solver': 'lsqr',\n",
       "   'covariance_estimator': None}),\n",
       " (0.9631616256477521,\n",
       "  {'tol': 0.0006399999999999999,\n",
       "   'store_covariance': True,\n",
       "   'solver': 'eigen',\n",
       "   'covariance_estimator': None}),\n",
       " (0.9631616256477521,\n",
       "  {'tol': 0.00021999999999999998,\n",
       "   'store_covariance': True,\n",
       "   'solver': 'eigen',\n",
       "   'covariance_estimator': EmpiricalCovariance()})]"
      ]
     },
     "execution_count": 45,
     "metadata": {},
     "output_type": "execute_result"
    }
   ],
   "source": [
    "# Get top 5 results from Randomized LDA\n",
    "scores_list = [search_lda_cov.cv_results_['mean_test_score'],\n",
    "               search_lda_no_cov.cv_results_['mean_test_score']]\n",
    "scores_flat = [item for sublist in scores_list for item in sublist]\n",
    "print(len(scores_flat))\n",
    "params_list = [search_lda_cov.cv_results_['params'],\n",
    "               search_lda_no_cov.cv_results_['params']]\n",
    "params_flat = [item for sublist in params_list for item in sublist]\n",
    "print(len(params_flat))\n",
    "\n",
    "# Get top 5 results from random LR\n",
    "res = sorted(zip(scores_flat, params_flat), \n",
    "             key = lambda x: x[0],\n",
    "             reverse=True)\n",
    "res[0:5]"
   ]
  },
  {
   "cell_type": "code",
   "execution_count": 46,
   "id": "9640dba6",
   "metadata": {},
   "outputs": [
    {
     "name": "stdout",
     "output_type": "stream",
     "text": [
      "grid_LDA_eigen_no_cov 0.9636363636363636\n",
      "grid_LDA_eigen_no_cov 0.9595730947212664\n",
      "grid_LDA_eigen_no_cov {'classifier__covariance_estimator': None, 'classifier__solver': 'eigen', 'classifier__store_covariance': True, 'classifier__tol': 0.0006399999999999999}\n",
      "\n",
      "grid_LDA_rest 0.9636363636363636\n",
      "grid_LDA_rest 0.9595730947212664\n",
      "grid_LDA_rest {'classifier__covariance_estimator': EmpiricalCovariance(), 'classifier__solver': 'lsqr', 'classifier__store_covariance': True, 'classifier__tol': 0.00021999999999999998}\n"
     ]
    }
   ],
   "source": [
    "# set kfold to 5\n",
    "#kfold = KFold(n_splits = 5, shuffle=True, random_state=0)\n",
    "kfold = StratifiedKFold(n_splits=5, shuffle=True, random_state=0)\n",
    "\n",
    "# LDA GridSearch\n",
    "LDA_pipe = Pipeline([\n",
    "    ('scale', StandardScaler()),\n",
    "    ('classifier', LinearDiscriminantAnalysis())\n",
    "])\n",
    "\n",
    "# Set tol from min to max with 10 values\n",
    "# eigen, 'tol': 0.00098, no cov estimator\n",
    "params_lda_eigen_no_cov = dict(classifier__solver=['eigen'],\n",
    "              classifier__tol=np.linspace(0.0006399999999999999, 0.00099, 10),\n",
    "              classifier__store_covariance=[True, False],\n",
    "              classifier__covariance_estimator=[None])\n",
    "# rest with EmpiricalCovariance()\n",
    "params_lda = dict(classifier__solver=['lsqr', 'eigen'],\n",
    "              # use same as above but with min tol 0.0002\n",
    "              classifier__tol=np.linspace(0.00021999999999999998, 0.00099, 10),\n",
    "              classifier__store_covariance=[True, False],\n",
    "              classifier__covariance_estimator=[EmpiricalCovariance()])\n",
    "\n",
    "grid_LDA_eigen_no_cov = GridSearchCV(LDA_pipe, param_grid=params_lda_eigen_no_cov, \n",
    "                                     cv=kfold, n_jobs=1, verbose=0, scoring='f1')\n",
    "grid_LDA_eigen_no_cov.fit(X_train, y_train)\n",
    "\n",
    "## what are best params for LDA eigen_no_cov? get `f1` score on the test data\n",
    "print(\"grid_LDA_eigen_no_cov\", grid_LDA_eigen_no_cov.score(X_test, y_test))\n",
    "print(\"grid_LDA_eigen_no_cov\", grid_LDA_eigen_no_cov.best_score_)\n",
    "print(\"grid_LDA_eigen_no_cov\", grid_LDA_eigen_no_cov.best_params_)\n",
    "print()\n",
    "\n",
    "grid_LDA_rest = GridSearchCV(LDA_pipe, param_grid=params_lda, cv=kfold, n_jobs=1, verbose=0, scoring='f1')\n",
    "grid_LDA_rest.fit(X_train, y_train)\n",
    "\n",
    "## what are best params for LDA with rest of best random params\n",
    "print(\"grid_LDA_rest\", grid_LDA_rest.score(X_test, y_test))\n",
    "print(\"grid_LDA_rest\", grid_LDA_rest.best_score_)\n",
    "print(\"grid_LDA_rest\", grid_LDA_rest.best_params_)"
   ]
  },
  {
   "cell_type": "markdown",
   "id": "dc957ede",
   "metadata": {},
   "source": [
    "96.3% on the test data.  Better than best score on training of 96.0%.  Best params were tied:\n",
    "\n",
    "`params_lda = dict(classifier__solver='eigen',\n",
    "              classifier__tol=0.0006399999999999999,\n",
    "              classifier__store_covariance=True,\n",
    "              classifier__covariance_estimator=None)`\n",
    "\n",
    "or\n",
    "\n",
    "`params_lda = dict(classifier__solver='lsqr',\n",
    "              classifier__tol=0.00021999999999999998,\n",
    "              classifier__store_covariance=True,\n",
    "              classifier__covariance_estimator=EmpiricalCovariance())`\n"
   ]
  },
  {
   "cell_type": "code",
   "execution_count": 47,
   "id": "332752bf",
   "metadata": {},
   "outputs": [
    {
     "name": "stdout",
     "output_type": "stream",
     "text": [
      "accuracy for LinearDiscriminantAnalysis: 0.9532163742690059\n",
      "f1-score for LinearDiscriminantAnalysis: 0.9636363636363636\n"
     ]
    },
    {
     "data": {
      "image/png": "[encoded data removed]",
      "text/plain": [
       "<Figure size 640x480 with 1 Axes>"
      ]
     },
     "metadata": {},
     "output_type": "display_data"
    }
   ],
   "source": [
    "from sklearn.metrics import accuracy_score, f1_score\n",
    "from sklearn.metrics import plot_roc_curve # deprecated\n",
    "from sklearn.metrics import RocCurveDisplay\n",
    "\n",
    "# Accuracy and ROC AUC curve for LDA\n",
    "LDA_pipe = Pipeline([\n",
    "    ('scale', StandardScaler()),\n",
    "    ('classifier', LinearDiscriminantAnalysis(solver='eigen',\n",
    "                                              tol=0.0006399999999999999,\n",
    "                                              store_covariance=True,\n",
    "                                              covariance_estimator=None))\n",
    "])\n",
    "\n",
    "LDA_pipe.fit(X_train, y_train)\n",
    "\n",
    "y_pred = LDA_pipe.predict(X_test)\n",
    "\n",
    "print(\"accuracy for LinearDiscriminantAnalysis:\", accuracy_score(y_test, y_pred))\n",
    "print(\"f1-score for LinearDiscriminantAnalysis:\", f1_score(y_test, y_pred))\n",
    "\n",
    "\n",
    "fig, ax = plt.subplots()\n",
    "RocCurveDisplay.from_estimator(\n",
    "   LDA_pipe, X_test, y_test, name=\"LDA classifier ROC\", ax=ax)\n",
    "\n",
    "# plot coin flip\n",
    "ax.plot([0,1], [0,1], linestyle=\"--\", lw=2, color=(0.6, 0.6, 0.6), label='coin flip', alpha=0.8)\n",
    "plt.legend() # this was a lucky guess :)\n",
    "plt.show()"
   ]
  },
  {
   "cell_type": "markdown",
   "id": "c23f3d0d",
   "metadata": {},
   "source": [
    "For Logistic Regresssion not all penalties can be used for all solvers so need to break out 300 to 200, 50, 25, 25 and with valid pairings.\n",
    "\n",
    "See: [Warning The choice of the algorithm depends on the penalty chosen: Supported penalties by solver: ...](https://scikit-learn.org/stable/modules/generated/sklearn.linear_model.LogisticRegression.html)\n",
    "\n",
    "Also see: The Elastic-Net mixing parameter, with 0 <= l1_ratio <= 1. Only used if penalty='elasticnet'\n",
    "\n",
    "**Note:** There were `ConvergenceWarning` with the default `max_iter=100`.  For sake of time I did not increase this.  These warnings have been suppressed in the HTML output.\n",
    "\n",
    "Additional Warnings suppressed:\n",
    "\n",
    "    - UserWarning: Setting penalty='none' will ignore the C and l1_ratio parameters\n",
    "    - LineSearchWarning: The line search algorithm did not converge"
   ]
  },
  {
   "cell_type": "code",
   "execution_count": 56,
   "id": "cfea7a65",
   "metadata": {},
   "outputs": [
    {
     "name": "stdout",
     "output_type": "stream",
     "text": [
      "{'C': 3.861664882079708, 'penalty': 'l2', 'solver': 'newton-cg', 'tol': 0.00062}\n",
      "{'C': 3.9534953522369047, 'penalty': 'l1', 'solver': 'liblinear', 'tol': 0.00047999999999999996}\n",
      "{'C': 2.195254015709299, 'l1_ratio': 1.0, 'penalty': 'elasticnet', 'solver': 'saga', 'tol': 0.00065}\n",
      "{'C': 2.115579679011618, 'penalty': 'l2', 'solver': 'liblinear', 'tol': 0.00089}\n"
     ]
    }
   ],
   "source": [
    "# LogisticRegression Randomized\n",
    "from scipy.stats import uniform\n",
    "from warnings import simplefilter\n",
    "from sklearn.exceptions import ConvergenceWarning\n",
    "simplefilter(\"ignore\", category=ConvergenceWarning)\n",
    "\n",
    "# C (Inverse of regularization strength) float, default=1.0\n",
    "# tol float, default=1e-4\n",
    "# Algorithm to use in the optimization problem. Default is ‘lbfgs’.\n",
    "\n",
    "# For LR \n",
    "# 200\n",
    "params1 = dict(C=uniform(loc=0, scale=4), \n",
    "              penalty=['l2', 'none'],\n",
    "              tol=np.linspace(1e-5, 1e-3, 100),\n",
    "              solver=['newton-cg', 'lbfgs', 'sag', 'saga']\n",
    "    )\n",
    "# 50\n",
    "params2 = dict(C=uniform(loc=0, scale=4), \n",
    "              penalty=['l1'],\n",
    "              tol=np.linspace(1e-5, 1e-3, 100),\n",
    "              solver=['liblinear', 'saga']\n",
    "    )\n",
    "# 25; 0 <= l1_ratio <= 1\n",
    "params3 = dict(C=uniform(loc=0, scale=4), \n",
    "              penalty=['elasticnet'],\n",
    "              tol=np.linspace(1e-5, 1e-3, 100),\n",
    "              solver=['saga'],\n",
    "              l1_ratio=np.linspace(0, 1, 6)\n",
    "    )\n",
    "# 25; need to also include l2 for liblinear\n",
    "params4 = dict(C=uniform(loc=0, scale=4), \n",
    "              penalty=['l2'],\n",
    "              tol=np.linspace(1e-5, 1e-3, 100),\n",
    "              solver=['liblinear']\n",
    "    )\n",
    "\n",
    "lr_clf1 = RandomizedSearchCV(LogisticRegression(), params1, cv=5, random_state=0, n_iter=200, scoring='f1', error_score='raise')\n",
    "search_lr1 = lr_clf1.fit(X_train, y_train)\n",
    "print(search_lr1.best_params_)\n",
    "\n",
    "lr_clf2 = RandomizedSearchCV(LogisticRegression(), params2, cv=5, random_state=0, n_iter=50, scoring='f1', error_score='raise')\n",
    "search_lr2 = lr_clf2.fit(X_train, y_train)\n",
    "print(search_lr2.best_params_)\n",
    "\n",
    "lr_clf3 = RandomizedSearchCV(LogisticRegression(), params3, cv=5, random_state=0, n_iter=25, scoring='f1', error_score='raise')\n",
    "search_lr3 = lr_clf3.fit(X_train, y_train)\n",
    "print(search_lr3.best_params_)\n",
    "\n",
    "lr_clf4 = RandomizedSearchCV(LogisticRegression(), params4, cv=5, random_state=0, n_iter=25, scoring='f1', error_score='raise')\n",
    "search_lr4 = lr_clf4.fit(X_train, y_train)\n",
    "print(search_lr4.best_params_)"
   ]
  },
  {
   "cell_type": "code",
   "execution_count": 11,
   "id": "4721a04d",
   "metadata": {},
   "outputs": [
    {
     "name": "stdout",
     "output_type": "stream",
     "text": [
      "300\n",
      "300\n"
     ]
    },
    {
     "data": {
      "text/plain": [
       "[(0.9642602273670235,\n",
       "  {'C': 3.9534953522369047,\n",
       "   'penalty': 'l1',\n",
       "   'solver': 'liblinear',\n",
       "   'tol': 0.00047999999999999996}),\n",
       " (0.9641874752866493,\n",
       "  {'C': 3.861664882079708,\n",
       "   'penalty': 'l2',\n",
       "   'solver': 'newton-cg',\n",
       "   'tol': 0.00062}),\n",
       " (0.9641874752866493,\n",
       "  {'C': 3.586186383404252,\n",
       "   'penalty': 'l2',\n",
       "   'solver': 'newton-cg',\n",
       "   'tol': 0.00035999999999999997}),\n",
       " (0.9641874752866493,\n",
       "  {'C': 3.776479003670254,\n",
       "   'penalty': 'l2',\n",
       "   'solver': 'newton-cg',\n",
       "   'tol': 0.00062}),\n",
       " (0.9641874752866493,\n",
       "  {'C': 3.7655108188259945,\n",
       "   'penalty': 'l2',\n",
       "   'solver': 'newton-cg',\n",
       "   'tol': 0.0005})]"
      ]
     },
     "execution_count": 11,
     "metadata": {},
     "output_type": "execute_result"
    }
   ],
   "source": [
    "scores_list = [search_lr1.cv_results_['mean_test_score'],\n",
    "               search_lr2.cv_results_['mean_test_score'],\n",
    "               search_lr3.cv_results_['mean_test_score'],\n",
    "               search_lr4.cv_results_['mean_test_score']]\n",
    "scores_flat = [item for sublist in scores_list for item in sublist]\n",
    "print(len(scores_flat))\n",
    "params_list = [search_lr1.cv_results_['params'],\n",
    "               search_lr2.cv_results_['params'],\n",
    "               search_lr3.cv_results_['params'],\n",
    "               search_lr4.cv_results_['params']]\n",
    "params_flat = [item for sublist in params_list for item in sublist]\n",
    "print(len(params_flat))\n",
    "\n",
    "# Get top 5 results from random LR\n",
    "res = sorted(zip(scores_flat, params_flat), \n",
    "             key = lambda x: x[0],\n",
    "             reverse=True)\n",
    "res[0:5]"
   ]
  },
  {
   "cell_type": "code",
   "execution_count": 12,
   "id": "e507763b",
   "metadata": {},
   "outputs": [
    {
     "name": "stdout",
     "output_type": "stream",
     "text": [
      "grid_LR_newton_cg 0.986046511627907\n",
      "grid_LR_newton_cg 0.9722186217343032\n",
      "grid_LR_newton_cg {'classifier__C': 3.586186383404252, 'classifier__penalty': 'l2', 'classifier__solver': 'newton-cg', 'classifier__tol': 0.00035999999999999997}\n",
      "\n",
      "grid_LR_liblinear 0.986046511627907\n",
      "grid_LR_liblinear 0.9722186217343032\n",
      "grid_LR_liblinear {'classifier__C': 3.4534953522369047, 'classifier__penalty': 'l2', 'classifier__solver': 'liblinear', 'classifier__tol': 1e-07}\n"
     ]
    }
   ],
   "source": [
    "# LR GridSearch\n",
    "LR_pipe = Pipeline([\n",
    "    ('scale', StandardScaler()),\n",
    "    ('classifier', LogisticRegression())\n",
    "])\n",
    "\n",
    "#'solver': 'newton-cg' penalty [‘l2’, ‘none’] # only l2 in top\n",
    "# Set tol, C from min to max with 5 values\n",
    "paramsLR_newton_cg = dict(classifier__C=np.linspace(3.586186383404252, 3.861664882079708, 5), \n",
    "              classifier__penalty=['l2'],\n",
    "              classifier__tol=np.linspace(0.00035999999999999997, 0.00062, 5),\n",
    "              classifier__solver=['newton-cg']\n",
    "    )\n",
    "\n",
    "#'solver': ‘liblinear’ - [‘l1’, ‘l2’] # only liblinear is once in top so will do both\n",
    "# Set tol, C from min to max with 5 values\n",
    "paramsLR_liblinear = dict(classifier__C=np.linspace(3.9534953522369047-0.5, 3.9534953522369047-0.5, 5), \n",
    "              classifier__penalty=['l1','l2'],\n",
    "              # cannot be negative but want to get the best one, 0.000479 in also\n",
    "              classifier__tol=np.linspace(0.00047999999999999996-0.00047999999999999996+.0000001, \n",
    "                                          0.00047999999999999996+0.00047999999999999996, 5),\n",
    "              classifier__solver=['liblinear']\n",
    "    )\n",
    "\n",
    "grid_LR_newton_cg = GridSearchCV(LR_pipe, param_grid=paramsLR_newton_cg, cv=kfold, n_jobs=4, \n",
    "                                 verbose=0, scoring='f1', error_score='raise')\n",
    "grid_LR_newton_cg.fit(X_train, y_train)\n",
    "\n",
    "grid_LR_liblinear = GridSearchCV(LR_pipe, param_grid=paramsLR_liblinear, cv=kfold, n_jobs=4, \n",
    "                                 verbose=0, scoring='f1', error_score='raise')\n",
    "grid_LR_liblinear.fit(X_train, y_train)\n",
    "\n",
    "## what are best params for LogisticRegression? get `f1` score on the test data\n",
    "print(\"grid_LR_newton_cg\", grid_LR_newton_cg.score(X_test, y_test))\n",
    "print(\"grid_LR_newton_cg\", grid_LR_newton_cg.best_score_)\n",
    "print(\"grid_LR_newton_cg\", grid_LR_newton_cg.best_params_)\n",
    "print()\n",
    "\n",
    "print(\"grid_LR_liblinear\", grid_LR_liblinear.score(X_test, y_test))\n",
    "print(\"grid_LR_liblinear\", grid_LR_liblinear.best_score_)\n",
    "print(\"grid_LR_liblinear\", grid_LR_liblinear.best_params_)"
   ]
  },
  {
   "cell_type": "markdown",
   "id": "d3acba46",
   "metadata": {},
   "source": [
    "98.6% on the test data.  Better than best score on training of 97.2%.  Best params were tied:\n",
    "\n",
    "`paramsLR = dict(classifier__C=3.586186383404252, \n",
    "              classifier__penalty='l2', \n",
    "              classifier__solver='newton-cg', \n",
    "              classifier__tol=0.00035999999999999997)`\n",
    "\n",
    "or\n",
    "\n",
    "`paramsLR = dict(classifier__C=3.4534953522369047,\n",
    "              classifier__penalty='l2', \n",
    "              classifier__solver='liblinear',\n",
    "              classifier__tol=1e-07)`"
   ]
  },
  {
   "cell_type": "code",
   "execution_count": 13,
   "id": "dae620a8",
   "metadata": {},
   "outputs": [
    {
     "name": "stdout",
     "output_type": "stream",
     "text": [
      "accuracy for LogisticRegression: 0.9824561403508771\n",
      "f1-score for LogisticRegression: 0.986046511627907\n"
     ]
    },
    {
     "data": {
      "image/png": "[encoded data removed]",
      "text/plain": [
       "<Figure size 640x480 with 1 Axes>"
      ]
     },
     "metadata": {},
     "output_type": "display_data"
    }
   ],
   "source": [
    "# Accuracy and ROC AUC curve for LR\n",
    "LR_pipe = Pipeline([\n",
    "    ('scale', StandardScaler()),\n",
    "    ('classifier', LogisticRegression(C=3.586186383404252, \n",
    "                                      penalty='l2', \n",
    "                                      solver='newton-cg', \n",
    "                                      tol=0.00035999999999999997))\n",
    "])\n",
    "\n",
    "LR_pipe.fit(X_train, y_train)\n",
    "\n",
    "y_pred = LR_pipe.predict(X_test)\n",
    "\n",
    "print(\"accuracy for LogisticRegression:\", accuracy_score(y_test, y_pred))\n",
    "print(\"f1-score for LogisticRegression:\", f1_score(y_test, y_pred))\n",
    "\n",
    "fig, ax = plt.subplots()\n",
    "RocCurveDisplay.from_estimator(\n",
    "   LR_pipe, X_test, y_test, name=\"LR classifier ROC\", ax=ax)\n",
    "\n",
    "# plot coin flip\n",
    "ax.plot([0,1], [0,1], linestyle=\"--\", lw=2, color=(0.6, 0.6, 0.6), label='coin flip', alpha=0.8)\n",
    "plt.legend() # this was a lucky guess :)\n",
    "plt.show()"
   ]
  },
  {
   "cell_type": "markdown",
   "id": "e88a9c4f",
   "metadata": {},
   "source": [
    "Support-Vector Machine Classifier\n",
    "\n",
    "**Note:** SVC takes a while to run without limiting the max number of iterations and so I limited to 5000 max iterations.  This will throw `ConvergenceWarning` which I noticed and therefore ran StandardScaler even for the Randomized parameter search.  These warnings have been suppressed in the HTML output."
   ]
  },
  {
   "cell_type": "code",
   "execution_count": null,
   "id": "2976c1aa",
   "metadata": {},
   "outputs": [],
   "source": [
    "# SVC Randomized\n",
    "\n",
    "# C (Regularization parameter) float, default=1.0\n",
    "# tol float, default=1e-3\n",
    "# skipping cache size since it's small dataset\n",
    "# decision_function_shape ovr=ovo with 2 states\n",
    "\n",
    "# For SVC\n",
    "# kernel='precomputed'can only be used when passing a (n_samples, n_samples) data matrix\n",
    "params = dict(C=uniform(loc=0, scale=4), \n",
    "               gamma=['scale', 'auto'],\n",
    "               degree=np.linspace(2, 8, 7),\n",
    "               shrinking=[True, False],\n",
    "               tol=np.linspace(1e-4, 1e-2, 100),\n",
    "               class_weight=[None, 'balanced'],\n",
    "               kernel=['linear', 'poly', 'rbf', 'sigmoid']\n",
    "    )\n",
    "\n",
    "# /Users/brian/anaconda3/envs/sklearn-env/lib/python3.10/site-packages/sklearn/svm/_base.py:301: ConvergenceWarning: Solver terminated early (max_iter=5000).  Consider pre-processing your data with StandardScaler or MinMaxScaler.\n",
    "scaler = StandardScaler()\n",
    "scaler.fit(X_train)\n",
    "X_train_scaled = scaler.transform(X_train)\n",
    "\n",
    "svc_clf = RandomizedSearchCV(SVC(max_iter=5000), params, cv=5, random_state=0, n_iter=10, scoring='f1', error_score='raise')\n",
    "search_svc = svc_clf.fit(X_train_scaled, y_train)\n",
    "print(search_svc.best_params_)"
   ]
  },
  {
   "cell_type": "code",
   "execution_count": 15,
   "id": "3c4af7c8",
   "metadata": {},
   "outputs": [
    {
     "data": {
      "text/plain": [
       "[(0.9820099980586294,\n",
       "  {'C': 0.07515920174542057,\n",
       "   'class_weight': 'balanced',\n",
       "   'degree': 7.0,\n",
       "   'gamma': 'scale',\n",
       "   'kernel': 'linear',\n",
       "   'shrinking': True,\n",
       "   'tol': 0.0018000000000000002}),\n",
       " (0.9801160586646901,\n",
       "  {'C': 2.4942547871438894,\n",
       "   'class_weight': None,\n",
       "   'degree': 6.0,\n",
       "   'gamma': 'auto',\n",
       "   'kernel': 'rbf',\n",
       "   'shrinking': True,\n",
       "   'tol': 0.0089}),\n",
       " (0.9759572192513369,\n",
       "  {'C': 1.0582224484185079,\n",
       "   'class_weight': 'balanced',\n",
       "   'degree': 4.0,\n",
       "   'gamma': 'auto',\n",
       "   'kernel': 'linear',\n",
       "   'shrinking': True,\n",
       "   'tol': 0.0001}),\n",
       " (0.967672269267743,\n",
       "  {'C': 0.5734131496361856,\n",
       "   'class_weight': 'balanced',\n",
       "   'degree': 2.0,\n",
       "   'gamma': 'auto',\n",
       "   'kernel': 'rbf',\n",
       "   'shrinking': True,\n",
       "   'tol': 0.0024}),\n",
       " (0.9479772328511824,\n",
       "  {'C': 3.330479382191752,\n",
       "   'class_weight': None,\n",
       "   'degree': 2.0,\n",
       "   'gamma': 'scale',\n",
       "   'kernel': 'sigmoid',\n",
       "   'shrinking': True,\n",
       "   'tol': 0.005})]"
      ]
     },
     "execution_count": 15,
     "metadata": {},
     "output_type": "execute_result"
    }
   ],
   "source": [
    "# Get top 5 results from Randomized SVC\n",
    "res = sorted(zip(search_svc.cv_results_['mean_test_score'], search_svc.cv_results_['params']), \n",
    "             key = lambda x: x[0],\n",
    "             reverse=True)\n",
    "res[0:5]"
   ]
  },
  {
   "cell_type": "code",
   "execution_count": 39,
   "id": "2a78fc8e",
   "metadata": {},
   "outputs": [
    {
     "name": "stdout",
     "output_type": "stream",
     "text": [
      "0.986046511627907\n",
      "0.9820861219474318\n",
      "{'classifier__C': 0.07515920174542057, 'classifier__class_weight': 'balanced', 'classifier__gamma': 'scale', 'classifier__kernel': 'linear', 'classifier__shrinking': True, 'classifier__tol': 0.001077777777777778}\n"
     ]
    }
   ],
   "source": [
    "# SVC GridSearch\n",
    "SVC_pipe = Pipeline([\n",
    "    ('scale', StandardScaler()),\n",
    "    ('classifier', SVC(max_iter=5000))\n",
    "])\n",
    "\n",
    "# no degree since `poly` not in top 5\n",
    "paramsSVC = dict(classifier__C=np.linspace(0.07515920174542057, 3.330479382191752, 10), \n",
    "               classifier__gamma=['scale', 'auto'],\n",
    "               classifier__shrinking=[True, False],\n",
    "               classifier__tol=np.linspace(0.0001, 0.0089, 10),\n",
    "               classifier__class_weight=[None, 'balanced'],\n",
    "               classifier__kernel=['linear', 'rbf', 'sigmoid']\n",
    "    )\n",
    "\n",
    "\n",
    "grid_SVC = GridSearchCV(SVC_pipe, param_grid=paramsSVC, cv=kfold, n_jobs=1, verbose=0, scoring='f1')\n",
    "grid_SVC.fit(X_train, y_train)\n",
    "\n",
    "## what are best params for SVC? get `f1` score on the test data\n",
    "print(grid_SVC.score(X_test, y_test))\n",
    "print(grid_SVC.best_score_)\n",
    "print(grid_SVC.best_params_)"
   ]
  },
  {
   "cell_type": "markdown",
   "id": "c13b56fd",
   "metadata": {},
   "source": [
    "98.6% on the test data.  Better than best score on training of 98.2%.  Best params were:\n",
    "\n",
    "`paramsSVC = dict(classifier__C=0.07515920174542057, \n",
    "              classifier__class_weight='balanced', \n",
    "              classifier__gamma='scale', \n",
    "              classifier__kernel='linear', \n",
    "              classifier__shrinking=True,\n",
    "              classifier__tol=0.001077777777777778)`\n",
    "\n"
   ]
  },
  {
   "cell_type": "code",
   "execution_count": 17,
   "id": "45b93129",
   "metadata": {},
   "outputs": [
    {
     "name": "stdout",
     "output_type": "stream",
     "text": [
      "accuracy for SVC: 0.9824561403508771\n",
      "f1-score for SVC: 0.986046511627907\n"
     ]
    },
    {
     "data": {
      "image/png": "[encoded data removed]",
      "text/plain": [
       "<Figure size 640x480 with 1 Axes>"
      ]
     },
     "metadata": {},
     "output_type": "display_data"
    }
   ],
   "source": [
    "# Accuracy and ROC AUC curve for SVC best model\n",
    "SVC_pipe = Pipeline([\n",
    "    ('scale', StandardScaler()),\n",
    "    ('classifier', SVC(probability=True,\n",
    "                       C=0.07515920174542057, \n",
    "                       class_weight='balanced',\n",
    "                       gamma='scale',\n",
    "                       kernel='linear',\n",
    "                       shrinking=True,\n",
    "                       tol=0.001077777777777778))\n",
    "])\n",
    "\n",
    "SVC_pipe.fit(X_train, y_train)\n",
    "\n",
    "y_pred = SVC_pipe.predict(X_test)\n",
    "\n",
    "print(\"accuracy for SVC:\", accuracy_score(y_test, y_pred))\n",
    "print(\"f1-score for SVC:\", f1_score(y_test, y_pred))\n",
    "\n",
    "\n",
    "fig, ax = plt.subplots()\n",
    "\n",
    "RocCurveDisplay.from_estimator(\n",
    "   SVC_pipe, X_test, y_test, name=\"SVC classifier ROC\", ax=ax)\n",
    "\n",
    "# plot coin flip\n",
    "ax.plot([0,1], [0,1], linestyle=\"--\", lw=2, color=(0.6, 0.6, 0.6), label='coin flip', alpha=0.8)\n",
    "plt.legend()\n",
    "plt.show()"
   ]
  },
  {
   "cell_type": "markdown",
   "id": "f63773dd",
   "metadata": {},
   "source": [
    "Same accurracy and f1-score between LR and SVC..."
   ]
  },
  {
   "cell_type": "code",
   "execution_count": 18,
   "id": "eaebdcf9",
   "metadata": {},
   "outputs": [
    {
     "name": "stdout",
     "output_type": "stream",
     "text": [
      "{'n_estimators': 140, 'min_samples_split': 2, 'min_samples_leaf': 1, 'min_impurity_decrease': 0.0, 'max_features': None, 'max_depth': 19, 'criterion': 'entropy', 'class_weight': 'balanced'}\n"
     ]
    }
   ],
   "source": [
    "# EXTremely RAndomized (EXTRA) trees Randomized\n",
    "\n",
    "# min_samples_split must be > 2 ??\n",
    "# For EXTRA\n",
    "params = dict(max_features=['sqrt','log2',None], \n",
    "              min_impurity_decrease=np.linspace(0.0, 5.0, 100),\n",
    "              max_depth=np.arange(1, 30, dtype=int),\n",
    "              n_estimators=range(10,500,10),\n",
    "              criterion=['gini', 'entropy', 'log_loss'],\n",
    "              min_samples_split=range(2,10,10),\n",
    "              min_samples_leaf=range(1,10,10),\n",
    "              class_weight=['balanced', 'balanced_subsample', None]\n",
    "    )\n",
    "\n",
    "# ValueError: The dual coefficients or intercepts are not finite. The input data may contain large values and need to bepreprocessed.\n",
    "# Use standardard scaler from SVC above: X_train_scaled = scaler.transform(X_train)\n",
    "\n",
    "EXTRA_clf = RandomizedSearchCV(ExtraTreesClassifier(), params, cv=5, random_state=0, n_iter=300, scoring='f1', error_score='raise')\n",
    "search_EXTRA = EXTRA_clf.fit(X_train, y_train)\n",
    "print(search_EXTRA.best_params_)"
   ]
  },
  {
   "cell_type": "code",
   "execution_count": 19,
   "id": "4e00c965",
   "metadata": {},
   "outputs": [
    {
     "data": {
      "text/plain": [
       "[(0.9702558726460883,\n",
       "  {'n_estimators': 140,\n",
       "   'min_samples_split': 2,\n",
       "   'min_samples_leaf': 1,\n",
       "   'min_impurity_decrease': 0.0,\n",
       "   'max_features': None,\n",
       "   'max_depth': 19,\n",
       "   'criterion': 'entropy',\n",
       "   'class_weight': 'balanced'}),\n",
       " (0.9660978097809781,\n",
       "  {'n_estimators': 320,\n",
       "   'min_samples_split': 2,\n",
       "   'min_samples_leaf': 1,\n",
       "   'min_impurity_decrease': 0.0,\n",
       "   'max_features': 'sqrt',\n",
       "   'max_depth': 7,\n",
       "   'criterion': 'log_loss',\n",
       "   'class_weight': 'balanced_subsample'}),\n",
       " (0.9557049701331565,\n",
       "  {'n_estimators': 190,\n",
       "   'min_samples_split': 2,\n",
       "   'min_samples_leaf': 1,\n",
       "   'min_impurity_decrease': 0.050505050505050504,\n",
       "   'max_features': 'log2',\n",
       "   'max_depth': 20,\n",
       "   'criterion': 'gini',\n",
       "   'class_weight': 'balanced_subsample'}),\n",
       " (0.9528807974272606,\n",
       "  {'n_estimators': 190,\n",
       "   'min_samples_split': 2,\n",
       "   'min_samples_leaf': 1,\n",
       "   'min_impurity_decrease': 0.050505050505050504,\n",
       "   'max_features': None,\n",
       "   'max_depth': 13,\n",
       "   'criterion': 'gini',\n",
       "   'class_weight': None}),\n",
       " (0.9526073144536064,\n",
       "  {'n_estimators': 450,\n",
       "   'min_samples_split': 2,\n",
       "   'min_samples_leaf': 1,\n",
       "   'min_impurity_decrease': 0.15151515151515152,\n",
       "   'max_features': 'sqrt',\n",
       "   'max_depth': 9,\n",
       "   'criterion': 'gini',\n",
       "   'class_weight': 'balanced_subsample'})]"
      ]
     },
     "execution_count": 19,
     "metadata": {},
     "output_type": "execute_result"
    }
   ],
   "source": [
    "# Get top 5 results from EXTRA trees\n",
    "res = sorted(zip(search_EXTRA.cv_results_['mean_test_score'], search_EXTRA.cv_results_['params']), \n",
    "             key = lambda x: x[0],\n",
    "             reverse=True)\n",
    "res[0:5]"
   ]
  },
  {
   "cell_type": "code",
   "execution_count": 57,
   "id": "a1f8b669",
   "metadata": {},
   "outputs": [
    {
     "name": "stdout",
     "output_type": "stream",
     "text": [
      "Fitting 5 folds for each of 1800 candidates, totalling 9000 fits\n",
      "0.981651376146789\n",
      "0.976232844388138\n",
      "{'classifier__class_weight': 'balanced', 'classifier__criterion': 'gini', 'classifier__max_depth': 19, 'classifier__max_features': None, 'classifier__min_impurity_decrease': 0.0, 'classifier__min_samples_leaf': 1, 'classifier__min_samples_split': 2, 'classifier__n_estimators': 480}\n"
     ]
    }
   ],
   "source": [
    "# EXTRA trees GridSearch \n",
    "EXTRA_pipe = Pipeline([\n",
    "    ('scale', StandardScaler()),\n",
    "    ('classifier', ExtraTreesClassifier())\n",
    "])\n",
    "\n",
    "\n",
    "paramsEXTRA = dict(classifier__n_estimators=[100,140,210,320,450,480], \n",
    "               classifier__min_samples_split=[2],\n",
    "               classifier__min_samples_leaf=[1],\n",
    "               classifier__min_impurity_decrease=np.linspace(0.0, 0.30303030303030304, 5),\n",
    "               classifier__max_features=[None, 'sqrt'],\n",
    "               classifier__max_depth=[1,7,11,19,25],\n",
    "               classifier__criterion=['gini', 'entropy', 'log_loss'],\n",
    "               classifier__class_weight=['balanced', 'balanced_subsample']\n",
    "    )\n",
    "\n",
    "\n",
    "grid_EXTRA = GridSearchCV(EXTRA_pipe, param_grid=paramsEXTRA, cv=kfold, n_jobs=16, verbose=1, scoring='f1', error_score='raise')\n",
    "grid_EXTRA.fit(X_train, y_train)\n",
    "\n",
    "## what are best params for SVC? get `f1` score on the test data\n",
    "print(grid_EXTRA.score(X_test, y_test))\n",
    "print(grid_EXTRA.best_score_)\n",
    "print(grid_EXTRA.best_params_)"
   ]
  },
  {
   "cell_type": "code",
   "execution_count": 21,
   "id": "14b05a3d",
   "metadata": {},
   "outputs": [
    {
     "name": "stdout",
     "output_type": "stream",
     "text": [
      "0.981651376146789\n",
      "0.9763910259672455\n",
      "{'classifier__class_weight': 'balanced', 'classifier__criterion': 'gini', 'classifier__max_depth': 19, 'classifier__max_features': None, 'classifier__min_impurity_decrease': 0.0, 'classifier__min_samples_leaf': 1, 'classifier__min_samples_split': 2, 'classifier__n_estimators': 100}\n"
     ]
    }
   ],
   "source": [
    "print(grid_EXTRA.score(X_test, y_test))\n",
    "print(grid_EXTRA.best_score_)\n",
    "print(grid_EXTRA.best_params_)"
   ]
  },
  {
   "cell_type": "markdown",
   "id": "eb652ea5",
   "metadata": {},
   "source": [
    "98.16% on the test data.  Better than best score on training of 98.02%.  Best params were:\n",
    "\n",
    "`{'classifier__class_weight': 'balanced_subsample', 'classifier__criterion': 'entropy', 'classifier__max_depth': 25, 'classifier__max_features': None, 'classifier__min_impurity_decrease': 0.0, 'classifier__min_samples_leaf': 1, 'classifier__min_samples_split': 2, 'classifier__n_estimators': 140}`"
   ]
  },
  {
   "cell_type": "code",
   "execution_count": 22,
   "id": "20c6e09e",
   "metadata": {},
   "outputs": [
    {
     "name": "stdout",
     "output_type": "stream",
     "text": [
      "accuracy for ExtraTreesClassifier: 0.9766081871345029\n",
      "f1-score for ExtraTreesClassifier: 0.981651376146789\n"
     ]
    },
    {
     "data": {
      "image/png": "[encoded data removed]",
      "text/plain": [
       "<Figure size 640x480 with 1 Axes>"
      ]
     },
     "metadata": {},
     "output_type": "display_data"
    }
   ],
   "source": [
    "# Accuracy and ROC AUC curve for EXTRA trees\n",
    "EXTRA_pipe = Pipeline([\n",
    "    ('scale', StandardScaler()),\n",
    "    ('classifier', ExtraTreesClassifier(class_weight='balanced_subsample', \n",
    "                                        criterion='entropy',\n",
    "                                        max_depth=25,\n",
    "                                        max_features=None,\n",
    "                                        min_impurity_decrease=0.0,\n",
    "                                        min_samples_leaf=1,\n",
    "                                        min_samples_split=2,\n",
    "                                        n_estimators=140))\n",
    "])\n",
    "\n",
    "EXTRA_pipe.fit(X_train, y_train)\n",
    "\n",
    "y_pred = EXTRA_pipe.predict(X_test)\n",
    "\n",
    "print(\"accuracy for ExtraTreesClassifier:\", accuracy_score(y_test, y_pred))\n",
    "print(\"f1-score for ExtraTreesClassifier:\", f1_score(y_test, y_pred))\n",
    "\n",
    "\n",
    "fig, ax = plt.subplots()\n",
    "RocCurveDisplay.from_estimator(\n",
    "   EXTRA_pipe, X_test, y_test, name=\"EXTRA Trees classifier ROC\", ax=ax)\n",
    "\n",
    "# plot coin flip\n",
    "ax.plot([0,1], [0,1], linestyle=\"--\", lw=2, color=(0.6, 0.6, 0.6), label='coin flip', alpha=0.8)\n",
    "plt.legend()\n",
    "plt.show()"
   ]
  },
  {
   "cell_type": "code",
   "execution_count": 61,
   "id": "783f34aa",
   "metadata": {},
   "outputs": [
    {
     "name": "stdout",
     "output_type": "stream",
     "text": [
      "Fitting 5 folds for each of 300 candidates, totalling 1500 fits\n",
      "{'reg_alpha': 0.06210204081632653, 'n_estimators': 720, 'max_depth': 14, 'learning_rate': 0.2023673469387755}\n"
     ]
    }
   ],
   "source": [
    "# XGB Random search\n",
    "import xgboost as xgb\n",
    "\n",
    "params_xgb = {'n_estimators': range(100,1000,20),\n",
    "             'max_depth': np.arange(1, 30, dtype=int),\n",
    "             'learning_rate': np.linspace(0.001,0.3,num=50),\n",
    "             'reg_alpha': np.linspace(0.001,0.5,num=50)}\n",
    "\n",
    "xboost = xgb.XGBClassifier()\n",
    "\n",
    "xgb_clf = RandomizedSearchCV(xboost, params_xgb, cv=5, random_state=0, n_iter=300, scoring='f1',\n",
    "                             error_score='raise', verbose=1)\n",
    "search_xgb = xgb_clf.fit(X_train, y_train)\n",
    "print(search_xgb.best_params_)"
   ]
  },
  {
   "cell_type": "code",
   "execution_count": 24,
   "id": "a45796c7",
   "metadata": {},
   "outputs": [
    {
     "name": "stdout",
     "output_type": "stream",
     "text": [
      "300\n"
     ]
    },
    {
     "data": {
      "text/plain": [
       "[(0.978097033232735,\n",
       "  {'reg_alpha': 0.06210204081632653,\n",
       "   'n_estimators': 720,\n",
       "   'max_depth': 14,\n",
       "   'learning_rate': 0.2023673469387755}),\n",
       " (0.978097033232735,\n",
       "  {'reg_alpha': 0.08246938775510204,\n",
       "   'n_estimators': 800,\n",
       "   'max_depth': 9,\n",
       "   'learning_rate': 0.11693877551020407}),\n",
       " (0.978097033232735,\n",
       "  {'reg_alpha': 0.16393877551020408,\n",
       "   'n_estimators': 940,\n",
       "   'max_depth': 3,\n",
       "   'learning_rate': 0.22677551020408163}),\n",
       " (0.978097033232735,\n",
       "  {'reg_alpha': 0.12320408163265306,\n",
       "   'n_estimators': 700,\n",
       "   'max_depth': 12,\n",
       "   'learning_rate': 0.27559183673469384}),\n",
       " (0.978097033232735,\n",
       "  {'reg_alpha': 0.06210204081632653,\n",
       "   'n_estimators': 620,\n",
       "   'max_depth': 11,\n",
       "   'learning_rate': 0.2023673469387755})]"
      ]
     },
     "execution_count": 24,
     "metadata": {},
     "output_type": "execute_result"
    }
   ],
   "source": [
    "# Get top 5 results from Randomized XGB\n",
    "res = sorted(zip(search_xgb.cv_results_['mean_test_score'], search_xgb.cv_results_['params']), \n",
    "             key = lambda x: x[0],\n",
    "             reverse=True)\n",
    "print(len(res))\n",
    "res[0:5]"
   ]
  },
  {
   "cell_type": "code",
   "execution_count": 58,
   "id": "39ac31f1",
   "metadata": {},
   "outputs": [
    {
     "name": "stdout",
     "output_type": "stream",
     "text": [
      "Fitting 5 folds for each of 625 candidates, totalling 3125 fits\n",
      "0.986046511627907\n",
      "0.9759515687463104\n",
      "{'classifier__learning_rate': 0.1566020408163265, 'classifier__max_depth': 3, 'classifier__n_estimators': 620, 'classifier__reg_alpha': 0.16393877551020408}\n"
     ]
    }
   ],
   "source": [
    "# XGB GridSearch \n",
    "XGB_pipe = Pipeline([\n",
    "    ('scale', StandardScaler()),\n",
    "    ('classifier', xgb.XGBClassifier())\n",
    "])\n",
    "\n",
    "\n",
    "paramsXGB = dict(classifier__n_estimators=[620,700,720,800,940], \n",
    "               classifier__max_depth=[3,9,11,12,14],\n",
    "               classifier__learning_rate=np.linspace(0.11693877551020407, 0.27559183673469384, 5), \n",
    "               classifier__reg_alpha=np.linspace(0.06210204081632653, 0.16393877551020408, 5),\n",
    "    )\n",
    "# paramsXGB = dict(classifier__n_estimators=[620,], \n",
    "#                classifier__max_depth=[3,6],\n",
    "#                classifier__learning_rate=np.linspace(0.11693877551020407, 0.27559183673469384, 2), \n",
    "#                classifier__reg_alpha=np.linspace(0.06210204081632653, 0.16393877551020408, 2),\n",
    "#     )\n",
    "\n",
    "\n",
    "grid_XGB = GridSearchCV(XGB_pipe, param_grid=paramsXGB, cv=kfold, n_jobs=1, \n",
    "                        verbose=1, scoring='f1', error_score='raise')\n",
    "grid_XGB.fit(X_train, y_train)\n",
    "\n",
    "## what are best params for SVC? get `f1` score on the test data\n",
    "print(grid_XGB.score(X_test, y_test))\n",
    "print(grid_XGB.best_score_)\n",
    "print(grid_XGB.best_params_)"
   ]
  },
  {
   "cell_type": "markdown",
   "id": "e0f2a4fe",
   "metadata": {},
   "source": [
    "98.6% on the test data.  Better than best score on training of 97.6%.  Best params were:\n",
    "\n",
    "`{'classifier__learning_rate': 0.1566020408163265, 'classifier__max_depth': 3, 'classifier__n_estimators': 620, 'classifier__reg_alpha': 0.16393877551020408}`"
   ]
  },
  {
   "cell_type": "code",
   "execution_count": 26,
   "id": "616f73ca",
   "metadata": {},
   "outputs": [
    {
     "name": "stdout",
     "output_type": "stream",
     "text": [
      "accuracy for XGB: 0.9824561403508771\n",
      "f1-score for XGB: 0.986046511627907\n"
     ]
    },
    {
     "data": {
      "image/png": "[encoded data removed]",
      "text/plain": [
       "<Figure size 640x480 with 1 Axes>"
      ]
     },
     "metadata": {},
     "output_type": "display_data"
    }
   ],
   "source": [
    "# Accuracy and ROC AUC curve for XGBoost\n",
    "XGB_pipe = Pipeline([\n",
    "    ('scale', StandardScaler()),\n",
    "    ('classifier', xgb.XGBClassifier(learning_rate=0.1566020408163265,\n",
    "                                     max_depth=3,\n",
    "                                     n_estimators=620,\n",
    "                                     reg_alpha=0.16393877551020408))\n",
    "])\n",
    "\n",
    "XGB_pipe.fit(X_train, y_train)\n",
    "\n",
    "y_pred = XGB_pipe.predict(X_test)\n",
    "\n",
    "print(\"accuracy for XGB:\", accuracy_score(y_test, y_pred))\n",
    "print(\"f1-score for XGB:\", f1_score(y_test, y_pred))\n",
    "\n",
    "\n",
    "fig, ax = plt.subplots()\n",
    "RocCurveDisplay.from_estimator(\n",
    "   XGB_pipe, X_test, y_test, name=\"XGBoost Trees classifier ROC\", ax=ax)\n",
    "\n",
    "# plot coin flip\n",
    "ax.plot([0,1], [0,1], linestyle=\"--\", lw=2, color=(0.6, 0.6, 0.6), label='coin flip', alpha=0.8)\n",
    "plt.legend()\n",
    "plt.show()"
   ]
  },
  {
   "cell_type": "markdown",
   "id": "6ebe07fe",
   "metadata": {},
   "source": [
    "Input the final best models of\n",
    "your 5 classifiers using the mlxtend package to the second level classifiers, voting\n",
    "classifier and stacking classifier. For the stacking classifier use the logistic regression as a\n",
    "meta-classifier with the default parameters. Calculate the accuracy, the f1 score, and the\n",
    "ROC AUC score for the initial 5 best models and the 2 second-level classifiers and\n",
    "comment on the results."
   ]
  },
  {
   "cell_type": "code",
   "execution_count": 37,
   "id": "e7f8bed0",
   "metadata": {},
   "outputs": [
    {
     "name": "stdout",
     "output_type": "stream",
     "text": [
      "accuracy for EnsembleVoteClassifier, voting='soft': 0.9766081871345029\n",
      "f1-score for EnsembleVoteClassifier, voting='soft': 0.9814814814814815\n",
      "\n",
      "accuracy for EnsembleVoteClassifier, voting='hard' + weights: 0.9824561403508771\n",
      "f1-score for EnsembleVoteClassifier, voting='hard' + weights: 0.986046511627907\n",
      "\n",
      "accuracy for EnsembleVoteClassifier, voting='hard': 0.9883040935672515\n",
      "f1-score for EnsembleVoteClassifier, voting='hard': 0.9907407407407407\n"
     ]
    }
   ],
   "source": [
    "# MLextend Voting Classifier (probably similar to sklearn.ensemble.VotingClassifier)\n",
    "from mlxtend.plotting import plot_decision_regions\n",
    "from mlxtend.classifier import EnsembleVoteClassifier\n",
    "\n",
    "clf_LDA_pipe = Pipeline([\n",
    "    ('scale', StandardScaler()),\n",
    "    ('classifier', LinearDiscriminantAnalysis(solver='eigen',\n",
    "                                      tol=0.00031999999999999997,\n",
    "                                      store_covariance=True,\n",
    "                                      covariance_estimator=None))\n",
    "])\n",
    "\n",
    "clf_LR_pipe = Pipeline([\n",
    "    ('scale', StandardScaler()),\n",
    "    ('classifier', LogisticRegression(C=3.586186383404252, \n",
    "                                      penalty='l2', \n",
    "                                      solver='newton-cg', \n",
    "                                      tol=0.00035999999999999997))\n",
    "])\n",
    "\n",
    "clf_SVC_pipe = Pipeline([\n",
    "    ('scale', StandardScaler()),\n",
    "    ('classifier', SVC(probability=True,\n",
    "                       C=0.07515920174542057, \n",
    "                       class_weight='balanced',\n",
    "                       gamma='scale',\n",
    "                       kernel='linear',\n",
    "                       shrinking=True,\n",
    "                       tol=0.001077777777777778))\n",
    "])\n",
    "\n",
    "clf_EXTRA_pipe = Pipeline([\n",
    "    ('scale', StandardScaler()),\n",
    "    ('classifier', ExtraTreesClassifier(class_weight='balanced_subsample', \n",
    "                                        criterion='entropy',\n",
    "                                        max_depth=25,\n",
    "                                        max_features=None,\n",
    "                                        min_impurity_decrease=0.0,\n",
    "                                        min_samples_leaf=1,\n",
    "                                        min_samples_split=2,\n",
    "                                        n_estimators=140))\n",
    "])\n",
    "\n",
    "clf_XGB_pipe = Pipeline([\n",
    "    ('scale', StandardScaler()),\n",
    "    ('classifier', xgb.XGBClassifier(learning_rate=0.1566020408163265,\n",
    "                                     max_depth=3,\n",
    "                                     n_estimators=620,\n",
    "                                     reg_alpha=0.16393877551020408))\n",
    "])\n",
    "\n",
    "\n",
    "\n",
    "# do Soft first with uniform weights; Uses uniform weights if None\n",
    "# In multi-label classification, this is the subset accuracy\n",
    "#     which is a harsh metric since you require for each sample that\n",
    "#     each label set be correctly predicted.\n",
    "eclf = EnsembleVoteClassifier(clfs=[clf_LDA_pipe, clf_LR_pipe, clf_SVC_pipe, clf_EXTRA_pipe, clf_XGB_pipe], \n",
    "                              voting='soft', weights = [1,5,5,3,3])\n",
    "eclf.fit(X_train, y_train)\n",
    "y_pred = eclf.predict(X_test)\n",
    "\n",
    "print(\"accuracy for EnsembleVoteClassifier, voting='soft':\", accuracy_score(y_test, y_pred))\n",
    "print(\"f1-score for EnsembleVoteClassifier, voting='soft':\", f1_score(y_test, y_pred))\n",
    "print()\n",
    "\n",
    "\n",
    "# hard next with weights LR,SVC,XGB > EXTRA > LDA \n",
    "eclf_hard = EnsembleVoteClassifier(clfs=[clf_LDA_pipe, clf_LR_pipe, clf_SVC_pipe, clf_EXTRA_pipe, clf_XGB_pipe], \n",
    "                              voting='hard', weights = [1,5,5,3,5])\n",
    "eclf_hard.fit(X_train, y_train)\n",
    "y_pred = eclf_hard.predict(X_test)\n",
    "\n",
    "print(\"accuracy for EnsembleVoteClassifier, voting='hard' + weights:\", accuracy_score(y_test, y_pred))\n",
    "print(\"f1-score for EnsembleVoteClassifier, voting='hard' + weights:\", f1_score(y_test, y_pred))\n",
    "print()\n",
    "\n",
    "# hard next without weights\n",
    "eclf_hard = EnsembleVoteClassifier(clfs=[clf_LDA_pipe, clf_LR_pipe, clf_SVC_pipe, clf_EXTRA_pipe, clf_XGB_pipe], \n",
    "                              voting='hard')\n",
    "eclf_hard.fit(X_train, y_train)\n",
    "y_pred = eclf_hard.predict(X_test)\n",
    "\n",
    "print(\"accuracy for EnsembleVoteClassifier, voting='hard':\", accuracy_score(y_test, y_pred))\n",
    "print(\"f1-score for EnsembleVoteClassifier, voting='hard':\", f1_score(y_test, y_pred))"
   ]
  },
  {
   "cell_type": "code",
   "execution_count": 34,
   "id": "3a359094",
   "metadata": {},
   "outputs": [
    {
     "data": {
      "image/png": "[encoded data removed]",
      "text/plain": [
       "<Figure size 640x480 with 1 Axes>"
      ]
     },
     "metadata": {},
     "output_type": "display_data"
    }
   ],
   "source": [
    "fig, ax = plt.subplots()\n",
    "RocCurveDisplay.from_estimator(\n",
    "   eclf, X_test, y_test, name=\"EnsembleVoteClassifier - Hard Vote ROC\", ax=ax)\n",
    "\n",
    "# plot coin flip\n",
    "ax.plot([0,1], [0,1], linestyle=\"--\", lw=2, color=(0.6, 0.6, 0.6), label='coin flip', alpha=0.8)\n",
    "plt.legend()\n",
    "plt.show()\n",
    "blue = ax.get_lines()[0].get_color() # which color blue?"
   ]
  },
  {
   "cell_type": "markdown",
   "id": "b202203b",
   "metadata": {},
   "source": [
    "EnsembleVoteClassifier doesn't get any better accurracy than that of LR, SVC, or XGB at 0.9824561403508771 accurracy."
   ]
  },
  {
   "cell_type": "code",
   "execution_count": 30,
   "id": "a0334a41",
   "metadata": {},
   "outputs": [
    {
     "name": "stdout",
     "output_type": "stream",
     "text": [
      "accuracy for StackingClassifier, voting='hard': 0.9883040935672515\n",
      "f1-score for StackingClassifier, voting='hard': 0.9907407407407407\n"
     ]
    }
   ],
   "source": [
    "from mlxtend.classifier import StackingClassifier\n",
    "\n",
    "# Starting from v0.16.0, StackingCVRegressor supports\n",
    "# `random_state` to get deterministic result.\n",
    "sclf = StackingClassifier(classifiers=[clf_LDA_pipe, clf_LR_pipe, clf_SVC_pipe, clf_EXTRA_pipe, clf_XGB_pipe],\n",
    "                          meta_classifier=LogisticRegression())\n",
    "\n",
    "sclf.fit(X_train, y_train)\n",
    "y_pred = sclf.predict(X_test)\n",
    "\n",
    "print(\"accuracy for StackingClassifier, voting='hard':\", accuracy_score(y_test, y_pred))\n",
    "print(\"f1-score for StackingClassifier, voting='hard':\", f1_score(y_test, y_pred))\n"
   ]
  },
  {
   "cell_type": "code",
   "execution_count": 32,
   "id": "c21db590",
   "metadata": {},
   "outputs": [
    {
     "data": {
      "image/png": "[encoded data removed]",
      "text/plain": [
       "<Figure size 640x480 with 1 Axes>"
      ]
     },
     "metadata": {},
     "output_type": "display_data"
    },
    {
     "data": {
      "text/plain": [
       "True"
      ]
     },
     "execution_count": 32,
     "metadata": {},
     "output_type": "execute_result"
    }
   ],
   "source": [
    "from sklearn.metrics import roc_curve, auc\n",
    "\n",
    "def annot_thresh(thresh, x, y):\n",
    "    plt.annotate('%0.1f' % thresh, xy=(x, y), xytext=(.99*x+.02, .95*y), fontsize=8)\n",
    "    \n",
    "y_score = sclf.fit(X_train, y_train).decision_function(X_test)\n",
    "fpr, tpr, thresholds = roc_curve(y_test, y_score)\n",
    "area = auc(fpr, tpr)\n",
    "\n",
    "# same as in my Machine Learning course https://github.com/BJWiley233/Practical-Computer-Concepts-Files/blob/master/Python/Machine%20Learning/Assignment_4_BrianWiley.ipynb\n",
    "threshold_labels = np.around(thresholds, 2)\n",
    "# fpr_100, tpr_100 = fpr[0::100], tpr[0::100]\n",
    "\n",
    "plt.figure()\n",
    "plt.plot(fpr, tpr, color=blue,\n",
    "         lw=2, marker='.', label='ROC curve (area = %0.2f)' % area)\n",
    "plt.plot([0, 1], [0, 1], color=(0.6, 0.6, 0.6), lw=2, linestyle='--')\n",
    "plt.xlim([0.0, 1.0])\n",
    "plt.ylim([0.0, 1.05])\n",
    "plt.xlabel('False Positive Rate')\n",
    "plt.ylabel('True Positive Rate')\n",
    "plt.title('Receiver operating characteristic example')\n",
    "plt.legend(loc=\"lower right\")\n",
    "\n",
    "for i, thresh in enumerate(threshold_labels):\n",
    "    annot_thresh(thresh, fpr[i], tpr[i])\n",
    "\n",
    "\n",
    "plt.show()\n",
    "\n",
    "# Sanity check to confirm sklearn sorts the thresholds from largest to smallest.\n",
    "all(sorted(thresholds, reverse=True)[:10] == thresholds[:10])"
   ]
  },
  {
   "cell_type": "markdown",
   "id": "1c7c679f",
   "metadata": {},
   "source": [
    "#### Overall results from each 5 classifiers:\n",
    "1. LinearDiscriminantAnalysis\n",
    "    - Performed worst with accuracy 95.32% and f1-score of 96.36%\n",
    "2. LosgisticRegression\n",
    "    - As indicated running parameter hypertuning is a little more complicated with respect to the solvers and the penalty/regularization terms.  Not all solvers support all penalties\n",
    "    - Was tied for first with both Support-Vector and X-Gradient Boosting classifiers\n",
    "    - Performed best with accuracy 98.25% and f1-score of 98.6%\n",
    "3. SVC\n",
    "    - See above for LosgisticRegression\n",
    "4. ExtraTreesClassifier\n",
    "    - Performed second worst with accuracy 97.66% and f1-score of 98.17%\n",
    "5. X-Gradient Boosting\n",
    "    - See above for LosgisticRegression\n",
    "\n",
    "\n",
    "\n",
    "#### Secondary Classifiers\n",
    "The EnsembleVoteClassifier with soft voting performed worse than just Logistic Regression, Support-Vector Machines, or XGBoost alone but not much worse.  Hard voting with weights for best three being higher and LDA being lowest weight was equal for both accurracy and f1-score to Logistic Regression, Support-Vector Machines, and XGBoost (See above for LosgisticRegression accuracy and f1-score.  Without weights the accuracy and f1-score were better and equaled exactly to the accurracy and f1-score of 98.83% and 99.07% respectively.  \n"
   ]
  }
 ],
 "metadata": {
  "kernelspec": {
   "display_name": "Python 3 (ipykernel)",
   "language": "python",
   "name": "python3"
  },
  "language_info": {
   "codemirror_mode": {
    "name": "ipython",
    "version": 3
   },
   "file_extension": ".py",
   "mimetype": "text/x-python",
   "name": "python",
   "nbconvert_exporter": "python",
   "pygments_lexer": "ipython3",
   "version": "3.10.6"
  }
 },
 "nbformat": 4,
 "nbformat_minor": 5
}
