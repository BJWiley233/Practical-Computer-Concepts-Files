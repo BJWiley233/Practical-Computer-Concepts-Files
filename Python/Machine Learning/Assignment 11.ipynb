{
 "cells": [
  {
   "cell_type": "markdown",
   "metadata": {},
   "source": [
    "<div style=\"text-align: right\"> Brian Wiley <br/>\n",
    "EN.705.601.3VL.SP20 Applied Machine Learning </div>\n",
    "\n",
    "## Assignment 11\n",
    "### Applied Machine Learning\n",
    "\n"
   ]
  },
  {
   "cell_type": "markdown",
   "metadata": {},
   "source": [
    "__1. [50 pts] In this assignment, we will use Apriori analysis to find noun phrases, or interesting patterns in a novel.\n",
    "Use nltk library corpus gutenberg API and load the novel 'carroll-alice.txt' which is the Alice in Wonderland by L. Carroll. There are 1703 sentences in the novel which can be represented as 1703 transactions. Use any means to parse/extract words and save in CSV format to be read by Weka framework similar to the Apriori Analysis module.\n",
    "Hint: Removing stop words and regular expressions can be useful:__"
   ]
  },
  {
   "cell_type": "code",
   "execution_count": 1,
   "metadata": {},
   "outputs": [
    {
     "name": "stderr",
     "output_type": "stream",
     "text": [
      "[nltk_data] Downloading package stopwords to\n",
      "[nltk_data]     C:\\Users\\bjwil\\AppData\\Roaming\\nltk_data...\n",
      "[nltk_data]   Package stopwords is already up-to-date!\n",
      "[nltk_data] Downloading package gutenberg to\n",
      "[nltk_data]     C:\\Users\\bjwil\\AppData\\Roaming\\nltk_data...\n",
      "[nltk_data]   Package gutenberg is already up-to-date!\n",
      "[nltk_data] Downloading package punkt to\n",
      "[nltk_data]     C:\\Users\\bjwil\\AppData\\Roaming\\nltk_data...\n",
      "[nltk_data]   Package punkt is already up-to-date!\n"
     ]
    }
   ],
   "source": [
    "import nltk\n",
    "import re\n",
    "import numpy as np\n",
    "from nltk.corpus import gutenberg, stopwords\n",
    "nltk.download('stopwords')\n",
    "nltk.download('gutenberg')\n",
    "nltk.download('punkt')\n",
    "\n",
    "Stop_words = stopwords.words('english')\n",
    "Sentences = gutenberg.sents('carroll-alice.txt')"
   ]
  },
  {
   "cell_type": "markdown",
   "metadata": {},
   "source": [
    "Below I casted everything to lower case because I think it would be beneficial if we had the following two sentences to proivide rule for containing both words `white` and `rabbit`\n",
    "\n",
    "1. White rabbit is here.\n",
    "2. Where is the white rabbit?\n",
    "\n",
    "or\n",
    "1. Spades vs. diamonds\n",
    "2. The spades are on the opposite side of the diamonds.\n",
    "\n",
    "These two examples of sentences are the same in each group however because one word starts at the beginning of sentence it may not get classified as a related transaction."
   ]
  },
  {
   "cell_type": "code",
   "execution_count": 2,
   "metadata": {},
   "outputs": [],
   "source": [
    "TermsSentences = []\n",
    "for terms in Sentences:\n",
    "    terms = [w.lower() for w in terms if w not in Stop_words]\n",
    "    terms = [w.lower() for w in terms if re.search(r'^[a-zA-Z]{2}', w) is not None]\n",
    "    TermsSentences.append(terms)\n",
    "    \n",
    "from collections import OrderedDict\n",
    "all_words = np.unique([item for sentence in TermsSentences for item in sentence])\n",
    "all_words_dict = OrderedDict((word, id_) for id_, word in enumerate(all_words))\n",
    "\n",
    "N = len(Sentences)\n",
    "M = len(all_words_dict)\n",
    "phrases = np.full((N,M), False, dtype=np.bool)\n",
    "\n",
    "for i, sent in enumerate(TermsSentences):\n",
    "    for term in sent:\n",
    "        phrases[i, all_words_dict[term]] = True"
   ]
  },
  {
   "cell_type": "code",
   "execution_count": 3,
   "metadata": {
    "scrolled": false
   },
   "outputs": [
    {
     "name": "stdout",
     "output_type": "stream",
     "text": [
      "(1703, 2512)\n",
      "[[0 0 0 0 0 0 0 0 0 0 0 0 0 0 0 0 0 0 0 0 0 0 0 0 0 1 0 0 0 0 0 0 0 0 0 0]\n",
      " [0 0 0 0 0 0 0 0 0 0 0 0 0 0 0 0 0 0 0 0 0 0 0 0 0 0 0 0 0 0 0 0 0 0 0 0]\n",
      " [0 0 0 0 0 0 0 0 0 0 0 0 0 0 0 0 0 0 0 0 0 0 0 0 0 0 0 0 0 0 0 0 0 0 0 0]\n",
      " [0 0 0 0 0 0 0 0 0 0 0 0 0 0 0 0 0 0 0 0 0 0 0 0 0 0 0 0 0 0 0 0 0 0 0 0]\n",
      " [0 0 0 0 0 0 0 0 0 0 0 0 0 0 0 0 0 0 0 0 0 0 0 0 0 0 0 0 0 0 0 0 0 0 0 0]\n",
      " [0 0 0 0 0 0 0 0 0 0 0 0 0 0 0 0 0 0 0 0 0 0 0 0 0 0 0 0 0 0 0 0 0 0 0 0]\n",
      " [0 0 0 0 0 0 0 0 0 0 0 0 0 0 0 0 0 0 0 0 0 0 0 0 0 0 0 0 0 0 0 0 0 0 0 0]\n",
      " [0 0 0 0 0 0 0 0 0 0 0 0 0 0 0 0 0 0 0 0 0 0 0 0 0 0 0 0 0 0 0 0 0 0 0 0]\n",
      " [0 0 0 0 0 0 0 0 0 0 0 0 0 1 0 1 0 0 0 0 0 0 0 0 0 0 0 0 0 0 0 0 0 0 0 1]\n",
      " [0 0 0 0 0 0 0 0 0 0 0 0 0 0 0 0 0 0 0 0 0 0 0 0 0 0 0 0 0 0 0 0 0 0 0 0]]\n"
     ]
    }
   ],
   "source": [
    "## check sparse matrix\n",
    "print(phrases.shape)\n",
    "print(phrases[0:10, 0:36].astype(int))"
   ]
  },
  {
   "cell_type": "code",
   "execution_count": 4,
   "metadata": {},
   "outputs": [
    {
     "name": "stdout",
     "output_type": "stream",
     "text": [
      "[  13   15   35   47  255  469  637  749  758  793  829  980 1011 1040\n",
      " 1100 1168 1257 1337 1391 1407 1447 1449 1486 1489 1593 1602 1684 1686\n",
      " 1692 1846 1849 1851 2058 2129 2189 2211 2234 2373 2394 2461]\n",
      "[  13   15   35   47  255  469  637  749  758  793  829  980 1011 1040\n",
      " 1100 1168 1257 1337 1391 1407 1447 1449 1486 1489 1593 1602 1684 1686\n",
      " 1692 1846 1849 1851 2058 2129 2189 2211 2234 2373 2394 2461]\n"
     ]
    },
    {
     "data": {
      "text/plain": [
       "True"
      ]
     },
     "execution_count": 4,
     "metadata": {},
     "output_type": "execute_result"
    }
   ],
   "source": [
    "## sanity check phrases index equal to True/1 are the same as the words in that sentence\n",
    "print(np.array(np.where(phrases[8])).flatten())\n",
    "check = np.array([all_words_dict[term] for term in np.unique(TermsSentences[8])])\n",
    "check.sort()\n",
    "print(check)\n",
    "(np.where(phrases[8])==check).all()"
   ]
  },
  {
   "cell_type": "code",
   "execution_count": 5,
   "metadata": {},
   "outputs": [],
   "source": [
    "import csv\n",
    "\n",
    "Filename = 'HW_11_weka.csv'\n",
    "\n",
    "with open(Filename, 'w') as fout:\n",
    "    writer = csv.writer(fout, delimiter=',', quoting=csv.QUOTE_ALL, quotechar=\"'\", lineterminator='\\n')\n",
    "    writer.writerow([k for k in all_words_dict.keys()])\n",
    "    for i in range(N):\n",
    "        writer.writerow(list(map(lambda x: '' if x == False else 'True',  phrases[i])))"
   ]
  },
  {
   "cell_type": "markdown",
   "metadata": {},
   "source": [
    "#### Since I want to be able to learn to run batch process to weka via commandline or through Java we will writer the data out in `.arff` format for Weka command line."
   ]
  },
  {
   "cell_type": "code",
   "execution_count": 6,
   "metadata": {},
   "outputs": [],
   "source": [
    "import re\n",
    "\n",
    "## Write in .arff format for batch running\n",
    "Filename = 'HW_11_weka.arff'\n",
    "datatype = '{True}'\n",
    "\n",
    "with open(Filename, 'w') as fout:\n",
    "    fout.writelines(\"@relation \" + re.sub('\\.[^.]*$', '', Filename) + '\\n\\n')\n",
    "    fout.writelines(\"\")\n",
    "    fout.writelines([('@attribute ' + k + ' ' + datatype + '\\n') for k in all_words_dict.keys()])\n",
    "    fout.writelines(\"\\n@data\\n\")\n",
    "    writer = csv.writer(fout, delimiter=',', lineterminator='\\n')\n",
    "    for i in range(N):\n",
    "        writer.writerow(list(map(lambda x: '?' if x == False else 'True',  phrases[i])))"
   ]
  },
  {
   "cell_type": "markdown",
   "metadata": {},
   "source": [
    "After adding weka.jar to Windoww CLASSPATH and PATH variables you can run from command line."
   ]
  },
  {
   "cell_type": "code",
   "execution_count": 7,
   "metadata": {},
   "outputs": [
    {
     "name": "stderr",
     "output_type": "stream",
     "text": [
      "\n",
      "Weka exception: No training file given!\n",
      "\n",
      "General options:\n",
      "\n",
      "-t <training file>\n",
      "\tThe name of the training file.\n",
      "-g <name of graph file>\n",
      "\tOutputs the graph representation (if supported) of the associator to a file.\n",
      "\n",
      "Options specific to FPGrowth:\n",
      "\n",
      "-P <attribute index of positive value>\n",
      "\tSet the index of the attribute value to consider as 'positive'\n",
      "\tfor binary attributes in normal dense instances. Index 2 is always\n",
      "\tused for sparse instances. (default = 2)\n",
      "-I <max items>\n",
      "\tThe maximum number of items to include in large items sets (and rules). (default = -1, i.e. no limit.)\n",
      "-N <require number of rules>\n",
      "\tThe required number of rules. (default = 10)\n",
      "-T <0=confidence | 1=lift | 2=leverage | 3=Conviction>\n",
      "\tThe metric by which to rank rules. (default = confidence)\n",
      "-C <minimum metric score of a rule>\n",
      "\tThe minimum metric score of a rule. (default = 0.9)\n",
      "-U <upper bound for minimum support>\n",
      "\tUpper bound for minimum support as a fraction or number of instances. (default = 1.0)\n",
      "-M <lower bound for minimum support>\n",
      "\tThe lower bound for the minimum support as a fraction or number of instances. (default = 0.1)\n",
      "-D <delta for minimum support>\n",
      "\tThe delta by which the minimum support is decreased in\n",
      "\teach iteration as a fraction or number of instances. (default = 0.05)\n",
      "-S\n",
      "\tFind all rules that meet the lower bound on\n",
      "\tminimum support and the minimum metric constraint.\n",
      "\tTurning this mode on will disable the iterative support reduction\n",
      "\tprocedure to find the specified number of rules.\n",
      "-transactions <comma separated list of attribute names>\n",
      "\tOnly consider transactions that contain these items (default = no restriction)\n",
      "-rules <comma separated list of attribute names>\n",
      "\tOnly print rules that contain these items. (default = no restriction)\n",
      "-use-or\n",
      "\tUse OR instead of AND for must contain list(s). Use in conjunction\n",
      "\twith -transactions and/or -rules\n",
      "\n"
     ]
    }
   ],
   "source": [
    "# check which arguments for FPGrowth we can run with\n",
    "!java weka.associations.FPGrowth --help"
   ]
  },
  {
   "cell_type": "markdown",
   "metadata": {},
   "source": [
    "Since the title is \"Alice in Wonderland\" lets first look for rules with tranactions that contain `alice`.  In order to get any reults we must frop the `confidence` to 0.5."
   ]
  },
  {
   "cell_type": "code",
   "execution_count": 8,
   "metadata": {},
   "outputs": [
    {
     "name": "stdout",
     "output_type": "stream",
     "text": [
      "FPGrowth found 10 rules (displaying top 10)"
     ]
    },
    {
     "name": "stderr",
     "output_type": "stream",
     "text": [
      "WARNING: An illegal reflective access operation has occurred\n",
      "WARNING: Illegal reflective access by weka.core.WekaPackageClassLoaderManager (file:/C:/Users/bjwil/Weka-3-8-4/weka.jar) to method java.lang.ClassLoader.defineClass(java.lang.String,byte[],int,int,java.security.ProtectionDomain)\n",
      "WARNING: Please consider reporting this to the maintainers of weka.core.WekaPackageClassLoaderManager\n",
      "WARNING: Use --illegal-access=warn to enable warnings of further illegal reflective access operations\n",
      "WARNING: All illegal access operations will be denied in a future release\n"
     ]
    },
    {
     "name": "stdout",
     "output_type": "stream",
     "text": [
      "\n",
      "\n",
      "Showing only rules that contain: alice\n",
      "\n",
      " 1. [thought=True]: 74 ==> [alice=True]: 58   <conf:(0.78)> lift:(3.43) lev:(0.02) conv:(3.36) \n",
      " 2. [much=True]: 50 ==> [alice=True]: 28   <conf:(0.56)> lift:(2.45) lev:(0.01) conv:(1.68) \n",
      " 3. [alice=True]: 389 ==> [said=True]: 163   <conf:(0.42)> lift:(1.57) lev:(0.03) conv:(1.26) \n",
      " 4. [would=True]: 70 ==> [alice=True]: 29   <conf:(0.41)> lift:(1.81) lev:(0.01) conv:(1.29) \n",
      " 5. [could=True]: 71 ==> [alice=True]: 29   <conf:(0.41)> lift:(1.79) lev:(0.01) conv:(1.27) \n",
      " 6. [like=True]: 82 ==> [alice=True]: 33   <conf:(0.4)> lift:(1.76) lev:(0.01) conv:(1.27) \n",
      " 7. [said=True]: 455 ==> [alice=True]: 163   <conf:(0.36)> lift:(1.57) lev:(0.03) conv:(1.2) \n",
      " 8. [went=True]: 82 ==> [alice=True]: 27   <conf:(0.33)> lift:(1.44) lev:(0) conv:(1.13) \n",
      " 9. [little=True]: 116 ==> [alice=True]: 37   <conf:(0.32)> lift:(1.4) lev:(0.01) conv:(1.12) \n",
      "10. [alice=True]: 389 ==> [thought=True]: 58   <conf:(0.15)> lift:(3.43) lev:(0.02) conv:(1.12) \n",
      "\n",
      "=== Evaluation ===\n",
      "\n",
      "Elapsed time: 7.192s\n",
      "\n"
     ]
    }
   ],
   "source": [
    "!java weka.associations.FPGrowth -t HW_11_weka.arff -P 2 -I -1 -N 10 -T 0 -C 0.1 -D 0.001 -U 1.0 -M 0.01 -rules alice"
   ]
  },
  {
   "cell_type": "markdown",
   "metadata": {},
   "source": [
    "Looks like the highest confidence was for `alice` and `thought` and `alice` and `said`.  Now let's check rules for highest confidence."
   ]
  },
  {
   "cell_type": "code",
   "execution_count": 9,
   "metadata": {},
   "outputs": [
    {
     "name": "stdout",
     "output_type": "stream",
     "text": [
      "FPGrowth found 7 rules (displaying top 7)"
     ]
    },
    {
     "name": "stderr",
     "output_type": "stream",
     "text": [
      "WARNING: An illegal reflective access operation has occurred\n",
      "WARNING: Illegal reflective access by weka.core.WekaPackageClassLoaderManager (file:/C:/Users/bjwil/Weka-3-8-4/weka.jar) to method java.lang.ClassLoader.defineClass(java.lang.String,byte[],int,int,java.security.ProtectionDomain)\n",
      "WARNING: Please consider reporting this to the maintainers of weka.core.WekaPackageClassLoaderManager\n",
      "WARNING: Use --illegal-access=warn to enable warnings of further illegal reflective access operations\n",
      "WARNING: All illegal access operations will be denied in a future release\n"
     ]
    },
    {
     "name": "stdout",
     "output_type": "stream",
     "text": [
      "\n",
      "\n",
      "1. [mock=True]: 56 ==> [turtle=True]: 56   <conf:(1)> lift:(29.36) lev:(0.03) conv:(54.09) \n",
      "2. [hare=True]: 30 ==> [march=True]: 30   <conf:(1)> lift:(54.94) lev:(0.02) conv:(29.45) \n",
      "3. [said=True, turtle=True]: 32 ==> [mock=True]: 32   <conf:(1)> lift:(30.41) lev:(0.02) conv:(30.95) \n",
      "4. [said=True, mock=True]: 32 ==> [turtle=True]: 32   <conf:(1)> lift:(29.36) lev:(0.02) conv:(30.91) \n",
      "5. [march=True]: 31 ==> [hare=True]: 30   <conf:(0.97)> lift:(54.94) lev:(0.02) conv:(15.23) \n",
      "6. [turtle=True]: 58 ==> [mock=True]: 56   <conf:(0.97)> lift:(29.36) lev:(0.03) conv:(18.7) \n",
      "7. [white=True]: 29 ==> [rabbit=True]: 24   <conf:(0.83)> lift:(29.99) lev:(0.01) conv:(4.7) \n",
      "\n",
      "=== Evaluation ===\n",
      "\n",
      "Elapsed time: 7.201s\n",
      "\n"
     ]
    }
   ],
   "source": [
    "!java weka.associations.FPGrowth -t HW_11_weka.arff -P 1 -I -1 -N 20 -T 0 -C 0.8 -D 0.001 -U 1.0 -M 0.01"
   ]
  },
  {
   "cell_type": "markdown",
   "metadata": {},
   "source": [
    "Looks like there are pairs as indicated in the homework question for the following:\n",
    "1. mock & turtle\n",
    "2. march & hare\n",
    "3. white & rabbit\n",
    "4. turtle said\n",
    "5. mock said\n",
    "\n",
    "Sounds like there are some talking animals in this story.\n"
   ]
  },
  {
   "cell_type": "markdown",
   "metadata": {},
   "source": [
    "__2. [50 pts] The module class NeuralNetMLP is a single hidden layer neural network implementation. Make the necessary modifications to upgrade it to a 2 hidden layer network. Run it on the MNIST dataset and report its performance.\n",
    "(Hint: Raschka, Chapter 12)__"
   ]
  },
  {
   "cell_type": "code",
   "execution_count": 1,
   "metadata": {},
   "outputs": [],
   "source": [
    "import os\n",
    "import struct\n",
    "import numpy as np\n",
    "import sys\n",
    "\n",
    "def load_mnist(path, kind='train'):\n",
    "    \"\"\"Load MNIST data from 'path'\"\"\"\n",
    "    labels_path = os.path.join(path, \n",
    "                               '%s-labels-idx1-ubyte' % kind)\n",
    "    images_path = os.path.join(path, \n",
    "                               '%s-images-idx3-ubyte' % kind)\n",
    "    \n",
    "    with open(labels_path, 'rb') as lbpath:\n",
    "        magic, n = struct.unpack('>II', \n",
    "                                 lbpath.read(8))\n",
    "        labels = np.fromfile(lbpath, \n",
    "                             dtype=np.uint8)\n",
    "    \n",
    "    with open(images_path, 'rb') as imgpath:\n",
    "        magic, num, rows, cols = struct.unpack(\">IIII\", \n",
    "                                               imgpath.read(16))\n",
    "        images = np.fromfile(imgpath, \n",
    "                             dtype=np.uint8).reshape( \n",
    "                             len(labels), 784)\n",
    "        images = ((images / 255.) - .5) * 2\n",
    "    \n",
    "    return images, labels"
   ]
  },
  {
   "cell_type": "code",
   "execution_count": 11,
   "metadata": {},
   "outputs": [
    {
     "name": "stderr",
     "output_type": "stream",
     "text": [
      "gzip: *ubyte.gz: No such file or directory\n"
     ]
    }
   ],
   "source": [
    "!gzip *ubyte.gz -d"
   ]
  },
  {
   "cell_type": "code",
   "execution_count": 12,
   "metadata": {},
   "outputs": [
    {
     "data": {
      "text/plain": [
       "(60000, 784)"
      ]
     },
     "execution_count": 12,
     "metadata": {},
     "output_type": "execute_result"
    }
   ],
   "source": [
    "path = 'datasets/'\n",
    "X_train, y_train = load_mnist(path, kind='train')\n",
    "X_test, y_test = load_mnist(path, kind='t10k')\n",
    "X_train.shape"
   ]
  },
  {
   "cell_type": "code",
   "execution_count": 13,
   "metadata": {},
   "outputs": [],
   "source": [
    "## save as compressed\n",
    "np.savez_compressed('mnist_scaled.npz', \n",
    "                     X_train=X_train, \n",
    "                     y_train=y_train, \n",
    "                     X_test=X_test, \n",
    "                     y_test=y_test)"
   ]
  },
  {
   "cell_type": "code",
   "execution_count": 14,
   "metadata": {},
   "outputs": [
    {
     "name": "stdout",
     "output_type": "stream",
     "text": [
      "X_train size (60000, 784), y_train size (60000,)\n",
      "X_test size (10000, 784), y_test size (10000,)\n"
     ]
    }
   ],
   "source": [
    "mnist = np.load('mnist_scaled.npz')\n",
    "X_train, y_train, X_test, y_test = [mnist[i] for i in mnist.files]\n",
    "print(f'X_train size {X_train.shape}, y_train size {y_train.shape}')\n",
    "print(f'X_test size {X_test.shape}, y_test size {y_test.shape}')"
   ]
  },
  {
   "cell_type": "markdown",
   "metadata": {},
   "source": [
    "Below is the standard 1-hidden layer from the textbook/[github](https://github.com/rasbt/python-machine-learning-book-3rd-edition/blob/master/ch12/neuralnet.py).  Author is Sebastian Raschka.  And below it is my edit to make it a two-hidden layer deep neural network.  I have made comments above the initialization, the feed-forward, the back propagation and the regularization with weight updates that includes matrix dimensions and page numbers for the formulas and excerpts from the text."
   ]
  },
  {
   "cell_type": "code",
   "execution_count": 15,
   "metadata": {},
   "outputs": [],
   "source": [
    "'''\n",
    "Author: Sebastian Raschka\n",
    "'''\n",
    "\n",
    "class NeuralNetMLP(object):\n",
    "    \"\"\" Feedforward neural network / Multi-layer perceptron classifier.\n",
    "    Parameters\n",
    "    ------------\n",
    "    n_hidden : int (default: 30)\n",
    "        Number of hidden units.\n",
    "    l2 : float (default: 0.)\n",
    "        Lambda value for L2-regularization.\n",
    "        No regularization if l2=0. (default)\n",
    "    epochs : int (default: 100)\n",
    "        Number of passes over the training set.\n",
    "    eta : float (default: 0.001)\n",
    "        Learning rate.\n",
    "    shuffle : bool (default: True)\n",
    "        Shuffles training data every epoch if True to prevent circles.\n",
    "    minibatch_size : int (default: 1)\n",
    "        Number of training examples per minibatch.\n",
    "    seed : int (default: None)\n",
    "        Random seed for initializing weights and shuffling.\n",
    "    Attributes\n",
    "    -----------\n",
    "    eval_ : dict\n",
    "      Dictionary collecting the cost, training accuracy,\n",
    "      and validation accuracy for each epoch during training.\n",
    "    \"\"\"\n",
    "    def __init__(self, n_hidden=30,\n",
    "                 l2=0., epochs=100, eta=0.001,\n",
    "                 shuffle=True, minibatch_size=1, seed=None):\n",
    "\n",
    "        self.random = np.random.RandomState(seed)\n",
    "        self.n_hidden = n_hidden\n",
    "        self.l2 = l2\n",
    "        self.epochs = epochs\n",
    "        self.eta = eta\n",
    "        self.shuffle = shuffle\n",
    "        self.minibatch_size = minibatch_size\n",
    "\n",
    "    def _onehot(self, y, n_classes):\n",
    "        \"\"\"Encode labels into one-hot representation\n",
    "        Parameters\n",
    "        ------------\n",
    "        y : array, shape = [n_examples]\n",
    "            Target values.\n",
    "        Returns\n",
    "        -----------\n",
    "        onehot : array, shape = (n_examples, n_labels)\n",
    "        \"\"\"\n",
    "        onehot = np.zeros((n_classes, y.shape[0]))\n",
    "        for idx, val in enumerate(y.astype(int)):\n",
    "            onehot[val, idx] = 1.\n",
    "        return onehot.T\n",
    "\n",
    "    def _sigmoid(self, z):\n",
    "        \"\"\"Compute logistic function (sigmoid)\"\"\"\n",
    "        return 1. / (1. + np.exp(-np.clip(z, -250, 250)))\n",
    "\n",
    "    def _forward(self, X):\n",
    "        \"\"\"Compute forward propagation step\"\"\"\n",
    "\n",
    "        # step 1: net input of hidden layer\n",
    "        # [n_examples, n_features] dot [n_features, n_hidden]\n",
    "        # -> [n_examples, n_hidden]\n",
    "        z_h = np.dot(X, self.w_h) + self.b_h\n",
    "\n",
    "        # step 2: activation of hidden layer\n",
    "        a_h = self._sigmoid(z_h)\n",
    "\n",
    "        # step 3: net input of output layer\n",
    "        # [n_examples, n_hidden] dot [n_hidden, n_classlabels]\n",
    "        # -> [n_examples, n_classlabels]\n",
    "\n",
    "        z_out = np.dot(a_h, self.w_out) + self.b_out\n",
    "\n",
    "        # step 4: activation output layer\n",
    "        a_out = self._sigmoid(z_out)\n",
    "\n",
    "        return z_h, a_h, z_out, a_out\n",
    "\n",
    "    def _compute_cost(self, y_enc, output):\n",
    "        \"\"\"Compute cost function.\n",
    "        Parameters\n",
    "        ----------\n",
    "        y_enc : array, shape = (n_examples, n_labels)\n",
    "            one-hot encoded class labels.\n",
    "        output : array, shape = [n_examples, n_output_units]\n",
    "            Activation of the output layer (forward propagation)\n",
    "        Returns\n",
    "        ---------\n",
    "        cost : float\n",
    "            Regularized cost\n",
    "        \"\"\"\n",
    "        L2_term = (self.l2 *\n",
    "                   (np.sum(self.w_h ** 2.) +\n",
    "                    np.sum(self.w_out ** 2.)))\n",
    "\n",
    "        term1 = -y_enc * (np.log(output))\n",
    "        term2 = (1. - y_enc) * np.log(1. - output)\n",
    "        cost = np.sum(term1 - term2) + L2_term\n",
    "        \n",
    "        # If you are applying this cost function to other\n",
    "        # datasets where activation\n",
    "        # values maybe become more extreme (closer to zero or 1)\n",
    "        # you may encounter \"ZeroDivisionError\"s due to numerical\n",
    "        # instabilities in Python & NumPy for the current implementation.\n",
    "        # I.e., the code tries to evaluate log(0), which is undefined.\n",
    "        # To address this issue, you could add a small constant to the\n",
    "        # activation values that are passed to the log function.\n",
    "        #\n",
    "        # For example:\n",
    "        #\n",
    "        # term1 = -y_enc * (np.log(output + 1e-5))\n",
    "        # term2 = (1. - y_enc) * np.log(1. - output + 1e-5)\n",
    "        \n",
    "        return cost\n",
    "\n",
    "    def predict(self, X):\n",
    "        \"\"\"Predict class labels\n",
    "        Parameters\n",
    "        -----------\n",
    "        X : array, shape = [n_examples, n_features]\n",
    "            Input layer with original features.\n",
    "        Returns:\n",
    "        ----------\n",
    "        y_pred : array, shape = [n_examples]\n",
    "            Predicted class labels.\n",
    "        \"\"\"\n",
    "        z_h, a_h, z_out, a_out = self._forward(X)\n",
    "        y_pred = np.argmax(z_out, axis=1)\n",
    "        return y_pred\n",
    "\n",
    "    def fit(self, X_train, y_train, X_valid, y_valid):\n",
    "        \"\"\" Learn weights from training data.\n",
    "        Parameters\n",
    "        -----------\n",
    "        X_train : array, shape = [n_examples, n_features]\n",
    "            Input layer with original features.\n",
    "        y_train : array, shape = [n_examples]\n",
    "            Target class labels.\n",
    "        X_valid : array, shape = [n_examples, n_features]\n",
    "            Sample features for validation during training\n",
    "        y_valid : array, shape = [n_examples]\n",
    "            Sample labels for validation during training\n",
    "        Returns:\n",
    "        ----------\n",
    "        self\n",
    "        \"\"\"\n",
    "        n_output = np.unique(y_train).shape[0]  # number of class labels\n",
    "        n_features = X_train.shape[1]\n",
    "\n",
    "        ########################\n",
    "        # Weight initialization\n",
    "        ########################\n",
    "\n",
    "        # weights for input -> hidden\n",
    "        self.b_h = np.zeros(self.n_hidden)\n",
    "        self.w_h = self.random.normal(loc=0.0, scale=0.1,\n",
    "                                      size=(n_features, self.n_hidden))\n",
    "\n",
    "        # weights for hidden -> output\n",
    "        self.b_out = np.zeros(n_output)\n",
    "        self.w_out = self.random.normal(loc=0.0, scale=0.1,\n",
    "                                        size=(self.n_hidden, n_output))\n",
    "\n",
    "        epoch_strlen = len(str(self.epochs))  # for progress formatting\n",
    "        self.eval_ = {'cost': [], 'train_acc': [], 'valid_acc': []}\n",
    "\n",
    "        y_train_enc = self._onehot(y_train, n_output)\n",
    "\n",
    "        # iterate over training epochs\n",
    "        for i in range(self.epochs):\n",
    "\n",
    "            # iterate over minibatches\n",
    "            indices = np.arange(X_train.shape[0])\n",
    "\n",
    "            if self.shuffle:\n",
    "                self.random.shuffle(indices)\n",
    "\n",
    "            for start_idx in range(0, indices.shape[0] - self.minibatch_size +\n",
    "                                   1, self.minibatch_size):\n",
    "                batch_idx = indices[start_idx:start_idx + self.minibatch_size]\n",
    "\n",
    "                # forward propagation\n",
    "                z_h, a_h, z_out, a_out = self._forward(X_train[batch_idx])\n",
    "\n",
    "                ##################\n",
    "                # Backpropagation\n",
    "                ##################\n",
    "\n",
    "                # [n_examples, n_classlabels]\n",
    "                delta_out = a_out - y_train_enc[batch_idx]\n",
    "\n",
    "                # [n_examples, n_hidden]\n",
    "                sigmoid_derivative_h = a_h * (1. - a_h)\n",
    "\n",
    "                # [n_examples, n_classlabels] dot [n_classlabels, n_hidden]\n",
    "                # -> [n_examples, n_hidden]\n",
    "                delta_h = (np.dot(delta_out, self.w_out.T) *\n",
    "                           sigmoid_derivative_h)\n",
    "\n",
    "                # [n_features, n_examples] dot [n_examples, n_hidden]\n",
    "                # -> [n_features, n_hidden]\n",
    "                grad_w_h = np.dot(X_train[batch_idx].T, delta_h)\n",
    "                grad_b_h = np.sum(delta_h, axis=0)\n",
    "\n",
    "                # [n_hidden, n_examples] dot [n_examples, n_classlabels]\n",
    "                # -> [n_hidden, n_classlabels]\n",
    "                grad_w_out = np.dot(a_h.T, delta_out)\n",
    "                grad_b_out = np.sum(delta_out, axis=0)\n",
    "\n",
    "                # Regularization and weight updates\n",
    "                delta_w_h = (grad_w_h + self.l2*self.w_h)\n",
    "                delta_b_h = grad_b_h # bias is not regularized\n",
    "                self.w_h -= self.eta * delta_w_h\n",
    "                self.b_h -= self.eta * delta_b_h\n",
    "\n",
    "                delta_w_out = (grad_w_out + self.l2*self.w_out)\n",
    "                delta_b_out = grad_b_out  # bias is not regularized\n",
    "                self.w_out -= self.eta * delta_w_out\n",
    "                self.b_out -= self.eta * delta_b_out\n",
    "\n",
    "            #############\n",
    "            # Evaluation\n",
    "            #############\n",
    "\n",
    "            # Evaluation after each epoch during training\n",
    "            z_h, a_h, z_out, a_out = self._forward(X_train)\n",
    "            \n",
    "            cost = self._compute_cost(y_enc=y_train_enc,\n",
    "                                      output=a_out)\n",
    "\n",
    "            y_train_pred = self.predict(X_train)\n",
    "            y_valid_pred = self.predict(X_valid)\n",
    "\n",
    "            train_acc = ((np.sum(y_train == y_train_pred)).astype(np.float) /\n",
    "                         X_train.shape[0])\n",
    "            valid_acc = ((np.sum(y_valid == y_valid_pred)).astype(np.float) /\n",
    "                         X_valid.shape[0])\n",
    "\n",
    "            sys.stderr.write('\\r%0*d/%d | Cost: %.2f '\n",
    "                             '| Train/Valid Acc.: %.2f%%/%.2f%% ' %\n",
    "                             (epoch_strlen, i+1, self.epochs, cost,\n",
    "                              train_acc*100, valid_acc*100))\n",
    "            sys.stderr.flush()\n",
    "\n",
    "            self.eval_['cost'].append(cost)\n",
    "            self.eval_['train_acc'].append(train_acc)\n",
    "            self.eval_['valid_acc'].append(valid_acc)\n",
    "\n",
    "        return self"
   ]
  },
  {
   "cell_type": "markdown",
   "metadata": {},
   "source": [
    "Updated two hidden layer NN."
   ]
  },
  {
   "cell_type": "code",
   "execution_count": 2,
   "metadata": {},
   "outputs": [],
   "source": [
    "'''\n",
    "Author: Sebastian Raschka\n",
    "\n",
    "Updates by Brian Wiley\n",
    "'''\n",
    "\n",
    "class NeuralNetMLP2(object):\n",
    "    \"\"\" Feedforward neural network / Multi-layer perceptron classifier.\n",
    "    Parameters\n",
    "    ------------\n",
    "    n_hidden : int (default: 30)\n",
    "        Number of hidden units.\n",
    "    l2 : float (default: 0.)\n",
    "        Lambda value for L2-regularization.\n",
    "        No regularization if l2=0. (default)\n",
    "    epochs : int (default: 100)\n",
    "        Number of passes over the training set.\n",
    "    eta : float (default: 0.001)\n",
    "        Learning rate.\n",
    "    shuffle : bool (default: True)\n",
    "        Shuffles training data every epoch if True to prevent circles.\n",
    "    minibatch_size : int (default: 1)\n",
    "        Number of training examples per minibatch.\n",
    "    seed : int (default: None)\n",
    "        Random seed for initializing weights and shuffling.\n",
    "    Attributes\n",
    "    -----------\n",
    "    eval_ : dict\n",
    "      Dictionary collecting the cost, training accuracy,\n",
    "      and validation accuracy for each epoch during training.\n",
    "    \"\"\"\n",
    "    def __init__(self, n_hidden1=30, n_hidden2=30,\n",
    "                 l2=0., epochs=100, eta=0.001,\n",
    "                 shuffle=True, minibatch_size=1, seed=None):\n",
    "\n",
    "        self.random = np.random.RandomState(seed)\n",
    "        self.n_hidden1 = n_hidden1\n",
    "        self.n_hidden2 = n_hidden2\n",
    "        self.l2 = l2\n",
    "        self.epochs = epochs\n",
    "        self.eta = eta\n",
    "        self.shuffle = shuffle\n",
    "        self.minibatch_size = minibatch_size\n",
    "\n",
    "    def _onehot(self, y, n_classes):\n",
    "        \"\"\"Encode labels into one-hot representation\n",
    "        Parameters\n",
    "        ------------\n",
    "        y : array, shape = [n_examples]\n",
    "            Target values.\n",
    "        Returns\n",
    "        -----------\n",
    "        onehot : array, shape = (n_examples, n_labels)\n",
    "        \"\"\"\n",
    "        onehot = np.zeros((n_classes, y.shape[0]))\n",
    "        for idx, val in enumerate(y.astype(int)):\n",
    "            onehot[val, idx] = 1.\n",
    "        return onehot.T\n",
    "\n",
    "    def _sigmoid(self, z):\n",
    "        \"\"\"Compute logistic function (sigmoid)\"\"\"\n",
    "        return 1. / (1. + np.exp(-np.clip(z, -250, 250)))\n",
    "\n",
    "    def _forward(self, X):\n",
    "        \"\"\"Compute forward propagation step\"\"\"\n",
    "\n",
    "        # step 1: net input of hidden layer\n",
    "        # [n_examples, n_features] dot [n_features, n_hidden1]\n",
    "        # -> [n_examples, n_hidden1]\n",
    "        z_h1 = np.dot(X, self.w_h1) + self.b_h1\n",
    "\n",
    "        # step 2: activation of hidden layer1\n",
    "        a_h1 = self._sigmoid(z_h1)\n",
    "        \n",
    "        # step 3: net input of hidden layer 2\n",
    "        # [n_examples, n_hidden1] dot [n_hidden1, n_hidden2]\n",
    "        # -> [n_examples, n_hidden2]\n",
    "        z_h2 = np.dot(a_h1, self.w_h2) + self.b_h2\n",
    "        \n",
    "        # step 4: activation of hidden layer1\n",
    "        # [n_examples, n_hidden2]\n",
    "        a_h2 = self._sigmoid(z_h2)\n",
    "\n",
    "        # step 5: net input of output layer\n",
    "        # [n_examples, n_hidden2] dot [n_hidden2, n_classlabels]\n",
    "        # -> [n_examples, n_classlabels]\n",
    "        z_out = np.dot(a_h2, self.w_out) + self.b_out\n",
    "\n",
    "        # step 6: activation output layer\n",
    "        # [n_examples, n_classlabels]\n",
    "        a_out = self._sigmoid(z_out)\n",
    "\n",
    "        return z_h1, a_h1, z_h2, a_h2, z_out, a_out\n",
    "\n",
    "    def _compute_cost(self, y_enc, output):\n",
    "        \"\"\"Compute cost function.\n",
    "        Parameters\n",
    "        ----------\n",
    "        y_enc : array, shape = (n_examples, n_labels)\n",
    "            one-hot encoded class labels.\n",
    "        output : array, shape = [n_examples, n_output_units]\n",
    "            Activation of the output layer (forward propagation)\n",
    "        Returns\n",
    "        ---------\n",
    "        cost : float\n",
    "            Regularized cost\n",
    "        \"\"\"\n",
    "        L2_term = (self.l2 *\n",
    "                   (np.sum(self.w_h1 ** 2.) +\n",
    "                    np.sum(self.w_h2 ** 2.) +\n",
    "                    np.sum(self.w_out ** 2.)))\n",
    "\n",
    "        term1 = -y_enc * (np.log(output))\n",
    "        term2 = (1. - y_enc) * np.log(1. - output)\n",
    "        cost = np.sum(term1 - term2) + L2_term\n",
    "        \n",
    "        # If you are applying this cost function to other\n",
    "        # datasets where activation\n",
    "        # values maybe become more extreme (closer to zero or 1)\n",
    "        # you may encounter \"ZeroDivisionError\"s due to numerical\n",
    "        # instabilities in Python & NumPy for the current implementation.\n",
    "        # I.e., the code tries to evaluate log(0), which is undefined.\n",
    "        # To address this issue, you could add a small constant to the\n",
    "        # activation values that are passed to the log function.\n",
    "        #\n",
    "        # For example:\n",
    "        #\n",
    "        # term1 = -y_enc * (np.log(output + 1e-5))\n",
    "        # term2 = (1. - y_enc) * np.log(1. - output + 1e-5)\n",
    "        \n",
    "        return cost\n",
    "\n",
    "    def predict(self, X):\n",
    "        \"\"\"Predict class labels\n",
    "        Parameters\n",
    "        -----------\n",
    "        X : array, shape = [n_examples, n_features]\n",
    "            Input layer with original features.\n",
    "        Returns:\n",
    "        ----------\n",
    "        y_pred : array, shape = [n_examples]\n",
    "            Predicted class labels.\n",
    "        \"\"\"\n",
    "        z_h1, a_h1, z_h2, a_h2, z_out, a_out = self._forward(X)\n",
    "        y_pred = np.argmax(z_out, axis=1)\n",
    "        return y_pred\n",
    "\n",
    "    def fit(self, X_train, y_train, X_valid, y_valid):\n",
    "        \"\"\" Learn weights from training data.\n",
    "        Parameters\n",
    "        -----------\n",
    "        X_train : array, shape = [n_examples, n_features]\n",
    "            Input layer with original features.\n",
    "        y_train : array, shape = [n_examples]\n",
    "            Target class labels.\n",
    "        X_valid : array, shape = [n_examples, n_features]\n",
    "            Sample features for validation during training\n",
    "        y_valid : array, shape = [n_examples]\n",
    "            Sample labels for validation during training\n",
    "        Returns:\n",
    "        ----------\n",
    "        self\n",
    "        \"\"\"\n",
    "        n_output = np.unique(y_train).shape[0]  # number of class labels\n",
    "        n_features = X_train.shape[1]\n",
    "\n",
    "        ########################\n",
    "        # Weight initialization\n",
    "        ########################\n",
    "\n",
    "        # weights for input -> hidden1\n",
    "        # [1, n_hidden1]\n",
    "        self.b_h1 = np.zeros(self.n_hidden1)\n",
    "        self.w_h1 = self.random.normal(loc=0.0, scale=0.1,\n",
    "                                       # [n_features, n_hidden1]\n",
    "                                       size=(n_features, self.n_hidden1))\n",
    "        \n",
    "        # weights for hidden1 -> hidden2\n",
    "        # [1, n_hidden2]\n",
    "        self.b_h2 = np.zeros(self.n_hidden2)\n",
    "        self.w_h2 = self.random.normal(loc=0.0, scale=0.1,\n",
    "                                       # [n_hidden1, n_hidden2]\n",
    "                                       size=(self.n_hidden1, self.n_hidden2))\n",
    "\n",
    "        # weights for hidden2 -> output\n",
    "        # [1, n_classlabels]\n",
    "        self.b_out = np.zeros(n_output)\n",
    "        self.w_out = self.random.normal(loc=0.0, scale=0.1,\n",
    "                                        # [hidden2, n_classlabels]\n",
    "                                        size=(self.n_hidden2, n_output))\n",
    "\n",
    "        epoch_strlen = len(str(self.epochs))  # for progress formatting\n",
    "        self.eval_ = {'cost': [], 'train_acc': [], 'valid_acc': []}\n",
    "\n",
    "        y_train_enc = self._onehot(y_train, n_output)\n",
    "\n",
    "        # iterate over training epochs\n",
    "        for i in range(self.epochs):\n",
    "\n",
    "            # iterate over minibatches\n",
    "            indices = np.arange(X_train.shape[0])\n",
    "\n",
    "            if self.shuffle:\n",
    "                self.random.shuffle(indices)\n",
    "\n",
    "            for start_idx in range(0, indices.shape[0] - self.minibatch_size +\n",
    "                                   1, self.minibatch_size):\n",
    "                batch_idx = indices[start_idx:start_idx + self.minibatch_size]\n",
    "\n",
    "                # forward propagation\n",
    "                z_h1, a_h1, z_h2, a_h2, z_out, a_out = self._forward(X_train[batch_idx])\n",
    "\n",
    "                ##################\n",
    "                # Backpropagation\n",
    "                ##################\n",
    "\n",
    "                # This is the delta(error) of output layer on page 418\n",
    "                # [n_examples, n_classlabels]\n",
    "                delta_out = a_out - y_train_enc[batch_idx]\n",
    "                \n",
    "                # This is del_out on page 420\n",
    "                # [n_hidden2, n_examples] dot [n_examples, n_classlabels]\n",
    "                # -> [n_hidden2, n_classlabels]\n",
    "                grad_w_out = np.dot(a_h2.T, delta_out)\n",
    "                # [1, n_classlabels]\n",
    "                grad_b_out = np.sum(delta_out, axis=0)\n",
    "                \n",
    "                \n",
    "                \n",
    "                # This is the sigma derivative of the lth (2nd) activation function page 418 \n",
    "                # [n_examples, n_hidden2]\n",
    "                sigmoid_derivative_h2 = a_h2 * (1. - a_h2)\n",
    "                \n",
    "                # This is the error term of lth (2nd) hidden layer, page 418\n",
    "                # [n_examples, n_classlabels] dot [n_classlabels, n_hidden2] * [n_examples, n_hidden2]\n",
    "                # -> [n_examples, n_hidden2]\n",
    "                delta_h2 = (np.dot(delta_out, self.w_out.T) *   ## this is Function (6)\n",
    "                           sigmoid_derivative_h2)\n",
    "                \n",
    "                # This is del_lth (2nd) hidden layer on page 420\n",
    "                # [n_hidden1, n_examples] dot [n_examples, n_hidden2]\n",
    "                # -> [n_hidden1, n_hidden2]\n",
    "                grad_w_h2 = np.dot(a_h1.T, delta_h2)\n",
    "                # [1, n_hidden2]\n",
    "                grad_b_h2 = np.sum(delta_h2, axis=0)\n",
    "                \n",
    "                \n",
    "                \n",
    "                # This is the sigma derivative of the lth (1st) activation function page 418 \n",
    "                # [n_examples, n_hidden1]\n",
    "                sigmoid_derivative_h1 = a_h1 * (1. - a_h1)\n",
    "                \n",
    "                # This is the error term of lth (1st) hidden layer, page 418\n",
    "                # [n_examples, n_hidden2] dot [n_hidden2, n_hidden1] * [n_examples, n_hidden1]\n",
    "                # -> [n_examples, n_hidden1]\n",
    "                delta_h1 = (np.dot(delta_h2, self.w_h2.T) *   ## this is Function (6)\n",
    "                           sigmoid_derivative_h1)\n",
    "\n",
    "                # This is del_lth (1st) hidden layer on page 420\n",
    "                # [n_features, n_examples] dot [n_examples, n_hidden1]\n",
    "                # -> [n_features, n_hidden1]\n",
    "                grad_w_h1 = np.dot(X_train[batch_idx].T, delta_h1)\n",
    "                # [1, n_hidden1]\n",
    "                grad_b_h1 = np.sum(delta_h1, axis=0)\n",
    "\n",
    "\n",
    "                \n",
    "                ######################################################\n",
    "                # Regularization and weight updates\n",
    "                # Reguarization is from page 413.  It takes into account the\n",
    "                # derivative of lamda/2 + ||w||^2 is just lamda*||w||\n",
    "                ######################################################\n",
    "                \n",
    "                # Update self.w_out & self.b_out\n",
    "                delta_w_out = (grad_w_out + self.l2*self.w_out)\n",
    "                delta_b_out = grad_b_out  # bias is not regularized\n",
    "                self.w_out -= self.eta * delta_w_out\n",
    "                self.b_out -= self.eta * delta_b_out\n",
    "                \n",
    "                # Update self.w_h2 & self.b_h2\n",
    "                # delta_w_h2 = [n_hidden1, n_hidden2] + l2*[n_hidden1, n_hidden2]  \n",
    "                delta_w_h2 = (grad_w_h2 + self.l2*self.w_h2)\n",
    "                delta_b_h2 = grad_b_h2  # bias is not regularized\n",
    "                self.w_h2 -= self.eta * delta_w_h2\n",
    "                self.b_h2 -= self.eta * delta_b_h2\n",
    "                \n",
    "                # Update self.w_h2 & self.b_h2\n",
    "                # delta_w_h1 = [n_features, n_hidden1] + l2*[n_features, n_hidden1] \n",
    "                delta_w_h1 = (grad_w_h1 + self.l2*self.w_h1)\n",
    "                delta_b_h1 = grad_b_h1 # bias is not regularized\n",
    "                self.w_h1 -= self.eta * delta_w_h1\n",
    "                self.b_h1 -= self.eta * delta_b_h1\n",
    "\n",
    "                \n",
    "\n",
    "            #############\n",
    "            # Evaluation\n",
    "            #############\n",
    "\n",
    "            # Evaluation after each epoch during training\n",
    "            z_h1, a_h1, z_h2, a_h2, z_out, a_out = self._forward(X_train)\n",
    "            \n",
    "            cost = self._compute_cost(y_enc=y_train_enc,\n",
    "                                      output=a_out)\n",
    "\n",
    "            y_train_pred = self.predict(X_train)\n",
    "            y_valid_pred = self.predict(X_valid)\n",
    "\n",
    "            train_acc = ((np.sum(y_train == y_train_pred)).astype(np.float) /\n",
    "                         X_train.shape[0])\n",
    "            valid_acc = ((np.sum(y_valid == y_valid_pred)).astype(np.float) /\n",
    "                         X_valid.shape[0])\n",
    "\n",
    "            sys.stderr.write('\\r%0*d/%d | Cost: %.2f '\n",
    "                             '| Train/Valid Acc.: %.2f%%/%.2f%% ' %\n",
    "                             (epoch_strlen, i+1, self.epochs, cost,\n",
    "                              train_acc*100, valid_acc*100))\n",
    "            sys.stderr.flush()\n",
    "\n",
    "            self.eval_['cost'].append(cost)\n",
    "            self.eval_['train_acc'].append(train_acc)\n",
    "            self.eval_['valid_acc'].append(valid_acc)\n",
    "\n",
    "        return self\n"
   ]
  },
  {
   "cell_type": "code",
   "execution_count": 5,
   "metadata": {},
   "outputs": [],
   "source": [
    "path = 'datasets/'\n",
    "X, y = load_mnist(path, kind='train')\n",
    "X_test, y_test = load_mnist(path, kind='t10k')"
   ]
  },
  {
   "cell_type": "code",
   "execution_count": 10,
   "metadata": {},
   "outputs": [
    {
     "data": {
      "text/plain": [
       "(50000, 784)"
      ]
     },
     "execution_count": 10,
     "metadata": {},
     "output_type": "execute_result"
    }
   ],
   "source": [
    "X_train.shape"
   ]
  },
  {
   "cell_type": "code",
   "execution_count": 11,
   "metadata": {},
   "outputs": [
    {
     "name": "stderr",
     "output_type": "stream",
     "text": [
      "20/20 | Cost: 40751.89 | Train/Valid Acc.: 0.00%/0.00%  "
     ]
    },
    {
     "data": {
      "text/plain": [
       "<__main__.NeuralNetMLP2 at 0x194008e6518>"
      ]
     },
     "execution_count": 11,
     "metadata": {},
     "output_type": "execute_result"
    }
   ],
   "source": [
    "from sklearn.datasets import fetch_openml\n",
    "\n",
    "X, y = fetch_openml('mnist_784', version=1, return_X_y=True) \n",
    "X_train, X_test, y_train, y_test = train_test_split(X, y, test_size=10000,\n",
    "                                                     random_state=123, \n",
    "                                                     stratify=y)\n",
    "nn_scratch = NeuralNetMLP2(n_hidden1=20, n_hidden2=40, l2=0.01, \n",
    "                           epochs=20, eta=0.0005, minibatch_size=100, seed=1)\n",
    "nn_scratch.fit(X_train=X_train[:45000], y_train=y_train[:45000], \n",
    "       X_valid=X_train[45000:], y_valid=y_train[45000:])\n"
   ]
  },
  {
   "cell_type": "code",
   "execution_count": null,
   "metadata": {},
   "outputs": [],
   "source": [
    "X, y = fetch_openml('mnist_784', version=1, return_X_y=True) \n",
    "X_train, X_test, y_train, y_test = train_test_split(X, y, test_size=10000,\n",
    "                                                     random_state=123, \n",
    "                                                     stratify=y)\n",
    "nn_scratch = NeuralNetMLP2(n_hidden1=20, n_hidden2=40, l2=0.01, \n",
    "                           epochs=20, eta=0.0005, minibatch_size=100, seed=1)\n",
    "nn_scratch.fit(X_train=X_train[:45000], y_train=y_train[:45000], \n",
    "       X_valid=X_train[45000:], y_valid=y_train[45000:])"
   ]
  },
  {
   "cell_type": "code",
   "execution_count": 7,
   "metadata": {},
   "outputs": [
    {
     "name": "stderr",
     "output_type": "stream",
     "text": [
      "C:\\Users\\bjwil\\Anaconda3\\lib\\site-packages\\ipykernel_launcher.py:312: RuntimeWarning: invalid value encountered in double_scalars\n",
      "20/20 | Cost: 25570.02 | Train/Valid Acc.: 92.63%/nan%  "
     ]
    },
    {
     "data": {
      "text/plain": [
       "0.9223"
      ]
     },
     "execution_count": 7,
     "metadata": {},
     "output_type": "execute_result"
    }
   ],
   "source": [
    "from sklearn.model_selection import train_test_split\n",
    "from sklearn.metrics import accuracy_score\n",
    "X_train, X_test, y_train, y_test = train_test_split(X, y, test_size=10000,\n",
    "                                                     random_state=123, \n",
    "                                                     stratify=y)\n",
    "nn_scratch = NeuralNetMLP2(n_hidden1=20, n_hidden2=40, l2=0.01, \n",
    "                           epochs=20, eta=0.0005, minibatch_size=100, seed=1)\n",
    "nn_scratch.fit(X_train=X_train[:55000], y_train=y_train[:55000], \n",
    "       X_valid=X_train[55000:], y_valid=y_train[55000:])\n",
    "y_pred_scratch = nn_scratch.predict(X_test)\n",
    "accuracy_score(y_test, y_pred_scratch)"
   ]
  },
  {
   "cell_type": "code",
   "execution_count": 17,
   "metadata": {},
   "outputs": [
    {
     "name": "stderr",
     "output_type": "stream",
     "text": [
      "50/50 | Cost: 11504.10 | Train/Valid Acc.: 97.31%/97.20%  "
     ]
    },
    {
     "data": {
      "text/plain": [
       "<__main__.NeuralNetMLP2 at 0x1b6c968d7f0>"
      ]
     },
     "execution_count": 17,
     "metadata": {},
     "output_type": "execute_result"
    }
   ],
   "source": [
    "## test 50 epochs for each with 50 nodes in first layer and for the 2-layer with 50 nodes each\n",
    "nn = NeuralNetMLP(n_hidden=50, l2=0.01, epochs=50, eta=0.0005, minibatch_size=100, seed=1)\n",
    "nn2 = NeuralNetMLP2(n_hidden1=50, n_hidden2=50,  l2=0.01, epochs=50, eta=0.0005, minibatch_size=100, seed=1)\n",
    "\n",
    "nn.fit(X_train=X_train[:55000], y_train=y_train[:55000], X_valid=X_train[55000:], y_valid=y_train[55000:])\n",
    "nn2.fit(X_train=X_train[:55000], y_train=y_train[:55000], X_valid=X_train[55000:], y_valid=y_train[55000:])"
   ]
  },
  {
   "cell_type": "code",
   "execution_count": 18,
   "metadata": {},
   "outputs": [
    {
     "name": "stdout",
     "output_type": "stream",
     "text": [
      "0.9641090909090909 0.9668\n",
      "0.9730545454545455 0.972\n"
     ]
    }
   ],
   "source": [
    "print(nn.eval_['train_acc'][-1], nn.eval_['valid_acc'][-1])\n",
    "print(nn2.eval_['train_acc'][-1], nn2.eval_['valid_acc'][-1])"
   ]
  },
  {
   "cell_type": "markdown",
   "metadata": {},
   "source": [
    "So the model doesn't get much better with 50 and 2x50 for two hidden layers.  Let's try 100 and 2x100 and then plot."
   ]
  },
  {
   "cell_type": "code",
   "execution_count": 19,
   "metadata": {},
   "outputs": [
    {
     "name": "stderr",
     "output_type": "stream",
     "text": [
      "50/50 | Cost: 9298.45 | Train/Valid Acc.: 97.90%/97.66%   "
     ]
    },
    {
     "data": {
      "text/plain": [
       "<__main__.NeuralNetMLP2 at 0x1b6cab5d550>"
      ]
     },
     "execution_count": 19,
     "metadata": {},
     "output_type": "execute_result"
    }
   ],
   "source": [
    "nn = NeuralNetMLP(n_hidden=100, l2=0.01, epochs=50, eta=0.0005, minibatch_size=100, seed=1)\n",
    "nn2 = NeuralNetMLP2(n_hidden1=100, n_hidden2=100,  l2=0.01, epochs=50, eta=0.0005, minibatch_size=100, seed=1)\n",
    "\n",
    "nn.fit(X_train=X_train[:55000], y_train=y_train[:55000], X_valid=X_train[55000:], y_valid=y_train[55000:])\n",
    "nn2.fit(X_train=X_train[:55000], y_train=y_train[:55000], X_valid=X_train[55000:], y_valid=y_train[55000:])"
   ]
  },
  {
   "cell_type": "code",
   "execution_count": 20,
   "metadata": {},
   "outputs": [
    {
     "data": {
      "text/plain": [
       "<matplotlib.legend.Legend at 0x1b6ce625668>"
      ]
     },
     "execution_count": 20,
     "metadata": {},
     "output_type": "execute_result"
    },
    {
     "data": {
      "image/png": "[encoded data removed]",
      "text/plain": [
       "<Figure size 720x864 with 6 Axes>"
      ]
     },
     "metadata": {
      "needs_background": "light"
     },
     "output_type": "display_data"
    }
   ],
   "source": [
    "## plot the cost function for each, the training over validation for each\n",
    "## and then plot training for both over eachother and validation for both over eachother\n",
    "\n",
    "import matplotlib.pyplot as plt\n",
    "\n",
    "fig, axs = plt.subplots(figsize = (10, 12), nrows=3, ncols=2)\n",
    "fig.tight_layout(pad=4.0)\n",
    "\n",
    "axs[0, 0].plot(range(nn.epochs), nn.eval_['cost'])\n",
    "axs[0, 0].set_xlabel('Epochs')\n",
    "axs[0, 0].set_ylabel('Cost')\n",
    "axs[0, 0].set_title('Cost over Epochs 1-hidden')\n",
    "\n",
    "axs[0, 1].plot(range(nn2.epochs), nn2.eval_['cost'])\n",
    "axs[0, 1].set_xlabel('Epochs')\n",
    "axs[0, 1].set_ylabel('Cost')\n",
    "axs[0, 1].set_title('Cost over Epochs 2-hidden')\n",
    "axs[0, 0].set_ylim(axs[0, 1].get_ylim())\n",
    "\n",
    "\n",
    "axs[1, 0].plot(range(nn.epochs), nn.eval_['train_acc'], label='training')\n",
    "axs[1, 0].plot(range(nn.epochs), nn.eval_['valid_acc'], label='validation', linestyle='--')\n",
    "axs[1, 0].set_xlabel('Epochs')\n",
    "axs[1, 0].set_ylabel('Accuracy')\n",
    "axs[1, 0].set_title('Accurracy over Epochs 1-hidden')\n",
    "axs[1, 0].legend(loc='lower right')\n",
    "\n",
    "axs[1, 1].plot(range(nn.epochs), nn2.eval_['train_acc'], label='training')\n",
    "axs[1, 1].plot(range(nn.epochs), nn2.eval_['valid_acc'], label='validation', linestyle='--')\n",
    "axs[1, 1].set_xlabel('Epochs')\n",
    "axs[1, 1].set_ylabel('Accuracy')\n",
    "axs[1, 1].set_title('Accurracy over Epochs 2-hidden')\n",
    "axs[1, 1].legend(loc='lower right')\n",
    "axs[1, 0].set_ylim(axs[1, 1].get_ylim())\n",
    "\n",
    "\n",
    "axs[2, 0].plot(range(nn.epochs), nn.eval_['train_acc'], label='training 1-hidden', color='green')\n",
    "axs[2, 0].plot(range(nn.epochs), nn2.eval_['train_acc'], label='training 2-hidden', linestyle='--', color='red')\n",
    "axs[2, 0].set_xlabel('Epochs')\n",
    "axs[2, 0].set_ylabel('Accuracy')\n",
    "axs[2, 0].set_title('Train Accurracy 1 vs 2')\n",
    "axs[2, 0].legend(loc='lower right')\n",
    "\n",
    "axs[2, 1].plot(range(nn.epochs), nn.eval_['valid_acc'], label='validation 1-hidden', color='green')\n",
    "axs[2, 1].plot(range(nn.epochs), nn2.eval_['valid_acc'], label='validation 2-hidden', linestyle='--', color='red')\n",
    "axs[2, 1].set_xlabel('Epochs')\n",
    "axs[2, 1].set_ylabel('Accuracy')\n",
    "axs[2, 1].set_title('Validation Accurracy 1 vs 2')\n",
    "axs[2, 1].legend(loc='lower right')\n"
   ]
  },
  {
   "cell_type": "code",
   "execution_count": 21,
   "metadata": {},
   "outputs": [
    {
     "data": {
      "text/plain": [
       "(3492.2963860248365, 131227.7478937484)"
      ]
     },
     "execution_count": 21,
     "metadata": {},
     "output_type": "execute_result"
    }
   ],
   "source": [
    "axs[0, 0].get_ylim()"
   ]
  },
  {
   "cell_type": "markdown",
   "metadata": {},
   "source": [
    "It looks that with 2-hidden layers the cost log function starts higher and drops steeper over the epochs but they tend to converge to same number.  As for the accuracies, they start lower for the 2-hidden layers but quickly (around epoch 12-14) surpass the single hidden layer."
   ]
  },
  {
   "cell_type": "markdown",
   "metadata": {},
   "source": [
    "Test on the Test Set."
   ]
  },
  {
   "cell_type": "code",
   "execution_count": 22,
   "metadata": {},
   "outputs": [
    {
     "name": "stdout",
     "output_type": "stream",
     "text": [
      "Accuracy score for single hidden layer  96.3%\n",
      "Accuracy score for 2 hidden layers      97.0%\n"
     ]
    }
   ],
   "source": [
    "from sklearn.metrics import accuracy_score \n",
    "\n",
    "y_pred = nn.predict(X_test)\n",
    "y_pred2 = nn2.predict(X_test)\n",
    "\n",
    "score1 = round(accuracy_score(y_pred, y_test), 3) * 100\n",
    "score2 = round(accuracy_score(y_pred2, y_test), 3) * 100\n",
    "\n",
    "print(f'{\"Accuracy score for single hidden layer\":<39} {score1}%')\n",
    "print(f'{\"Accuracy score for 2 hidden layers\":<39} {score2}%')"
   ]
  }
 ],
 "metadata": {
  "kernelspec": {
   "display_name": "Python 3",
   "language": "python",
   "name": "python3"
  },
  "language_info": {
   "codemirror_mode": {
    "name": "ipython",
    "version": 3
   },
   "file_extension": ".py",
   "mimetype": "text/x-python",
   "name": "python",
   "nbconvert_exporter": "python",
   "pygments_lexer": "ipython3",
   "version": "3.7.6"
  }
 },
 "nbformat": 4,
 "nbformat_minor": 4
}
