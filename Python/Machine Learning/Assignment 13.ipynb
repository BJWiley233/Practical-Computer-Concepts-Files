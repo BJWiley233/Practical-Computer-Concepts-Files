{
 "cells": [
  {
   "cell_type": "markdown",
   "metadata": {},
   "source": [
    "<div style=\"text-align: right\"> Brian Wiley <br/>\n",
    "EN.705.601.3VL.SP20 Applied Machine Learning </div>\n",
    "\n",
    "## Assignment 13\n",
    "### Applied Machine Learning\n"
   ]
  },
  {
   "cell_type": "markdown",
   "metadata": {},
   "source": [
    "__1. [20 pts] Pre-process a single file using 20 frequency bins (i.e. M), and 2000 sampling\n",
    "frequency (controls the number of data points), such as,__\n",
    "\n",
    "`x, fs = librosa.load(Path_dataset+'cat_1.wav', sr=SAMPLING_FRQ)\n",
    "mfccs = librosa.feature.mfcc(x, sr=fs, n_mfcc=M)\n",
    "librosa.display.specshow(mfccs, sr=fs, x_axis='time')`"
   ]
  },
  {
   "cell_type": "code",
   "execution_count": 1,
   "metadata": {},
   "outputs": [
    {
     "name": "stderr",
     "output_type": "stream",
     "text": [
      "C:\\Users\\bjwil\\Anaconda3\\envs\\torch\\lib\\site-packages\\librosa\\util\\decorators.py:9: NumbaDeprecationWarning: \u001b[1mAn import was requested from a module that has moved location.\n",
      "Import requested from: 'numba.decorators', please update to use 'numba.core.decorators' or pin to Numba version 0.48.0. This alias will not be present in Numba version 0.50.0.\u001b[0m\n",
      "  from numba.decorators import jit as optional_jit\n",
      "C:\\Users\\bjwil\\Anaconda3\\envs\\torch\\lib\\site-packages\\librosa\\util\\decorators.py:9: NumbaDeprecationWarning: \u001b[1mAn import was requested from a module that has moved location.\n",
      "Import of 'jit' requested from: 'numba.decorators', please update to use 'numba.core.decorators' or pin to Numba version 0.48.0. This alias will not be present in Numba version 0.50.0.\u001b[0m\n",
      "  from numba.decorators import jit as optional_jit\n"
     ]
    },
    {
     "data": {
      "text/plain": [
       "<matplotlib.axes._subplots.AxesSubplot at 0x16a093a9a20>"
      ]
     },
     "execution_count": 1,
     "metadata": {},
     "output_type": "execute_result"
    },
    {
     "data": {
      "image/png": "[encoded data removed]",
      "text/plain": [
       "<Figure size 432x288 with 1 Axes>"
      ]
     },
     "metadata": {
      "needs_background": "light"
     },
     "output_type": "display_data"
    }
   ],
   "source": [
    "import librosa\n",
    "import librosa.display\n",
    "import glob\n",
    "import numpy as np\n",
    "\n",
    "Path_dataset = 'C:/Users/bjwil/JHU Classes/Machine Learning JHU/cats_dogs/'\n",
    "SAMPLING_FRQ = 2000\n",
    "BINS = 20\n",
    "\n",
    "x, fs = librosa.load(Path_dataset+'cat_1.wav', sr=SAMPLING_FRQ)\n",
    "mfccs = librosa.feature.mfcc(x, sr=fs, n_mfcc=BINS)\n",
    "librosa.display.specshow(mfccs, sr=fs, x_axis='time')"
   ]
  },
  {
   "cell_type": "markdown",
   "metadata": {},
   "source": [
    "__2. [20 pts] For each wav file, you will have multiple data points, as generated by the `librosa.feature.mfcc`. Generate the X and y matrices for supervised learning. Apply your favorite classifier and comment about your results. (Hint: Expect 80-90% 10-fold CV accuracy, and `N, M = 7634, 20`)__"
   ]
  },
  {
   "cell_type": "code",
   "execution_count": 2,
   "metadata": {},
   "outputs": [
    {
     "name": "stdout",
     "output_type": "stream",
     "text": [
      "# Cat files=164, # Dog files=113\n"
     ]
    }
   ],
   "source": [
    "import re\n",
    "\n",
    "files = [i for i in glob.glob(Path_dataset + '*.wav')]\n",
    "\n",
    "r = re.compile('.*cats_dogs\\\\\\\\cat_*')\n",
    "cat_files =  list(filter(r.match, files))\n",
    "\n",
    "r = re.compile('.*cats_dogs\\\\\\\\dog_*')\n",
    "dog_files =  list(filter(r.match, files))\n",
    "\n",
    "print('# Cat files={}, # Dog files={}'.format(len(cat_files), len(dog_files)))"
   ]
  },
  {
   "cell_type": "code",
   "execution_count": 3,
   "metadata": {},
   "outputs": [
    {
     "name": "stdout",
     "output_type": "stream",
     "text": [
      "(7634, 20)\n",
      "(7634, 1)\n"
     ]
    }
   ],
   "source": [
    "X = np.empty((0, 20))\n",
    "y = np.empty((0,1))\n",
    "\n",
    "## cat = 0 for target\n",
    "for i in range(len(cat_files)):\n",
    "    x, fs = librosa.load(cat_files[i], sr=SAMPLING_FRQ)\n",
    "    mfccs = librosa.feature.mfcc(x, sr=fs, n_mfcc=BINS)\n",
    "    X = np.append(mfccs.T, X, axis=0)\n",
    "    y = np.append(np.repeat(0, mfccs.T.shape[0]).reshape(-1,1), y, axis=0)\n",
    "\n",
    "## dog = 1 for target   \n",
    "for i in range(len(dog_files)):\n",
    "    x, fs = librosa.load(dog_files[i], sr=SAMPLING_FRQ)\n",
    "    mfccs = librosa.feature.mfcc(x, sr=fs, n_mfcc=BINS)\n",
    "    X = np.append(mfccs.T, X, axis=0)\n",
    "    y = np.append(np.repeat(1, mfccs.T.shape[0]).reshape(-1,1), y, axis=0)\n",
    "\n",
    "print(X.shape)\n",
    "print(y.shape)"
   ]
  },
  {
   "cell_type": "code",
   "execution_count": 4,
   "metadata": {},
   "outputs": [
    {
     "name": "stderr",
     "output_type": "stream",
     "text": [
      "C:\\Users\\bjwil\\Anaconda3\\envs\\torch\\lib\\site-packages\\sklearn\\utils\\validation.py:760: DataConversionWarning: A column-vector y was passed when a 1d array was expected. Please change the shape of y to (n_samples, ), for example using ravel().\n",
      "  y = column_or_1d(y, warn=True)\n"
     ]
    },
    {
     "name": "stdout",
     "output_type": "stream",
     "text": [
      "Best params: {'classifier__C': 10.0, 'classifier__kernel': 'rbf', 'classifier__tol': 1e-06}\n",
      "Best score: 0.9510086455331412\n"
     ]
    }
   ],
   "source": [
    "from sklearn.svm import LinearSVC, SVC\n",
    "from sklearn.pipeline import Pipeline\n",
    "from sklearn.preprocessing import StandardScaler\n",
    "from sklearn.model_selection import StratifiedKFold, cross_validate, GridSearchCV\n",
    "\n",
    "## first find best parameters\n",
    "kfold = StratifiedKFold(n_splits=2, shuffle=True)\n",
    "\n",
    "SVC_Pipeline = Pipeline([\n",
    "    ('scaler', StandardScaler()),\n",
    "    ('classifier', SVC())\n",
    "    ])\n",
    "\n",
    "C = np.logspace(-4, 1, 6)\n",
    "param_grid = dict(classifier__C=C,\n",
    "                  classifier__kernel=['rbf', 'linear', 'poly'],\n",
    "                  classifier__tol=np.logspace(-6,-2, 5))\n",
    "\n",
    "grid_SVC = GridSearchCV(SVC_Pipeline, param_grid=param_grid,\n",
    "                           cv=kfold, n_jobs=4, verbose=0,\n",
    "                           scoring='accuracy')\n",
    "\n",
    "grid_SVC.fit(X, y)\n",
    "print('Best params:', grid_SVC.best_params_)\n",
    "print('Best score:', grid_SVC.best_score_)"
   ]
  },
  {
   "cell_type": "code",
   "execution_count": 5,
   "metadata": {},
   "outputs": [
    {
     "name": "stdout",
     "output_type": "stream",
     "text": [
      "SVC 10-fold cross validation test_score is 0.968 ±0.0079\n"
     ]
    }
   ],
   "source": [
    "## 10-fold cross validation\n",
    "kfold = StratifiedKFold(n_splits=10, shuffle=True)\n",
    "\n",
    "SVC_Pipeline = Pipeline([\n",
    "    ('scaler', StandardScaler()),\n",
    "    ('classifier', SVC(C=10.0, kernel='rbf', tol=1e-06))\n",
    "    ])\n",
    "\n",
    "SVC_cross_validate = cross_validate(SVC_Pipeline, X, y.ravel(), cv=kfold, scoring='accuracy')\n",
    "\n",
    "for k, v in SVC_cross_validate.items():\n",
    "    if (k != 'fit_time' and k != 'score_time'):\n",
    "        print(f'SVC 10-fold cross validation {k} is {np.mean(v):.3f} {chr(177)}{np.std(v):.4f}')  "
   ]
  },
  {
   "cell_type": "markdown",
   "metadata": {},
   "source": [
    "__3. [50 pts] Train a simple RNN, as given in the module Jupyter notebook, by shuffling the list\n",
    "of the signals (the dataset has 277) and training the network sufficiently (suggested 50\n",
    "times) and compare its performance to your previous evaluation in step (2.). A prediction\n",
    "function is needed, such as,__\n",
    " \n",
    " `with torch.no_grad():\n",
    "     hidden = rnn.init_hidden()\n",
    "     sxx = torch.tensor(sxx, dtype=torch.float)\n",
    "     for i in range(sxx.shape[0]):\n",
    "     output, hidden = rnn.forward(sxx[i].reshape(1,rnn.n_features), hidden)\n",
    "         y = 0 if ct=='cat' else 1\n",
    "     y_pred = 0 if output[0][0]>output[0][1] else 1`"
   ]
  },
  {
   "cell_type": "code",
   "execution_count": 6,
   "metadata": {},
   "outputs": [],
   "source": [
    "import torch\n",
    "import torch.nn as nn\n",
    "\n",
    "class RNN(nn.Module):\n",
    "    def __init__(self, n_features, n_hidden, n_output, n_epochs, eta=0.0005):\n",
    "        super(RNN, self).__init__()\n",
    "        \n",
    "        self.n_features = n_features\n",
    "        self.n_hidden = n_hidden\n",
    "        self.n_epochs = n_epochs\n",
    "        \n",
    "        self.i2h = nn.Linear(n_features + n_hidden, n_hidden).float()\n",
    "        self.i2o  = nn.Linear(n_features + n_hidden, n_output).float()\n",
    "        self.softmax = nn.LogSoftmax(dim=1)\n",
    "        \n",
    "        self.eta = eta\n",
    "        self.criterion = nn.NLLLoss()\n",
    "    \n",
    "    def forward(self, x, hidden):\n",
    "        combined = torch.cat((x, hidden), dim=1)\n",
    "        hidden = self.i2h(combined)\n",
    "        output = self.i2o(combined)\n",
    "        output = self.softmax(output)\n",
    "        return output, hidden\n",
    "    \n",
    "    def init_hidden(self):\n",
    "        return torch.zeros((1, self.n_hidden), dtype=torch.float)\n",
    "       \n",
    "    def train1(self, sxx, y):\n",
    "        '''\n",
    "        Trains 1 signal at a time\n",
    "        '''\n",
    "        self.zero_grad()\n",
    "        hidden = self.init_hidden()\n",
    "        N = sxx.shape[0]\n",
    "                        \n",
    "        for i in range(N):\n",
    "            output, hidden = self.forward(sxx[i].reshape(1, self.n_features), hidden)\n",
    "        \n",
    "        loss = self.criterion(output, y)\n",
    "        loss.backward()\n",
    "        \n",
    "        for p in self.parameters():\n",
    "            p.data.add_(-self.eta, p.grad.data)\n",
    "        \n",
    "        return output, loss.item()\n",
    "    \n",
    "    def fit(self, X, y):\n",
    "        for epoch in range(self.n_epochs):\n",
    "            ## shuffle the indices\n",
    "            indices = [i for i in range(len(X))]\n",
    "            np.random.shuffle(indices)\n",
    "                \n",
    "            for i in indices:\n",
    "                xi = torch.tensor(X[i], dtype=torch.float)\n",
    "                yi = torch.tensor([y[i]], dtype=torch.long)\n",
    "                output, loss = self.train1(xi, yi)\n",
    "                ## for debugging\n",
    "                top_n, top_i = output.topk(1)\n",
    "                cat = top_i.item()\n",
    "                #print(\"Train guessed: {}, actually was {}\".format(cat, yi.numpy()[0]))\n",
    "    \n",
    "    def predict(self, X):\n",
    "        predictions = []\n",
    "        with torch.no_grad():\n",
    "            for signal in X:\n",
    "                hidden = self.init_hidden()\n",
    "                xi = torch.tensor(signal, dtype=torch.float)\n",
    "                ## this does same as loop in train\n",
    "                for i in range(xi.shape[0]):\n",
    "                    output, hidden = self.forward(xi[i].reshape(1, self.n_features), hidden)\n",
    "                ## gets prediction by top probability\n",
    "                ## see topk under https://pytorch.org/docs/stable/torch.html#comparison-ops\n",
    "                top_n, top_i = output.topk(1)\n",
    "                cat = top_i.item()\n",
    "                predictions.append(cat)\n",
    "        \n",
    "        return predictions"
   ]
  },
  {
   "cell_type": "code",
   "execution_count": 7,
   "metadata": {},
   "outputs": [
    {
     "name": "stdout",
     "output_type": "stream",
     "text": [
      "277\n",
      "277\n"
     ]
    }
   ],
   "source": [
    "## input lists for X and y\n",
    "## We can use lists because we are just going to convert single signals and targets to tensors anyway\n",
    "\n",
    "X_rnn = []\n",
    "y_rnn = []\n",
    "\n",
    "## cat = 0 for target\n",
    "for i in range(len(cat_files)):\n",
    "    x, fs = librosa.load(cat_files[i], sr=SAMPLING_FRQ)\n",
    "    mfccs = librosa.feature.mfcc(x, sr=fs, n_mfcc=BINS)\n",
    "    X_rnn.append(mfccs.T)\n",
    "    y_rnn.append(0)\n",
    "\n",
    "## dog = 1 for target   \n",
    "for i in range(len(dog_files)):  \n",
    "    x, fs = librosa.load(dog_files[i], sr=SAMPLING_FRQ)\n",
    "    mfccs = librosa.feature.mfcc(x, sr=fs, n_mfcc=BINS)\n",
    "    X_rnn.append(mfccs.T)\n",
    "    y_rnn.append(1)\n",
    "    \n",
    "print(len(X_rnn))\n",
    "print(len(y_rnn))"
   ]
  },
  {
   "cell_type": "code",
   "execution_count": 17,
   "metadata": {},
   "outputs": [
    {
     "name": "stdout",
     "output_type": "stream",
     "text": [
      "Accuracy on 80/20 split = 0.7857142857142857\n"
     ]
    }
   ],
   "source": [
    "## train on 80% and test on 20%\n",
    "from sklearn.model_selection import train_test_split\n",
    "from sklearn.metrics import accuracy_score \n",
    "\n",
    "X_train, X_test, y_train, y_test = train_test_split(X_rnn, y_rnn, train_size=.8)   \n",
    "\n",
    "## create RNN instance\n",
    "rnn = RNN(n_features=20, n_hidden=20, n_output=2, n_epochs=50, eta=.0005)  \n",
    "\n",
    "## fit\n",
    "rnn.fit(X_train, y_train)\n",
    "\n",
    "## predict and get accuracy\n",
    "y_pred = rnn.predict(X_test) \n",
    "print(\"Accuracy on 80/20 split =\", accuracy_score(y_test, y_pred))  "
   ]
  },
  {
   "cell_type": "markdown",
   "metadata": {},
   "source": [
    "I was getting 85% accuracy.  Not sure why I am getting around 60-80% now.  I didn't change anything from running this Tuesday night."
   ]
  },
  {
   "cell_type": "markdown",
   "metadata": {},
   "source": [
    "__4. [10 pts] Compare and contrast the method applied in this assignment to the image classification.__\n",
    "\n",
    "The RNN in this model is different to than the image classification is that at least for MNIST the images are all the same size.  For the tensorflow module in the text on page 443, however you can have different sized images.  In this model for the RNN the sizes of the audio file are different lengths are we reshaped so they would have at least the same amount of features.  You might be able to do this for different sized images but I don't think making them all have the same amount of features would work since then that would be the width for each image.  In the RNN we train 1 sample at a time at the end back propogate on all the time steps of that specific audio before upgrading the weights.  With the images classification in the MLP we train on batchs of samples, so not 1 at a time, and then back propogate the batch from all the outputs to the input of the batch and then update the weights with the learning rate and the delta weights calculated from the gradient."
   ]
  }
 ],
 "metadata": {
  "kernelspec": {
   "display_name": "Python 3",
   "language": "python",
   "name": "python3"
  },
  "language_info": {
   "codemirror_mode": {
    "name": "ipython",
    "version": 3
   },
   "file_extension": ".py",
   "mimetype": "text/x-python",
   "name": "python",
   "nbconvert_exporter": "python",
   "pygments_lexer": "ipython3",
   "version": "3.7.1"
  }
 },
 "nbformat": 4,
 "nbformat_minor": 4
}
