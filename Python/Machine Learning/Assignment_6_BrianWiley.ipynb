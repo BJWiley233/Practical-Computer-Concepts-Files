{
 "cells": [
  {
   "cell_type": "markdown",
   "metadata": {},
   "source": [
    "<div style=\"text-align: right\"> Brian Wiley <br/>\n",
    "EN.705.601.3VL.SP20 Applied Machine Learning </div>"
   ]
  },
  {
   "cell_type": "markdown",
   "metadata": {},
   "source": [
    "## Assignment 6\n",
    "### Applied Machine Learning\n",
    "\n",
    "For this lab we are reviewing the Suicides dataset from the third assignment.  Taking where we left off in class I will test both a weak GaussianNB vs. RandomForestClassifier.  Knowing from assignment 3 that I will be OneHotEncoding the countries, I am going to assume that there will be an increase using an ensemble of the top features.  The question for this dataset is how much.  We will see something interesting as well because the highest ranked feature is extremely correlated with to target variable after slicing that prior to ensemble dropping the lowest correlated features doesn't really change the NB classifier.  It is only after creating the ensemble it increases and only when the ensemble includes this higest ranked column.  Not as good as a dataset and the pre-processed breast cancer for try this NB ensemble as we will see that RandomForest wins out.\n",
    "\n",
    "__1. [20 pts] What is the dependent variable you decided? Why?__\n",
    "\n",
    "As stated in assignment 3 \"The dependent variable should be `suicides/100k pop` so that we can, predict given an example, whether that example will produce a numerical rate equivalent those that fit the examples features. We want to use this column rather than the column suicides_no because the rate is more relative to how large the population could be\"$^{[1]}$ (Wiley, 2020).\n",
    "\n",
    "__2. [20 pts] Set the dependent variable into two categories based on a defensible criteria. (Hint:\n",
    "skirts of the probability density function)__\n",
    "\n",
    "We could also split by quantiles using pandas.qcut and set the quantiles to any percentage we want.  Therefore I am going to use a 75% split where the lower 75% of the column `suicides/100k pop` will be in the low category (value of 0) for suicides and the higher 25% will be in high category (value of 1)"
   ]
  },
  {
   "cell_type": "code",
   "execution_count": 1,
   "metadata": {},
   "outputs": [],
   "source": [
    "## Import dataset and pre-process from assignment 3\n",
    "import pandas as pd\n",
    "import numpy as np\n",
    "import seaborn as sns;\n",
    "import matplotlib.pyplot as plt\n",
    "\n",
    "df = pd.read_csv('datasets/master.csv')\n",
    "\n",
    "df = df.drop(['HDI for year', 'country-year'], axis=1)\n",
    "df.rename(columns={' gdp_for_year ($) ': 'gdp_for_year ($)'}, inplace=True)\n",
    "df['gdp_for_year ($)'] = df['gdp_for_year ($)'].str.replace(\",\", \"\").astype(float)\n",
    "\n",
    "df['age_group float'] = df['age'].map({'5-14 years': 0, \n",
    "                                       '15-24 years': 1, \n",
    "                                       '25-34 years': 2, \n",
    "                                       '35-54 years': 3, \n",
    "                                       '55-74 years': 4, \n",
    "                                       '75+ years': 5})\n",
    "\n",
    "df['generation float'] = df['generation'].map({'Generation Z': 0, \n",
    "                                       'Millenials': 1, \n",
    "                                       'Generation X': 2, \n",
    "                                       'Boomers': 3, \n",
    "                                       'Silent': 4, \n",
    "                                       'G.I. Generation': 5})\n",
    "\n",
    "df.drop(['age', 'generation'], axis=1, inplace=True)\n",
    "\n",
    "## copy dataframe  so we can cut into low and high for `suicides/100k pop`\n",
    "df2 = df.copy(deep=True)"
   ]
  },
  {
   "cell_type": "code",
   "execution_count": 2,
   "metadata": {},
   "outputs": [
    {
     "data": {
      "text/plain": [
       "<matplotlib.collections.PolyCollection at 0x1d620fadcf8>"
      ]
     },
     "execution_count": 2,
     "metadata": {},
     "output_type": "execute_result"
    },
    {
     "data": {
      "image/png": "[encoded data removed]",
      "text/plain": [
       "<Figure size 432x288 with 1 Axes>"
      ]
     },
     "metadata": {
      "needs_background": "light"
     },
     "output_type": "display_data"
    }
   ],
   "source": [
    "## before cutting the target column lets visualize the 75% quantile in the density plot\n",
    "_75 = df2['suicides/100k pop'].quantile(q=0.75)\n",
    "ax = sns.kdeplot(df2['suicides/100k pop'], shade=True)\n",
    "kde_x, kde_y = ax.lines[0].get_data()\n",
    "ax.fill_between(kde_x, kde_y, where=(kde_x > _75), interpolate=True, \n",
    "                color=\"#56525c\")"
   ]
  },
  {
   "cell_type": "markdown",
   "metadata": {},
   "source": [
    "Now we can cut the target column into low and high and set our X and y for the classifiers and OneHotEncode categorical variables."
   ]
  },
  {
   "cell_type": "code",
   "execution_count": 3,
   "metadata": {},
   "outputs": [],
   "source": [
    "## cut and label\n",
    "df2['suicide_split'] = pd.qcut(df2['suicides/100k pop'], q=[0, .75, 1.], labels=[0,1])"
   ]
  },
  {
   "cell_type": "code",
   "execution_count": 4,
   "metadata": {},
   "outputs": [
    {
     "data": {
      "text/plain": [
       "16.62"
      ]
     },
     "execution_count": 4,
     "metadata": {},
     "output_type": "execute_result"
    }
   ],
   "source": [
    "## what are the quantiles split at?\n",
    "df2['suicides/100k pop'].quantile(0.75)"
   ]
  },
  {
   "cell_type": "code",
   "execution_count": 5,
   "metadata": {},
   "outputs": [],
   "source": [
    "## drop old column\n",
    "df2.drop('suicides/100k pop', axis=1, inplace=True)"
   ]
  },
  {
   "cell_type": "code",
   "execution_count": 6,
   "metadata": {},
   "outputs": [
    {
     "name": "stdout",
     "output_type": "stream",
     "text": [
      "(27820, 108)\n"
     ]
    },
    {
     "data": {
      "text/plain": [
       "Index(['year', 'suicides_no', 'population', 'gdp_for_year ($)',\n",
       "       'gdp_per_capita ($)', 'age_group float', 'generation float', 'sex_male',\n",
       "       'country_Antigua and Barbuda', 'country_Argentina',\n",
       "       ...\n",
       "       'country_Thailand', 'country_Trinidad and Tobago', 'country_Turkey',\n",
       "       'country_Turkmenistan', 'country_Ukraine',\n",
       "       'country_United Arab Emirates', 'country_United Kingdom',\n",
       "       'country_United States', 'country_Uruguay', 'country_Uzbekistan'],\n",
       "      dtype='object', length=108)"
      ]
     },
     "execution_count": 6,
     "metadata": {},
     "output_type": "execute_result"
    }
   ],
   "source": [
    "## set y to target\n",
    "y =  df2.loc[:, df2.columns == 'suicide_split'].values.ravel()\n",
    "\n",
    "## OneHotEncode categorical columns\n",
    "df_ohe = pd.get_dummies(df2, columns=['sex', 'country'], drop_first=True)\n",
    "df_ohe.drop('suicide_split', axis=1, inplace=True)\n",
    "\n",
    "## get X features set\n",
    "X = df_ohe.values\n",
    "print(X.shape)\n",
    "\n",
    "## this will confirm our pearson correlation columns\n",
    "df_ohe.columns"
   ]
  },
  {
   "cell_type": "markdown",
   "metadata": {},
   "source": [
    "__3. [20 pts] Develop your classification model(s) to solve your defined problem__\n",
    "\n",
    "I am going to do the GaussianNB and perform basically the same weak and ensemble NB from class.  Then afterwards I am going to try 2 other ensemble classifiers, RandomForest and GradientBoosting along with LinearSVC.  Then we can include a VotingClassifier at the end for the ensemble classifiers.  Lastly for number #5 we will use the VotingClassifier for the classification and for #6 we will use the regressor versions RandomForestRegressor, GradientBoostingRegressor, and LinearSVR respective to get a probability."
   ]
  },
  {
   "cell_type": "markdown",
   "metadata": {},
   "source": [
    "__4. [20 pts] Evaluate (and report) the model performance(s) using some of the standard\n",
    "techniques (e.g. 80-20 split, 10-fold cross validation, etc.).__"
   ]
  },
  {
   "cell_type": "code",
   "execution_count": 7,
   "metadata": {},
   "outputs": [
    {
     "data": {
      "text/plain": [
       "array([0.75003595, 0.24996405])"
      ]
     },
     "execution_count": 7,
     "metadata": {},
     "output_type": "execute_result"
    }
   ],
   "source": [
    "## get priors and also make X an np.ndarray\n",
    "unique, counts = np.unique(y, return_counts=True)\n",
    "priors = counts/len(y)\n",
    "priors"
   ]
  },
  {
   "cell_type": "code",
   "execution_count": 8,
   "metadata": {},
   "outputs": [],
   "source": [
    "from sklearn.metrics import accuracy_score\n",
    "from sklearn.model_selection import StratifiedKFold, cross_validate, train_test_split\n",
    "from sklearn.naive_bayes import GaussianNB\n",
    "from sklearn.svm import LinearSVC\n",
    "from sklearn.ensemble import RandomForestClassifier, GradientBoostingClassifier\n",
    "\n",
    "def eval_classifier(clf, _X, y, k, random_state=0):\n",
    "    ''' \n",
    "    Evaluates k-fold for classifier\n",
    "    \n",
    "    Parameters\n",
    "    ------------\n",
    "    clf : sklearn classifer\n",
    "    \n",
    "    X : array-like, shape (n_samples, n_features)\n",
    "      Feature set.\n",
    "    y : array-like, shape (n_samples,)\n",
    "      Target values.\n",
    "    k : int\n",
    "      Number of k-folds\n",
    "\n",
    "    Returns\n",
    "    -----------\n",
    "    acc : 1d-array\n",
    "      Accuracy array for k-fold CV \n",
    "    '''\n",
    "    \n",
    "    kfold = StratifiedKFold(n_splits=k, random_state=random_state, shuffle=True)\n",
    "    acc = cross_validate(clf, _X, y, cv=kfold, scoring='accuracy')\n",
    "    \n",
    "    return acc['test_score']"
   ]
  },
  {
   "cell_type": "code",
   "execution_count": 9,
   "metadata": {},
   "outputs": [
    {
     "name": "stdout",
     "output_type": "stream",
     "text": [
      "GaussianNB CV accuracy=0.75 ±0.002\n"
     ]
    }
   ],
   "source": [
    "acc = eval_classifier(GaussianNB(priors=priors), X, y, k=5)\n",
    "print(f'GaussianNB CV accuracy={np.mean(acc):.2f} {chr(177)}{np.std(acc):.3f}')"
   ]
  },
  {
   "cell_type": "markdown",
   "metadata": {},
   "source": [
    "Now lets try the ensemble from class."
   ]
  },
  {
   "cell_type": "code",
   "execution_count": 10,
   "metadata": {},
   "outputs": [],
   "source": [
    "def weakNB_fit(cols, X, y):\n",
    "    ''' \n",
    "    fits GaussianNB with subset of columns\n",
    "    \n",
    "    Parameters\n",
    "    ------------\n",
    "    cols : int array-like (feature columns)\n",
    "      Array of selected columns by column number\n",
    "    X : array-like, shape (n_samples, n_features)\n",
    "      Feature set.\n",
    "    y : array-like, shape (n_samples,)\n",
    "      Target values.\n",
    "\n",
    "    Returns\n",
    "    -----------\n",
    "    classifier : object\n",
    "      Fit of GaussianNB with X, y\n",
    "    '''\n",
    "    \n",
    "    X_cols = X[:, cols]\n",
    "    unique, counts = np.unique(y, return_counts=True)\n",
    "    priors = counts/len(y) \n",
    "    \n",
    "    return GaussianNB(priors=priors).fit(X_cols, y)\n",
    "\n",
    "\n",
    "def weakNB_predict(clf, cols, X):\n",
    "    X_cols = X[:, cols]\n",
    "    \n",
    "    return clf.predict(X_cols), clf.predict_proba(X_cols)\n",
    "\n",
    "\n",
    "def features_random(M, m, num_ensembles=1):\n",
    "    from numpy.random import choice\n",
    "    \n",
    "    return [choice(M, m, replace=False) for _ in range(num_ensembles)]\n",
    "  \n",
    "    \n",
    "def eval_weak(X, y, num_ensembles, num_features, k, random_state=0):\n",
    "    \"\"\"\n",
    "    Doesn't use weakNB_fit or weakNB_predict from class\n",
    "    \n",
    "    So we need priors\n",
    "    \"\"\"\n",
    "    acc = []  \n",
    "    counts = np.unique(y, return_counts=True)[1]\n",
    "    priors = counts/len(y) \n",
    "    cols = features_random(X.shape[1], num_features, num_ensembles)\n",
    "    kfold = StratifiedKFold(n_splits=k, random_state=random_state, shuffle=True)\n",
    "    for i in range(num_ensembles):\n",
    "        acc += [cross_validate(GaussianNB(priors=priors),\n",
    "                              X[:, cols[i]], y, \n",
    "                              cv=kfold, scoring='accuracy')['test_score']]\n",
    "        \n",
    "    return acc\n",
    "\n",
    "\n",
    "def ensembleNB_fit(cols, X, y):\n",
    "    ''' \n",
    "    fits GaussianNB with subset of columns\n",
    "    \n",
    "    Parameters\n",
    "    ------------\n",
    "    cols : array-like, shape (n_ensembles, n_features)\n",
    "      list of ensemble columns\n",
    "    X : array-like, shape (n_samples, n_features)\n",
    "      Feature set.\n",
    "    y : array-like, shape (n_samples,)\n",
    "      Target values.\n",
    "\n",
    "    Returns\n",
    "    -----------\n",
    "    classifiers : 1-dimensional object array, shape (n_ensembles,)\n",
    "      Fit of GaussianNB with X, y\n",
    "    '''\n",
    "    n_ensembles = len(cols)\n",
    "    ensemble_clfs = []\n",
    "    for i in range(n_ensembles):\n",
    "        ensemble_clfs += [weakNB_fit(cols[i], X, y)]\n",
    "    \n",
    "    return ensemble_clfs\n",
    "\n",
    "\n",
    "def ensembleNB_predict(ensemble_clfs, cols, X_test):\n",
    "    n_ensembles = len(ensemble_clfs)\n",
    "    assert n_ensembles == len(cols)\n",
    "    y_pred_e = np.empty(shape=(n_ensembles, len(X_test)), dtype=int)\n",
    "    for j in range(n_ensembles):\n",
    "        predictions = weakNB_predict(ensemble_clfs[j], cols[j], X_test)\n",
    "        y_pred_e[j] = predictions[0]\n",
    "    \n",
    "    ## this is covenient function for returning argmax without lambdas\n",
    "    y_pred = np.amax(y_pred_e, axis=0)\n",
    "    \n",
    "    return y_pred\n",
    " \n",
    "   \n",
    "def eval_ensemble(X, y, n_iter, n_ensembles, n_features, k, random_state=0):\n",
    "    acc = []  \n",
    "    ## this array col_lists is just to see which ensembles are using the highest ranked\n",
    "    cols_lists = []\n",
    "    cols = features_random(X.shape[1], n_features, n_ensembles)\n",
    "    cols_lists += cols\n",
    "    \n",
    "    for i in range(n_iter):\n",
    "        kfold = StratifiedKFold(n_splits=k, random_state=random_state, shuffle=True)\n",
    "        for train_ind, test_ind in kfold.split(X, y):\n",
    "            clf = ensembleNB_fit(cols, X[train_ind], y[train_ind])\n",
    "            y_pred = ensembleNB_predict(clf, cols, X[test_ind])\n",
    "            acc += [accuracy_score(y[test_ind], y_pred)]\n",
    "            \n",
    "    return acc, cols_lists"
   ]
  },
  {
   "cell_type": "markdown",
   "metadata": {},
   "source": [
    "First I am going to do the ensemble with all features as in class and see what features have the highest rank only because I know it will need it since top 4 are very correlated."
   ]
  },
  {
   "cell_type": "code",
   "execution_count": 11,
   "metadata": {},
   "outputs": [
    {
     "data": {
      "text/plain": [
       "[('0.4255', 'sex_male'),\n",
       " ('0.3108', 'age_group float'),\n",
       " ('0.2911', 'generation float'),\n",
       " ('0.2708', 'suicides_no'),\n",
       " ('0.0761', 'country_Lithuania'),\n",
       " ('0.0700', 'country_Hungary'),\n",
       " ('0.0696', 'country_Russian Federation'),\n",
       " ('0.0687', 'country_Japan'),\n",
       " ('-0.0654', 'country_Guatemala')]"
      ]
     },
     "metadata": {},
     "output_type": "display_data"
    },
    {
     "data": {
      "text/plain": [
       "[('-0.0076', 'country_Montenegro'),\n",
       " ('0.0072', 'country_Puerto Rico'),\n",
       " ('0.0058', 'country_Singapore'),\n",
       " ('-0.0040', 'country_Macau'),\n",
       " ('0.0000', 'country_Cabo Verde')]"
      ]
     },
     "metadata": {},
     "output_type": "display_data"
    },
    {
     "data": {
      "text/plain": [
       "array([  7,   5,   6,   1,  59,  47,  82,  53,  45,  35,  13,  43,  65,\n",
       "        74,  56,  54,  58,   8,  91,  27, 102,   4,  37,  15,  10,   3,\n",
       "        19,  94,  39,  92,  16,  95,  98,  18,  80,  44,  46,  41,  52,\n",
       "        22,  29,  14,  63,  73,  75,  31,  79,  17,  40,   0, 105,  69,\n",
       "        97, 104,  32,  60,  87,  12,  62,  25,  71,  76,  23,  28,  51,\n",
       "        30,  85, 100,  38, 106, 107,  20,  50, 103,  48,  93,  99,  70,\n",
       "        96,  84,  57,  88,  83,  42,  55,  72,  49,  64,   9,  11,  77,\n",
       "        33,  81,  36,  26,  34, 101,  86,   2,  68,  66,  90,  21,  67,\n",
       "        78,  89,  61,  24], dtype=int64)"
      ]
     },
     "execution_count": 11,
     "metadata": {},
     "output_type": "execute_result"
    }
   ],
   "source": [
    "from scipy.stats import pearsonr\n",
    "\n",
    "# Direct correlation between each column of X and the target y\n",
    "corrs = np.array([pearsonr(X[:,j], y)[0] for j in range(X.shape[1])])\n",
    "# Reverse sort, numpy array negation reverses the order\n",
    "ranks = np.argsort(-np.absolute(corrs))\n",
    "\n",
    "rankings = [(f'{corrs[j]:.4f}', df_ohe.columns[j]) for j in ranks]\n",
    "display(rankings[:9])\n",
    "display(rankings[-5:])\n",
    "ranks"
   ]
  },
  {
   "cell_type": "code",
   "execution_count": 12,
   "metadata": {},
   "outputs": [
    {
     "name": "stdout",
     "output_type": "stream",
     "text": [
      "Ensemble learners average Acc = 0.25 ±0.000\n",
      "Percentage of ensembles containing the highest rank is 0.06\n"
     ]
    }
   ],
   "source": [
    "n_ensembles = 50\n",
    "acc, cols_lists = eval_ensemble(X, y, n_iter=10, n_ensembles=n_ensembles, n_features=11, k=5, random_state=None)\n",
    "print(f'Ensemble learners average Acc = {np.mean(acc):.2f} {chr(177)}{np.std(acc):.3f}')\n",
    "print('Percentage of ensembles containing the highest rank is',\n",
    "      sum([ranks[0] in arr for arr in cols_lists])/n_ensembles)"
   ]
  },
  {
   "cell_type": "markdown",
   "metadata": {},
   "source": [
    "So we see that only 10% had the feature `sex_male` and without we have nothing really.  Let's trim the top features."
   ]
  },
  {
   "cell_type": "code",
   "execution_count": 13,
   "metadata": {},
   "outputs": [],
   "source": [
    "delcols = [(i, f'{corrs[i]: .4f}', df_ohe.columns[i]) for i in ranks if np.absolute(corrs[i]) <=.051]\n",
    "delete = [d[0] for d in delcols]"
   ]
  },
  {
   "cell_type": "code",
   "execution_count": 14,
   "metadata": {},
   "outputs": [
    {
     "data": {
      "text/plain": [
       "(27820, 35)"
      ]
     },
     "execution_count": 14,
     "metadata": {},
     "output_type": "execute_result"
    }
   ],
   "source": [
    "X_drop = np.delete(np.array(X, copy=True), delete, axis=1)\n",
    "X_drop.shape"
   ]
  },
  {
   "cell_type": "code",
   "execution_count": 15,
   "metadata": {},
   "outputs": [
    {
     "name": "stdout",
     "output_type": "stream",
     "text": [
      "GaussianNB CV accuracy=0.75 ±0.003\n",
      "Ensemble learners average Acc = 0.25 ±0.000\n",
      "Percentage of ensembles containing the highest rank is 0.3\n"
     ]
    }
   ],
   "source": [
    "## weak NB\n",
    "acc = eval_classifier(GaussianNB(priors=priors), X_drop, y, k=5, random_state=1)\n",
    "print(f'GaussianNB CV accuracy={np.mean(acc):.2f} {chr(177)}{np.std(acc):.3f}')\n",
    "\n",
    "## ensemble NB\n",
    "n_ensembles = 50\n",
    "acc, cols_lists = eval_ensemble(X_drop, y, n_iter=5, n_ensembles=n_ensembles, n_features=10, k=5, random_state=0)\n",
    "print(f'Ensemble learners average Acc = {np.mean(acc):.2f} {chr(177)}{np.std(acc):.3f}')\n",
    "print('Percentage of ensembles containing the highest rank is',\n",
    "      sum([ranks[0] in arr for arr in cols_lists])/n_ensembles)"
   ]
  },
  {
   "cell_type": "markdown",
   "metadata": {},
   "source": [
    "So the ensemble NB still does bad because not many have the highest correlated feature, `sex_male` for whether male or female. So we need more features in our ensemble as looking at the below we can see that the correlation is high for whether female or male."
   ]
  },
  {
   "cell_type": "code",
   "execution_count": 16,
   "metadata": {},
   "outputs": [
    {
     "data": {
      "image/png": "[encoded data removed]",
      "text/plain": [
       "<Figure size 288x432 with 1 Axes>"
      ]
     },
     "metadata": {},
     "output_type": "display_data"
    }
   ],
   "source": [
    "sns.set(color_codes=True)\n",
    "df3 = pd.get_dummies(df, columns=['sex'], drop_first=True)\n",
    "\n",
    "fig, axs = plt.subplots(figsize=(4,6), nrows=1, ncols=1)\n",
    "lm = sns.regplot(x='sex_male', y='suicides/100k pop', data=df3, truncate=False, ax=axs)\n",
    "lm.set(xlim=(-.2,1.1), xticks=[0, 1], yticks=[0, 100, 200])\n",
    "\n",
    "from sklearn import linear_model\n",
    "regr = linear_model.LinearRegression()\n",
    "X_lm = df_ohe['sex_male'].values.reshape(-1,1)\n",
    "y_lm = df['suicides/100k pop'].values.reshape(-1,1)\n",
    "regr.fit(X_lm, y_lm)\n",
    "slope = round(regr.coef_[0][0], 2)\n",
    "y_int = round(regr.intercept_[0], 2)\n",
    "textstr = f'y = {slope}x + {y_int}'\n",
    "axs.text(.25, 20, textstr)\n",
    "\n",
    "plt.show()"
   ]
  },
  {
   "cell_type": "code",
   "execution_count": 17,
   "metadata": {
    "scrolled": true
   },
   "outputs": [
    {
     "name": "stdout",
     "output_type": "stream",
     "text": [
      "Ensemble learners average Acc = 0.26 ±0.002\n",
      "Percentage of ensembles containing the highest rank is 0.56\n"
     ]
    }
   ],
   "source": [
    "## ensemble NB\n",
    "n_ensembles = 50\n",
    "acc, cols_lists = eval_ensemble(X_drop, y, n_iter=5, n_ensembles=n_ensembles, n_features=20, k=5, random_state=0)\n",
    "print(f'Ensemble learners average Acc = {np.mean(acc):.2f} {chr(177)}{np.std(acc):.3f}')\n",
    "print('Percentage of ensembles containing the highest rank is',\n",
    "      sum([ranks[0] in arr for arr in cols_lists])/n_ensembles)"
   ]
  },
  {
   "cell_type": "markdown",
   "metadata": {},
   "source": [
    "That did better.  But also I think we need to check really how many ensembles have the top 2 or 3 features.  Without those we are lost."
   ]
  },
  {
   "cell_type": "code",
   "execution_count": 18,
   "metadata": {},
   "outputs": [
    {
     "name": "stdout",
     "output_type": "stream",
     "text": [
      "Percentage of ensembles containing the 3 highest ranks is 0.2\n"
     ]
    }
   ],
   "source": [
    "print('Percentage of ensembles containing the 3 highest ranks is',\n",
    "      sum([all(x in list_ for x in [ranks[0], ranks[1], ranks[2]]) for list_ in cols_lists])/n_ensembles)"
   ]
  },
  {
   "cell_type": "code",
   "execution_count": 19,
   "metadata": {},
   "outputs": [
    {
     "name": "stdout",
     "output_type": "stream",
     "text": [
      "Ensemble learners average Acc = 0.79 ±0.007\n",
      "Percentage of ensembles containing the 3 highest ranks is 0.54\n"
     ]
    }
   ],
   "source": [
    "n_ensembles = 50\n",
    "acc, cols_lists = eval_ensemble(X_drop, y, n_iter=5, n_ensembles=n_ensembles, n_features=30, k=5, random_state=0)\n",
    "print(f'Ensemble learners average Acc = {np.mean(acc):.2f} {chr(177)}{np.std(acc):.3f}')\n",
    "print('Percentage of ensembles containing the 3 highest ranks is',\n",
    "      sum([all(x in list_ for x in [ranks[0], ranks[1], ranks[2]]) for list_ in cols_lists])/n_ensembles)"
   ]
  },
  {
   "cell_type": "markdown",
   "metadata": {},
   "source": [
    "There we go.  We beat the weak NB classifier but barely."
   ]
  },
  {
   "cell_type": "code",
   "execution_count": 20,
   "metadata": {
    "scrolled": true
   },
   "outputs": [
    {
     "name": "stdout",
     "output_type": "stream",
     "text": [
      "RandomForestClassifier CV accuracy=0.98 ±0.002\n"
     ]
    },
    {
     "name": "stderr",
     "output_type": "stream",
     "text": [
      "C:\\Users\\bjwil\\Anaconda3\\lib\\site-packages\\sklearn\\svm\\_base.py:947: ConvergenceWarning: Liblinear failed to converge, increase the number of iterations.\n",
      "  \"the number of iterations.\", ConvergenceWarning)\n",
      "C:\\Users\\bjwil\\Anaconda3\\lib\\site-packages\\sklearn\\svm\\_base.py:947: ConvergenceWarning: Liblinear failed to converge, increase the number of iterations.\n",
      "  \"the number of iterations.\", ConvergenceWarning)\n",
      "C:\\Users\\bjwil\\Anaconda3\\lib\\site-packages\\sklearn\\svm\\_base.py:947: ConvergenceWarning: Liblinear failed to converge, increase the number of iterations.\n",
      "  \"the number of iterations.\", ConvergenceWarning)\n",
      "C:\\Users\\bjwil\\Anaconda3\\lib\\site-packages\\sklearn\\svm\\_base.py:947: ConvergenceWarning: Liblinear failed to converge, increase the number of iterations.\n",
      "  \"the number of iterations.\", ConvergenceWarning)\n",
      "C:\\Users\\bjwil\\Anaconda3\\lib\\site-packages\\sklearn\\svm\\_base.py:947: ConvergenceWarning: Liblinear failed to converge, increase the number of iterations.\n",
      "  \"the number of iterations.\", ConvergenceWarning)\n",
      "C:\\Users\\bjwil\\Anaconda3\\lib\\site-packages\\sklearn\\svm\\_base.py:947: ConvergenceWarning: Liblinear failed to converge, increase the number of iterations.\n",
      "  \"the number of iterations.\", ConvergenceWarning)\n",
      "C:\\Users\\bjwil\\Anaconda3\\lib\\site-packages\\sklearn\\svm\\_base.py:947: ConvergenceWarning: Liblinear failed to converge, increase the number of iterations.\n",
      "  \"the number of iterations.\", ConvergenceWarning)\n",
      "C:\\Users\\bjwil\\Anaconda3\\lib\\site-packages\\sklearn\\svm\\_base.py:947: ConvergenceWarning: Liblinear failed to converge, increase the number of iterations.\n",
      "  \"the number of iterations.\", ConvergenceWarning)\n",
      "C:\\Users\\bjwil\\Anaconda3\\lib\\site-packages\\sklearn\\svm\\_base.py:947: ConvergenceWarning: Liblinear failed to converge, increase the number of iterations.\n",
      "  \"the number of iterations.\", ConvergenceWarning)\n",
      "C:\\Users\\bjwil\\Anaconda3\\lib\\site-packages\\sklearn\\svm\\_base.py:947: ConvergenceWarning: Liblinear failed to converge, increase the number of iterations.\n",
      "  \"the number of iterations.\", ConvergenceWarning)\n"
     ]
    },
    {
     "name": "stdout",
     "output_type": "stream",
     "text": [
      "LinearSVC CV accuracy=0.62 ±0.178\n",
      "GradientBoostingClassifier CV accuracy=0.98 ±0.002\n"
     ]
    }
   ],
   "source": [
    "acc = eval_classifier(RandomForestClassifier(n_estimators=200,  \n",
    "                                             random_state=1, \n",
    "                                             n_jobs=4), X, y, k=10)\n",
    "print(f'RandomForestClassifier CV accuracy={np.mean(acc):.2f} {chr(177)}{np.std(acc):.3f}')\n",
    "\n",
    "acc = eval_classifier(LinearSVC(max_iter=5000, random_state=1), X, y, k=10)\n",
    "print(f'LinearSVC CV accuracy={np.mean(acc):.2f} {chr(177)}{np.std(acc):.3f}')\n",
    "\n",
    "acc = eval_classifier(GradientBoostingClassifier(n_estimators=200, random_state=1), X, y, k=10)\n",
    "print(f'GradientBoostingClassifier CV accuracy={np.mean(acc):.2f} {chr(177)}{np.std(acc):.3f}')"
   ]
  },
  {
   "cell_type": "markdown",
   "metadata": {},
   "source": [
    "So it looks like both ensemble classifiers, RandomForest and GradientBoosting are very good.  Now we can use a VotingClassifier which is also an ensemble and see how it performs when only train on 20% of the data."
   ]
  },
  {
   "cell_type": "code",
   "execution_count": 21,
   "metadata": {},
   "outputs": [
    {
     "name": "stderr",
     "output_type": "stream",
     "text": [
      "C:\\Users\\bjwil\\Anaconda3\\lib\\site-packages\\sklearn\\svm\\_base.py:947: ConvergenceWarning: Liblinear failed to converge, increase the number of iterations.\n",
      "  \"the number of iterations.\", ConvergenceWarning)\n"
     ]
    },
    {
     "name": "stdout",
     "output_type": "stream",
     "text": [
      "0.966\n"
     ]
    }
   ],
   "source": [
    "from sklearn.ensemble import VotingClassifier\n",
    "\n",
    "clf1 = RandomForestClassifier(n_estimators=200, n_jobs=4, random_state=1)\n",
    "clf2 = GradientBoostingClassifier(n_estimators=200, random_state=1)\n",
    "clf3 = LinearSVC(max_iter=10000, random_state=1)\n",
    "voting_clf = VotingClassifier(estimators=[('RF', clf1),\n",
    "                                          ('GB', clf2),\n",
    "                                          ('LinSVC', clf3)])\n",
    "\n",
    "X_train, X_test, y_train, y_test = train_test_split(X, y, test_size=0.8, random_state=1)\n",
    "\n",
    "voting_clf.fit(X_train, y_train)\n",
    "y_pred = voting_clf.predict(X_test)\n",
    "print(round(accuracy_score(y_pred, y_test), 3))"
   ]
  },
  {
   "cell_type": "markdown",
   "metadata": {},
   "source": [
    "Pretty good.  We can also use VotingRegressor for regression for #6.\n",
    "\n",
    "__5. [20 pts] Using your classifier model, what is the predicted category of your dependent\n",
    "variable for the input: \"year=2000, generation=Generation X, age=20, gender=male\"?__\n",
    "\n",
    "Let's just bring out mapping down from the top so we can get the X and y ready\n",
    "\n",
    "df['age_group float'] = df['age'].map({'5-14 years': 0, \n",
    "                                       '15-24 years': 1, \n",
    "                                       '25-34 years': 2, \n",
    "                                       '35-54 years': 3, \n",
    "                                       '55-74 years': 4, \n",
    "                                       '75+ years': 5})\n",
    "\n",
    "df['generation float'] = df['generation'].map({'Generation Z': 0, \n",
    "                                       'Millenials': 1, \n",
    "                                       'Generation X': 2, \n",
    "                                       'Boomers': 3, \n",
    "                                       'Silent': 4, \n",
    "                                       'G.I. Generation': 5})"
   ]
  },
  {
   "cell_type": "code",
   "execution_count": 22,
   "metadata": {},
   "outputs": [
    {
     "data": {
      "text/html": [
       "<div>\n",
       "<style scoped>\n",
       "    .dataframe tbody tr th:only-of-type {\n",
       "        vertical-align: middle;\n",
       "    }\n",
       "\n",
       "    .dataframe tbody tr th {\n",
       "        vertical-align: top;\n",
       "    }\n",
       "\n",
       "    .dataframe thead th {\n",
       "        text-align: right;\n",
       "    }\n",
       "</style>\n",
       "<table border=\"1\" class=\"dataframe\">\n",
       "  <thead>\n",
       "    <tr style=\"text-align: right;\">\n",
       "      <th></th>\n",
       "      <th>year</th>\n",
       "      <th>age_group float</th>\n",
       "      <th>generation float</th>\n",
       "      <th>suicide_split</th>\n",
       "      <th>sex_male</th>\n",
       "    </tr>\n",
       "  </thead>\n",
       "  <tbody>\n",
       "    <tr>\n",
       "      <th>0</th>\n",
       "      <td>1987</td>\n",
       "      <td>1</td>\n",
       "      <td>2</td>\n",
       "      <td>0</td>\n",
       "      <td>1</td>\n",
       "    </tr>\n",
       "    <tr>\n",
       "      <th>1</th>\n",
       "      <td>1987</td>\n",
       "      <td>3</td>\n",
       "      <td>4</td>\n",
       "      <td>0</td>\n",
       "      <td>1</td>\n",
       "    </tr>\n",
       "    <tr>\n",
       "      <th>2</th>\n",
       "      <td>1987</td>\n",
       "      <td>1</td>\n",
       "      <td>2</td>\n",
       "      <td>0</td>\n",
       "      <td>0</td>\n",
       "    </tr>\n",
       "    <tr>\n",
       "      <th>3</th>\n",
       "      <td>1987</td>\n",
       "      <td>5</td>\n",
       "      <td>5</td>\n",
       "      <td>0</td>\n",
       "      <td>1</td>\n",
       "    </tr>\n",
       "    <tr>\n",
       "      <th>4</th>\n",
       "      <td>1987</td>\n",
       "      <td>2</td>\n",
       "      <td>3</td>\n",
       "      <td>0</td>\n",
       "      <td>1</td>\n",
       "    </tr>\n",
       "  </tbody>\n",
       "</table>\n",
       "</div>"
      ],
      "text/plain": [
       "   year  age_group float  generation float suicide_split  sex_male\n",
       "0  1987                1                 2             0         1\n",
       "1  1987                3                 4             0         1\n",
       "2  1987                1                 2             0         0\n",
       "3  1987                5                 5             0         1\n",
       "4  1987                2                 3             0         1"
      ]
     },
     "execution_count": 22,
     "metadata": {},
     "output_type": "execute_result"
    }
   ],
   "source": [
    "df4 = df2.drop(columns=['country', 'suicides_no', 'population', 'gdp_for_year ($)', 'gdp_per_capita ($)'])\n",
    "df4_ohe = pd.get_dummies(df4, columns=['sex'], drop_first=True)\n",
    "df4_ohe.head()"
   ]
  },
  {
   "cell_type": "code",
   "execution_count": 23,
   "metadata": {},
   "outputs": [
    {
     "name": "stdout",
     "output_type": "stream",
     "text": [
      "(27820, 4)\n",
      "(1, 4)\n"
     ]
    }
   ],
   "source": [
    "X = df4_ohe.loc[:, df4_ohe.columns != 'suicide_split'].values\n",
    "y = df4_ohe.loc[:, df4_ohe.columns == 'suicide_split'].values.ravel()\n",
    "print(X.shape)\n",
    "X_sample = np.array([2000, 1, 2, 1])\n",
    "X_sample = X_sample.reshape(1,-1)\n",
    "print(X_sample.shape)"
   ]
  },
  {
   "cell_type": "code",
   "execution_count": 24,
   "metadata": {},
   "outputs": [
    {
     "name": "stderr",
     "output_type": "stream",
     "text": [
      "C:\\Users\\bjwil\\Anaconda3\\lib\\site-packages\\sklearn\\svm\\_base.py:947: ConvergenceWarning: Liblinear failed to converge, increase the number of iterations.\n",
      "  \"the number of iterations.\", ConvergenceWarning)\n"
     ]
    }
   ],
   "source": [
    "voting_clf = VotingClassifier(estimators=[('RF', clf1),\n",
    "                                          ('GB', clf2),\n",
    "                                          ('LinSVC', clf3)])\n",
    "\n",
    "voting_clf.fit(X, y)\n",
    "y_pred = voting_clf.predict(X_sample)"
   ]
  },
  {
   "cell_type": "code",
   "execution_count": 25,
   "metadata": {},
   "outputs": [
    {
     "data": {
      "text/plain": [
       "0"
      ]
     },
     "execution_count": 25,
     "metadata": {},
     "output_type": "execute_result"
    }
   ],
   "source": [
    "y_pred[0]"
   ]
  },
  {
   "cell_type": "markdown",
   "metadata": {},
   "source": [
    "### So this puts the sample in the low risk category.  Let's see where the average is and if it should be high."
   ]
  },
  {
   "cell_type": "code",
   "execution_count": 26,
   "metadata": {},
   "outputs": [
    {
     "name": "stdout",
     "output_type": "stream",
     "text": [
      "Greater than 16.62 should be high else low.\n"
     ]
    }
   ],
   "source": [
    "## what are the quantiles split at?\n",
    "print('Greater than', df['suicides/100k pop'].quantile(0.75), 'should be high else low.')"
   ]
  },
  {
   "cell_type": "code",
   "execution_count": 27,
   "metadata": {},
   "outputs": [
    {
     "data": {
      "text/plain": [
       "14.712441860465113"
      ]
     },
     "execution_count": 27,
     "metadata": {},
     "output_type": "execute_result"
    }
   ],
   "source": [
    "df[(df['sex'] == 'male') & \n",
    "    (df['year'] == 2000) &\n",
    "    (df['age_group float'] == 1) &\n",
    "    (df['generation float'] == 2)]['suicides/100k pop'].mean()"
   ]
  },
  {
   "cell_type": "markdown",
   "metadata": {},
   "source": [
    "OK so we were correct in classifying the sample as low risk category."
   ]
  },
  {
   "cell_type": "markdown",
   "metadata": {},
   "source": [
    "__6. [20 pts bonus] Using your (perhaps a different?) model, what is the actual probability of a\n",
    "\"Generation X 20-year-old male living in a country with 40000 gdp_per_capita\"\n",
    "would commit suicide?__\n",
    "\n",
    "df['age_group float'] = df['age'].map({'5-14 years': 0, '15-24 years': 1, '25-34 years': 2, '35-54 years': 3, '55-74 years': 4, '75+ years': 5})\n",
    "\n",
    "df['generation float'] = df['generation'].map({'Generation Z': 0, 'Millenials': 1, 'Generation X': 2, 'Boomers': 3, 'Silent': 4, 'G.I. Generation': 5})"
   ]
  },
  {
   "cell_type": "code",
   "execution_count": 28,
   "metadata": {},
   "outputs": [
    {
     "data": {
      "text/html": [
       "<div>\n",
       "<style scoped>\n",
       "    .dataframe tbody tr th:only-of-type {\n",
       "        vertical-align: middle;\n",
       "    }\n",
       "\n",
       "    .dataframe tbody tr th {\n",
       "        vertical-align: top;\n",
       "    }\n",
       "\n",
       "    .dataframe thead th {\n",
       "        text-align: right;\n",
       "    }\n",
       "</style>\n",
       "<table border=\"1\" class=\"dataframe\">\n",
       "  <thead>\n",
       "    <tr style=\"text-align: right;\">\n",
       "      <th></th>\n",
       "      <th>country</th>\n",
       "      <th>year</th>\n",
       "      <th>sex</th>\n",
       "      <th>suicides_no</th>\n",
       "      <th>population</th>\n",
       "      <th>suicides/100k pop</th>\n",
       "      <th>gdp_for_year ($)</th>\n",
       "      <th>gdp_per_capita ($)</th>\n",
       "      <th>age_group float</th>\n",
       "      <th>generation float</th>\n",
       "    </tr>\n",
       "  </thead>\n",
       "  <tbody>\n",
       "    <tr>\n",
       "      <th>0</th>\n",
       "      <td>Albania</td>\n",
       "      <td>1987</td>\n",
       "      <td>male</td>\n",
       "      <td>21</td>\n",
       "      <td>312900</td>\n",
       "      <td>6.71</td>\n",
       "      <td>2.156625e+09</td>\n",
       "      <td>796</td>\n",
       "      <td>1</td>\n",
       "      <td>2</td>\n",
       "    </tr>\n",
       "    <tr>\n",
       "      <th>1</th>\n",
       "      <td>Albania</td>\n",
       "      <td>1987</td>\n",
       "      <td>male</td>\n",
       "      <td>16</td>\n",
       "      <td>308000</td>\n",
       "      <td>5.19</td>\n",
       "      <td>2.156625e+09</td>\n",
       "      <td>796</td>\n",
       "      <td>3</td>\n",
       "      <td>4</td>\n",
       "    </tr>\n",
       "    <tr>\n",
       "      <th>2</th>\n",
       "      <td>Albania</td>\n",
       "      <td>1987</td>\n",
       "      <td>female</td>\n",
       "      <td>14</td>\n",
       "      <td>289700</td>\n",
       "      <td>4.83</td>\n",
       "      <td>2.156625e+09</td>\n",
       "      <td>796</td>\n",
       "      <td>1</td>\n",
       "      <td>2</td>\n",
       "    </tr>\n",
       "    <tr>\n",
       "      <th>3</th>\n",
       "      <td>Albania</td>\n",
       "      <td>1987</td>\n",
       "      <td>male</td>\n",
       "      <td>1</td>\n",
       "      <td>21800</td>\n",
       "      <td>4.59</td>\n",
       "      <td>2.156625e+09</td>\n",
       "      <td>796</td>\n",
       "      <td>5</td>\n",
       "      <td>5</td>\n",
       "    </tr>\n",
       "    <tr>\n",
       "      <th>4</th>\n",
       "      <td>Albania</td>\n",
       "      <td>1987</td>\n",
       "      <td>male</td>\n",
       "      <td>9</td>\n",
       "      <td>274300</td>\n",
       "      <td>3.28</td>\n",
       "      <td>2.156625e+09</td>\n",
       "      <td>796</td>\n",
       "      <td>2</td>\n",
       "      <td>3</td>\n",
       "    </tr>\n",
       "  </tbody>\n",
       "</table>\n",
       "</div>"
      ],
      "text/plain": [
       "   country  year     sex  suicides_no  population  suicides/100k pop  \\\n",
       "0  Albania  1987    male           21      312900               6.71   \n",
       "1  Albania  1987    male           16      308000               5.19   \n",
       "2  Albania  1987  female           14      289700               4.83   \n",
       "3  Albania  1987    male            1       21800               4.59   \n",
       "4  Albania  1987    male            9      274300               3.28   \n",
       "\n",
       "   gdp_for_year ($)  gdp_per_capita ($)  age_group float  generation float  \n",
       "0      2.156625e+09                 796                1                 2  \n",
       "1      2.156625e+09                 796                3                 4  \n",
       "2      2.156625e+09                 796                1                 2  \n",
       "3      2.156625e+09                 796                5                 5  \n",
       "4      2.156625e+09                 796                2                 3  "
      ]
     },
     "execution_count": 28,
     "metadata": {},
     "output_type": "execute_result"
    }
   ],
   "source": [
    "df.head()"
   ]
  },
  {
   "cell_type": "code",
   "execution_count": 29,
   "metadata": {},
   "outputs": [
    {
     "data": {
      "text/html": [
       "<div>\n",
       "<style scoped>\n",
       "    .dataframe tbody tr th:only-of-type {\n",
       "        vertical-align: middle;\n",
       "    }\n",
       "\n",
       "    .dataframe tbody tr th {\n",
       "        vertical-align: top;\n",
       "    }\n",
       "\n",
       "    .dataframe thead th {\n",
       "        text-align: right;\n",
       "    }\n",
       "</style>\n",
       "<table border=\"1\" class=\"dataframe\">\n",
       "  <thead>\n",
       "    <tr style=\"text-align: right;\">\n",
       "      <th></th>\n",
       "      <th>suicides/100k pop</th>\n",
       "      <th>gdp_per_capita ($)</th>\n",
       "      <th>age_group float</th>\n",
       "      <th>generation float</th>\n",
       "      <th>sex_male</th>\n",
       "    </tr>\n",
       "  </thead>\n",
       "  <tbody>\n",
       "    <tr>\n",
       "      <th>0</th>\n",
       "      <td>6.71</td>\n",
       "      <td>796</td>\n",
       "      <td>1</td>\n",
       "      <td>2</td>\n",
       "      <td>1</td>\n",
       "    </tr>\n",
       "    <tr>\n",
       "      <th>1</th>\n",
       "      <td>5.19</td>\n",
       "      <td>796</td>\n",
       "      <td>3</td>\n",
       "      <td>4</td>\n",
       "      <td>1</td>\n",
       "    </tr>\n",
       "    <tr>\n",
       "      <th>2</th>\n",
       "      <td>4.83</td>\n",
       "      <td>796</td>\n",
       "      <td>1</td>\n",
       "      <td>2</td>\n",
       "      <td>0</td>\n",
       "    </tr>\n",
       "    <tr>\n",
       "      <th>3</th>\n",
       "      <td>4.59</td>\n",
       "      <td>796</td>\n",
       "      <td>5</td>\n",
       "      <td>5</td>\n",
       "      <td>1</td>\n",
       "    </tr>\n",
       "    <tr>\n",
       "      <th>4</th>\n",
       "      <td>3.28</td>\n",
       "      <td>796</td>\n",
       "      <td>2</td>\n",
       "      <td>3</td>\n",
       "      <td>1</td>\n",
       "    </tr>\n",
       "  </tbody>\n",
       "</table>\n",
       "</div>"
      ],
      "text/plain": [
       "   suicides/100k pop  gdp_per_capita ($)  age_group float  generation float  \\\n",
       "0               6.71                 796                1                 2   \n",
       "1               5.19                 796                3                 4   \n",
       "2               4.83                 796                1                 2   \n",
       "3               4.59                 796                5                 5   \n",
       "4               3.28                 796                2                 3   \n",
       "\n",
       "   sex_male  \n",
       "0         1  \n",
       "1         1  \n",
       "2         0  \n",
       "3         1  \n",
       "4         1  "
      ]
     },
     "execution_count": 29,
     "metadata": {},
     "output_type": "execute_result"
    }
   ],
   "source": [
    "## drop columns we don't need and OneHotEncode 'sex' column\n",
    "df_reg = df.drop(columns=['country', 'year', 'suicides_no', 'population', 'gdp_for_year ($)'])\n",
    "df_reg_ohe = pd.get_dummies(df_reg, ['sex'], drop_first=True)\n",
    "df_reg_ohe.head()"
   ]
  },
  {
   "cell_type": "code",
   "execution_count": 30,
   "metadata": {},
   "outputs": [],
   "source": [
    "X_reg = df_reg_ohe.loc[:, df_reg_ohe.columns != 'suicides/100k pop'].values\n",
    "y_reg = df_reg_ohe.loc[:, df_reg_ohe.columns == 'suicides/100k pop'].values.ravel()\n",
    "\n",
    "X_sample = np.array([40000, 1, 2, 1]).reshape(1, -1)"
   ]
  },
  {
   "cell_type": "code",
   "execution_count": 31,
   "metadata": {},
   "outputs": [
    {
     "name": "stderr",
     "output_type": "stream",
     "text": [
      "C:\\Users\\bjwil\\Anaconda3\\lib\\site-packages\\sklearn\\svm\\_base.py:947: ConvergenceWarning: Liblinear failed to converge, increase the number of iterations.\n",
      "  \"the number of iterations.\", ConvergenceWarning)\n"
     ]
    }
   ],
   "source": [
    "from sklearn.ensemble import RandomForestRegressor, GradientBoostingRegressor, VotingRegressor\n",
    "from sklearn.svm import LinearSVR\n",
    "\n",
    "clf1 = RandomForestRegressor(n_estimators=200, n_jobs=4, random_state=3)\n",
    "clf2 = GradientBoostingRegressor(n_estimators=200, random_state=3)\n",
    "clf3 = LinearSVR(max_iter=10000, random_state=3)\n",
    "voting_clf = VotingRegressor(estimators=[('RF_Reg', clf1),\n",
    "                                          ('GB_Reg', clf2),\n",
    "                                          ('LinSVR', clf3)])\n",
    "\n",
    "voting_clf.fit(X_reg, y_reg)\n",
    "y_pred = voting_clf.predict(X_sample)"
   ]
  },
  {
   "cell_type": "code",
   "execution_count": 32,
   "metadata": {},
   "outputs": [
    {
     "name": "stdout",
     "output_type": "stream",
     "text": [
      "Probability will commit suicide is 0.0154%.\n"
     ]
    }
   ],
   "source": [
    "print('Probability will commit suicide is ', round(y_pred[0]/100000*100,4), \"%.\", sep='')"
   ]
  },
  {
   "cell_type": "markdown",
   "metadata": {},
   "source": [
    "So this was not very far off from the probability I got from assignment three which was 0.0155%."
   ]
  }
 ],
 "metadata": {
  "kernelspec": {
   "display_name": "Python 3",
   "language": "python",
   "name": "python3"
  },
  "language_info": {
   "codemirror_mode": {
    "name": "ipython",
    "version": 3
   },
   "file_extension": ".py",
   "mimetype": "text/x-python",
   "name": "python",
   "nbconvert_exporter": "python",
   "pygments_lexer": "ipython3",
   "version": "3.7.1"
  }
 },
 "nbformat": 4,
 "nbformat_minor": 2
}
