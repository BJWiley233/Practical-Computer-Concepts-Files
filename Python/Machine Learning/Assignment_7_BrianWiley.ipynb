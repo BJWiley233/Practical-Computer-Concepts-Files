{
 "cells": [
  {
   "cell_type": "markdown",
   "metadata": {},
   "source": [
    "<div style=\"text-align: right\"> Brian Wiley <br/>\n",
    "EN.705.601.3VL.SP20 Applied Machine Learning </div>\n",
    "\n",
    "## Assignment 7\n",
    "### Applied Machine Learning"
   ]
  },
  {
   "cell_type": "markdown",
   "metadata": {},
   "source": [
    "__1. [20 pts] Keep the variables as one-hot encoded and develop a multiple linear regression\n",
    "model. Use your model to predict the target variable for the people with age 20, male, and\n",
    "generation X. What is the MAE error of this prediction? How many line coefficients are\n",
    "there?__\n"
   ]
  },
  {
   "cell_type": "code",
   "execution_count": 1,
   "metadata": {},
   "outputs": [],
   "source": [
    "## Import dataset and pre-process from assignment 3\n",
    "import pandas as pd\n",
    "import numpy as np\n",
    "import seaborn as sns;\n",
    "import matplotlib.pyplot as plt\n",
    "\n",
    "df = pd.read_csv('datasets/master.csv')\n",
    "\n",
    "df = df.drop(np.setdiff1d(df.columns, ['sex', 'age', 'generation', 'suicides/100k pop']), axis=1)"
   ]
  },
  {
   "cell_type": "code",
   "execution_count": 2,
   "metadata": {},
   "outputs": [
    {
     "data": {
      "text/html": [
       "<div>\n",
       "<style scoped>\n",
       "    .dataframe tbody tr th:only-of-type {\n",
       "        vertical-align: middle;\n",
       "    }\n",
       "\n",
       "    .dataframe tbody tr th {\n",
       "        vertical-align: top;\n",
       "    }\n",
       "\n",
       "    .dataframe thead th {\n",
       "        text-align: right;\n",
       "    }\n",
       "</style>\n",
       "<table border=\"1\" class=\"dataframe\">\n",
       "  <thead>\n",
       "    <tr style=\"text-align: right;\">\n",
       "      <th></th>\n",
       "      <th>sex</th>\n",
       "      <th>age</th>\n",
       "      <th>suicides/100k pop</th>\n",
       "      <th>generation</th>\n",
       "    </tr>\n",
       "  </thead>\n",
       "  <tbody>\n",
       "    <tr>\n",
       "      <th>0</th>\n",
       "      <td>male</td>\n",
       "      <td>15-24 years</td>\n",
       "      <td>6.71</td>\n",
       "      <td>Generation X</td>\n",
       "    </tr>\n",
       "    <tr>\n",
       "      <th>1</th>\n",
       "      <td>male</td>\n",
       "      <td>35-54 years</td>\n",
       "      <td>5.19</td>\n",
       "      <td>Silent</td>\n",
       "    </tr>\n",
       "    <tr>\n",
       "      <th>2</th>\n",
       "      <td>female</td>\n",
       "      <td>15-24 years</td>\n",
       "      <td>4.83</td>\n",
       "      <td>Generation X</td>\n",
       "    </tr>\n",
       "    <tr>\n",
       "      <th>3</th>\n",
       "      <td>male</td>\n",
       "      <td>75+ years</td>\n",
       "      <td>4.59</td>\n",
       "      <td>G.I. Generation</td>\n",
       "    </tr>\n",
       "    <tr>\n",
       "      <th>4</th>\n",
       "      <td>male</td>\n",
       "      <td>25-34 years</td>\n",
       "      <td>3.28</td>\n",
       "      <td>Boomers</td>\n",
       "    </tr>\n",
       "  </tbody>\n",
       "</table>\n",
       "</div>"
      ],
      "text/plain": [
       "      sex          age  suicides/100k pop       generation\n",
       "0    male  15-24 years               6.71     Generation X\n",
       "1    male  35-54 years               5.19           Silent\n",
       "2  female  15-24 years               4.83     Generation X\n",
       "3    male    75+ years               4.59  G.I. Generation\n",
       "4    male  25-34 years               3.28          Boomers"
      ]
     },
     "execution_count": 2,
     "metadata": {},
     "output_type": "execute_result"
    }
   ],
   "source": [
    "df.head()"
   ]
  },
  {
   "cell_type": "code",
   "execution_count": 3,
   "metadata": {},
   "outputs": [],
   "source": [
    "## the drop first goes by natural sort order, i.e. will drop female (f before m), \n",
    "## and Boomers since B is before rest\n",
    "df2 = pd.get_dummies(df, columns=['age']) ## keep first for age\n",
    "df2 = pd.get_dummies(df2, columns=['sex', 'generation'], drop_first=True)"
   ]
  },
  {
   "cell_type": "code",
   "execution_count": 4,
   "metadata": {},
   "outputs": [
    {
     "data": {
      "text/html": [
       "<div>\n",
       "<style scoped>\n",
       "    .dataframe tbody tr th:only-of-type {\n",
       "        vertical-align: middle;\n",
       "    }\n",
       "\n",
       "    .dataframe tbody tr th {\n",
       "        vertical-align: top;\n",
       "    }\n",
       "\n",
       "    .dataframe thead th {\n",
       "        text-align: right;\n",
       "    }\n",
       "</style>\n",
       "<table border=\"1\" class=\"dataframe\">\n",
       "  <thead>\n",
       "    <tr style=\"text-align: right;\">\n",
       "      <th></th>\n",
       "      <th>suicides/100k pop</th>\n",
       "      <th>age_15-24 years</th>\n",
       "      <th>age_25-34 years</th>\n",
       "      <th>age_35-54 years</th>\n",
       "      <th>age_5-14 years</th>\n",
       "      <th>age_55-74 years</th>\n",
       "      <th>age_75+ years</th>\n",
       "      <th>sex_male</th>\n",
       "      <th>generation_G.I. Generation</th>\n",
       "      <th>generation_Generation X</th>\n",
       "      <th>generation_Generation Z</th>\n",
       "      <th>generation_Millenials</th>\n",
       "      <th>generation_Silent</th>\n",
       "    </tr>\n",
       "  </thead>\n",
       "  <tbody>\n",
       "    <tr>\n",
       "      <th>0</th>\n",
       "      <td>6.71</td>\n",
       "      <td>1</td>\n",
       "      <td>0</td>\n",
       "      <td>0</td>\n",
       "      <td>0</td>\n",
       "      <td>0</td>\n",
       "      <td>0</td>\n",
       "      <td>1</td>\n",
       "      <td>0</td>\n",
       "      <td>1</td>\n",
       "      <td>0</td>\n",
       "      <td>0</td>\n",
       "      <td>0</td>\n",
       "    </tr>\n",
       "    <tr>\n",
       "      <th>1</th>\n",
       "      <td>5.19</td>\n",
       "      <td>0</td>\n",
       "      <td>0</td>\n",
       "      <td>1</td>\n",
       "      <td>0</td>\n",
       "      <td>0</td>\n",
       "      <td>0</td>\n",
       "      <td>1</td>\n",
       "      <td>0</td>\n",
       "      <td>0</td>\n",
       "      <td>0</td>\n",
       "      <td>0</td>\n",
       "      <td>1</td>\n",
       "    </tr>\n",
       "    <tr>\n",
       "      <th>2</th>\n",
       "      <td>4.83</td>\n",
       "      <td>1</td>\n",
       "      <td>0</td>\n",
       "      <td>0</td>\n",
       "      <td>0</td>\n",
       "      <td>0</td>\n",
       "      <td>0</td>\n",
       "      <td>0</td>\n",
       "      <td>0</td>\n",
       "      <td>1</td>\n",
       "      <td>0</td>\n",
       "      <td>0</td>\n",
       "      <td>0</td>\n",
       "    </tr>\n",
       "    <tr>\n",
       "      <th>3</th>\n",
       "      <td>4.59</td>\n",
       "      <td>0</td>\n",
       "      <td>0</td>\n",
       "      <td>0</td>\n",
       "      <td>0</td>\n",
       "      <td>0</td>\n",
       "      <td>1</td>\n",
       "      <td>1</td>\n",
       "      <td>1</td>\n",
       "      <td>0</td>\n",
       "      <td>0</td>\n",
       "      <td>0</td>\n",
       "      <td>0</td>\n",
       "    </tr>\n",
       "    <tr>\n",
       "      <th>4</th>\n",
       "      <td>3.28</td>\n",
       "      <td>0</td>\n",
       "      <td>1</td>\n",
       "      <td>0</td>\n",
       "      <td>0</td>\n",
       "      <td>0</td>\n",
       "      <td>0</td>\n",
       "      <td>1</td>\n",
       "      <td>0</td>\n",
       "      <td>0</td>\n",
       "      <td>0</td>\n",
       "      <td>0</td>\n",
       "      <td>0</td>\n",
       "    </tr>\n",
       "  </tbody>\n",
       "</table>\n",
       "</div>"
      ],
      "text/plain": [
       "   suicides/100k pop  age_15-24 years  age_25-34 years  age_35-54 years  \\\n",
       "0               6.71                1                0                0   \n",
       "1               5.19                0                0                1   \n",
       "2               4.83                1                0                0   \n",
       "3               4.59                0                0                0   \n",
       "4               3.28                0                1                0   \n",
       "\n",
       "   age_5-14 years  age_55-74 years  age_75+ years  sex_male  \\\n",
       "0               0                0              0         1   \n",
       "1               0                0              0         1   \n",
       "2               0                0              0         0   \n",
       "3               0                0              1         1   \n",
       "4               0                0              0         1   \n",
       "\n",
       "   generation_G.I. Generation  generation_Generation X  \\\n",
       "0                           0                        1   \n",
       "1                           0                        0   \n",
       "2                           0                        1   \n",
       "3                           1                        0   \n",
       "4                           0                        0   \n",
       "\n",
       "   generation_Generation Z  generation_Millenials  generation_Silent  \n",
       "0                        0                      0                  0  \n",
       "1                        0                      0                  1  \n",
       "2                        0                      0                  0  \n",
       "3                        0                      0                  0  \n",
       "4                        0                      0                  0  "
      ]
     },
     "execution_count": 4,
     "metadata": {},
     "output_type": "execute_result"
    }
   ],
   "source": [
    "df2.head()"
   ]
  },
  {
   "cell_type": "code",
   "execution_count": 5,
   "metadata": {},
   "outputs": [],
   "source": [
    "X = df2.loc[:, df2.columns != 'suicides/100k pop']\n",
    "y = df2.loc[:, df2.columns == 'suicides/100k pop'].values.ravel()"
   ]
  },
  {
   "cell_type": "markdown",
   "metadata": {},
   "source": [
    "Since when we OneHotEncoded and dropped first, which was the age group `15-24 years` we just need to add 1 for `male`, 0 for all the ages and 1 for GenX."
   ]
  },
  {
   "cell_type": "code",
   "execution_count": 6,
   "metadata": {},
   "outputs": [
    {
     "data": {
      "text/plain": [
       "Index(['age_15-24 years', 'age_25-34 years', 'age_35-54 years',\n",
       "       'age_5-14 years', 'age_55-74 years', 'age_75+ years', 'sex_male',\n",
       "       'generation_G.I. Generation', 'generation_Generation X',\n",
       "       'generation_Generation Z', 'generation_Millenials',\n",
       "       'generation_Silent'],\n",
       "      dtype='object')"
      ]
     },
     "execution_count": 6,
     "metadata": {},
     "output_type": "execute_result"
    }
   ],
   "source": [
    "X.columns"
   ]
  },
  {
   "cell_type": "code",
   "execution_count": 7,
   "metadata": {},
   "outputs": [],
   "source": [
    "## set index to keep for \n",
    "group_indices = df2.index[(df2['age_15-24 years'] == 1) &\n",
    "                          (df2['sex_male'] == 1) &\n",
    "                          (df2['generation_Generation X'] == 1)]"
   ]
  },
  {
   "cell_type": "code",
   "execution_count": 8,
   "metadata": {},
   "outputs": [],
   "source": [
    "X_test = df2.loc[group_indices].loc[:, df2.columns != 'suicides/100k pop']\n",
    "y_test = df2.loc[group_indices].loc[:, df2.columns == 'suicides/100k pop'].values.ravel()"
   ]
  },
  {
   "cell_type": "code",
   "execution_count": 9,
   "metadata": {},
   "outputs": [
    {
     "data": {
      "text/plain": [
       "LinearRegression(copy_X=True, fit_intercept=True, n_jobs=None, normalize=False)"
      ]
     },
     "execution_count": 9,
     "metadata": {},
     "output_type": "execute_result"
    }
   ],
   "source": [
    "from sklearn.linear_model import LinearRegression\n",
    "\n",
    "lin_reg = LinearRegression()\n",
    "lin_reg.fit(X, y)"
   ]
  },
  {
   "cell_type": "code",
   "execution_count": 10,
   "metadata": {},
   "outputs": [
    {
     "name": "stdout",
     "output_type": "stream",
     "text": [
      "[17.08496094 17.08496094 17.08496094 ... 17.08496094 17.08496094\n",
      " 17.08496094]\n"
     ]
    }
   ],
   "source": [
    "y_pred = lin_reg.predict(X_test)\n",
    "print(y_pred)"
   ]
  },
  {
   "cell_type": "code",
   "execution_count": 11,
   "metadata": {},
   "outputs": [
    {
     "name": "stdout",
     "output_type": "stream",
     "text": [
      "MAE for Multiple Linear Regression with polynomial degree 1 is 9.525742483148061\n"
     ]
    }
   ],
   "source": [
    "from sklearn.metrics import mean_absolute_error\n",
    "\n",
    "print(\"MAE for Multiple Linear Regression with polynomial degree 1 is\", mean_absolute_error(y_test, y_pred))"
   ]
  },
  {
   "cell_type": "code",
   "execution_count": 12,
   "metadata": {},
   "outputs": [
    {
     "name": "stdout",
     "output_type": "stream",
     "text": [
      "[-8.78645245e+12 -8.78645245e+12 -8.78645245e+12 -8.78645245e+12\n",
      " -8.78645245e+12 -8.78645245e+12  1.48502356e+01  2.82395960e+00\n",
      " -8.13646627e-01 -1.58633000e+00 -1.82623678e+00 -6.04494376e-02]\n"
     ]
    },
    {
     "data": {
      "text/plain": [
       "True"
      ]
     },
     "execution_count": 12,
     "metadata": {},
     "output_type": "execute_result"
    }
   ],
   "source": [
    "## get coefficients\n",
    "coef = lin_reg.coef_\n",
    "\n",
    "## there should be 12 since X has shape (N, 12)\n",
    "print(coef)\n",
    "len(coef) == X.shape[1]"
   ]
  },
  {
   "cell_type": "code",
   "execution_count": 13,
   "metadata": {},
   "outputs": [
    {
     "data": {
      "text/plain": [
       "True"
      ]
     },
     "execution_count": 13,
     "metadata": {},
     "output_type": "execute_result"
    }
   ],
   "source": [
    "def mae(_y, _y_pred):\n",
    "    return (len(_y)**-1) * np.sum(np.abs(_y_pred-_y))\n",
    "\n",
    "mae(y_test, y_pred) == mean_absolute_error(y_test, y_pred)"
   ]
  },
  {
   "cell_type": "code",
   "execution_count": 14,
   "metadata": {},
   "outputs": [
    {
     "data": {
      "text/plain": [
       "LinearRegression(copy_X=True, fit_intercept=True, n_jobs=None, normalize=False)"
      ]
     },
     "execution_count": 14,
     "metadata": {},
     "output_type": "execute_result"
    }
   ],
   "source": [
    "from sklearn.preprocessing import PolynomialFeatures\n",
    "\n",
    "poly = PolynomialFeatures(degree=5)\n",
    "X_poly = poly.fit_transform(X)\n",
    "\n",
    "lin_reg_poly = LinearRegression()\n",
    "lin_reg_poly.fit(X_poly, y)"
   ]
  },
  {
   "cell_type": "code",
   "execution_count": 15,
   "metadata": {},
   "outputs": [
    {
     "name": "stdout",
     "output_type": "stream",
     "text": [
      "[14.34375 14.34375 14.34375 ... 14.34375 14.34375 14.34375]\n"
     ]
    }
   ],
   "source": [
    "y_pred_poly = lin_reg_poly.predict(poly.fit_transform(X_test))\n",
    "print(y_pred_poly)"
   ]
  },
  {
   "cell_type": "code",
   "execution_count": 16,
   "metadata": {},
   "outputs": [
    {
     "name": "stdout",
     "output_type": "stream",
     "text": [
      "MAE for Multiple Linear Regression with polynomial degree 5 is 8.704007805108798\n"
     ]
    }
   ],
   "source": [
    "print(f\"MAE for Multiple Linear Regression with polynomial degree {poly.get_params()['degree']} is\", \n",
    "      mean_absolute_error(y_test, y_pred_poly))"
   ]
  },
  {
   "cell_type": "markdown",
   "metadata": {},
   "source": [
    "#### This was better at 8.7 compared to 9.52 with polynomial degree 1, i.e linear regression. \n",
    "\n"
   ]
  },
  {
   "cell_type": "markdown",
   "metadata": {},
   "source": [
    "Just to visualize this group subset with plotting we can use PCA with n=2 for a 3D plot. We can do this with linear, which is just a plane at $z=y\\_pred[0]$.  We will do this first with Linear Regression and then polynomial linear regression."
   ]
  },
  {
   "cell_type": "code",
   "execution_count": 17,
   "metadata": {},
   "outputs": [
    {
     "data": {
      "text/plain": [
       "LinearRegression(copy_X=True, fit_intercept=True, n_jobs=None, normalize=False)"
      ]
     },
     "execution_count": 17,
     "metadata": {},
     "output_type": "execute_result"
    }
   ],
   "source": [
    "from sklearn.decomposition import PCA\n",
    "\n",
    "pca = PCA(n_components=2, random_state=41)\n",
    "#X_pca = np.around(pca.fit_transform(X), 7)\n",
    "X_pca = pca.fit_transform(X)\n",
    "\n",
    "lr_pca = LinearRegression()\n",
    "lr_pca.fit(X_pca, y)"
   ]
  },
  {
   "cell_type": "code",
   "execution_count": 18,
   "metadata": {},
   "outputs": [
    {
     "name": "stdout",
     "output_type": "stream",
     "text": [
      "MAE for Multiple Linear Regression with polynomial degree 1 and PCA=2 is 8.611900425154197\n"
     ]
    }
   ],
   "source": [
    "#X_test_pca_transformed = np.around(pca.transform(X_test), 7)\n",
    "X_test_pca_transformed = pca.transform(X_test)\n",
    "y_pca_predict = lr_pca.predict(X_test_pca_transformed)\n",
    "print(\"MAE for Multiple Linear Regression with polynomial degree 1 and PCA=2 is\", \n",
    "      mean_absolute_error(y_test, y_pca_predict))"
   ]
  },
  {
   "cell_type": "code",
   "execution_count": 19,
   "metadata": {},
   "outputs": [
    {
     "data": {
      "image/png": "[encoded data removed]",
      "text/plain": [
       "<Figure size 720x720 with 1 Axes>"
      ]
     },
     "metadata": {
      "needs_background": "light"
     },
     "output_type": "display_data"
    }
   ],
   "source": [
    "## plot it, it will just be a straight line up for actual data since x, y is from same group age 20, male, genX\n",
    "\n",
    "## allow rotation\n",
    "%matplotlib inline\n",
    "\n",
    "## create meshgrid for independent and dependent variables\n",
    "x1 = np.linspace(min(X_pca[:, 0]), max(X_pca[:, 0]), 20)\n",
    "y1 = np.linspace(min(X_pca[:, 1]), max(X_pca[:, 1]), 20)\n",
    "x_mesh1, y_mesh1 = np.meshgrid(x1, y1)\n",
    "data_mesh1 = [np.array([x_mesh1[i], y_mesh1[i]]).T for i in range(len(x_mesh1))]\n",
    "#z1 = np.full(shape=x_mesh1.shape, fill_value=y_pca_predict[0])  ## for the group age 20, male, genX\n",
    "z_all = np.array([lr_pca.fit(X_pca, y).predict(data_mesh1[i]) for i in range(len(x_mesh1))]) # for all\n",
    "\n",
    "## set for coloring of points above and below\n",
    "points_above = y_test >= y_pca_predict\n",
    "points_below = y_test < y_pca_predict\n",
    "\n",
    "## get the x, y pca point for the groupage 20, male, genX\n",
    "x_group, y_group = round(X_test_pca_transformed[0][0], 3), round(X_test_pca_transformed[0][1], 3)\n",
    "\n",
    "fig = plt.figure(figsize=(10,10))\n",
    "\n",
    "ax = plt.axes(projection='3d')\n",
    "ax.view_init(azim=175, elev=2)\n",
    "#ax.plot_surface(x_mesh1, y_mesh1, z1, color='blue', alpha=0.4) ## this is if we want a plane for the group\n",
    "ax.plot_surface(x_mesh1, y_mesh1, z_all, color='gray', alpha=0.4)\n",
    "ax.scatter(X_pca[group_indices, 0][points_above], X_pca[group_indices, 1][points_above], y_test[points_above], color='k')\n",
    "ax.scatter(X_pca[group_indices, 0][points_below], X_pca[group_indices, 1][points_below], y_test[points_below], color='r')\n",
    "ax.scatter(x_group, y_group, y_pca_predict[0], linewidths=6, color='#514C4B')\n",
    "ax.set_xlabel('PCA1')\n",
    "ax.set_ylabel('PCA2')\n",
    "ax.set_zlabel('suicides/100k pop')\n",
    "\n",
    "plt.show()"
   ]
  },
  {
   "cell_type": "markdown",
   "metadata": {},
   "source": [
    "We can also plot for polynomial linear regression with PCA()"
   ]
  },
  {
   "cell_type": "code",
   "execution_count": 20,
   "metadata": {},
   "outputs": [
    {
     "data": {
      "text/plain": [
       "LinearRegression(copy_X=True, fit_intercept=True, n_jobs=None, normalize=False)"
      ]
     },
     "execution_count": 20,
     "metadata": {},
     "output_type": "execute_result"
    }
   ],
   "source": [
    "from sklearn.preprocessing import PolynomialFeatures\n",
    "\n",
    "## Poly transform the previous PCA components\n",
    "pca_poly = PolynomialFeatures(degree=5)\n",
    "X_pca_poly = pca_poly.fit_transform(X_pca)\n",
    "\n",
    "lr_pca_poly = LinearRegression()\n",
    "lr_pca_poly.fit(X_pca_poly, y)"
   ]
  },
  {
   "cell_type": "code",
   "execution_count": 21,
   "metadata": {},
   "outputs": [
    {
     "name": "stdout",
     "output_type": "stream",
     "text": [
      "MAE for Multiple Linear Regression with polynomial degree 5 and PCA=2 is 8.56857852412488\n"
     ]
    }
   ],
   "source": [
    "y_pca_poly_predict = lr_pca_poly.predict(pca_poly.transform(X_test_pca_transformed))\n",
    "print(\"MAE for Multiple Linear Regression with polynomial degree {} and PCA=2 is\".format(pca_poly.get_params()['degree']), \n",
    "      mean_absolute_error(y_test, y_pca_poly_predict))"
   ]
  },
  {
   "cell_type": "markdown",
   "metadata": {},
   "source": [
    "#### MAE was 8.56 we are doing better.  Why was this better by doing a polynomial degree=5?  There is probably some spot in the data that is influencing this datapoint for this group of people.  It could be close or it could be far away and just really pulling this datapoint further from the point to minimize the MAE.  I also checked and the value wil depend on the `random_state` parameter passed to `PCA()`.  This is good to know for the future.\n",
    "\n",
    "Now we are going to plot this the polynomial prediction surface with the linear surface to see why.  The prediction value is still the same value (different from linear degree=1 however) for each instance."
   ]
  },
  {
   "cell_type": "code",
   "execution_count": 22,
   "metadata": {},
   "outputs": [
    {
     "data": {
      "image/png": "[encoded data removed]",
      "text/plain": [
       "<Figure size 720x720 with 1 Axes>"
      ]
     },
     "metadata": {
      "needs_background": "light"
     },
     "output_type": "display_data"
    }
   ],
   "source": [
    "%matplotlib qt\n",
    "\n",
    "x2 = np.linspace(min(X_pca[:, 0]), max(X_pca[:, 0]), 50)\n",
    "y2 = np.linspace(min(X_pca[:, 1]), max(X_pca[:, 1]), 50)\n",
    "x_mesh2, y_mesh2 = np.meshgrid(x2, y2)\n",
    "data_mesh2 = [np.array([x_mesh2[i], y_mesh2[i]]).T for i in range(len(x_mesh2))]\n",
    "z_pca_poly = np.array([lr_pca_poly.fit(X_pca_poly, y).predict(pca_poly.transform(data_mesh2[i])) for i in range(len(x_mesh2))]) \n",
    "\n",
    "## set for coloring of points above and below with PCA and Polynomial\n",
    "points_above_poly = y_test >= y_pca_poly_predict\n",
    "points_below_poly = y_test < y_pca_poly_predict\n",
    "\n",
    "fig = plt.figure(figsize=(10,10))\n",
    "ax = plt.axes(projection='3d')\n",
    "ax.view_init(azim=175, elev=2)\n",
    "ax.plot_surface(x_mesh1, y_mesh1, z_all, color='gray', alpha=0.4)\n",
    "ax.plot_surface(x_mesh2, y_mesh2, z_pca_poly, color='#8B6CF5', alpha=0.4)\n",
    "ax.scatter(X_pca[group_indices, 0][points_above_poly], \n",
    "           X_pca[group_indices, 1][points_above_poly], \n",
    "           y_test[points_above_poly], color='k')\n",
    "ax.scatter(X_pca[group_indices, 0][points_below_poly], \n",
    "           X_pca[group_indices, 1][points_below_poly], \n",
    "           y_test[points_below_poly], color='r')\n",
    "ax.scatter(x_group, y_group, y_pca_poly_predict[0], linewidths=6, color='#3E18BF')\n",
    "ax.set_xlabel('PCA1')\n",
    "ax.set_ylabel('PCA2')\n",
    "ax.set_zlabel('suicides/100k pop')\n",
    "\n",
    "plt.show()"
   ]
  },
  {
   "cell_type": "markdown",
   "metadata": {},
   "source": [
    "As you can see the linear surface in gray has a greater bias and less variance.  With a polynomial degree of 5 it goes up very high.  It is easier to see with `%matplotlib qt` outside of jupyter."
   ]
  },
  {
   "cell_type": "code",
   "execution_count": 23,
   "metadata": {},
   "outputs": [],
   "source": [
    "## plot function for different polynomials\n",
    "def plot_poly_poc(degree=2, ax=None, first=False, **kwargs):\n",
    "    pca_poly = PolynomialFeatures(degree=degree)\n",
    "    X_pca_poly = pca_poly.fit_transform(X_pca)\n",
    "\n",
    "    lr_pca_poly = LinearRegression()\n",
    "    lr_pca_poly.fit(X_pca_poly, y)\n",
    "    \n",
    "    y_pca_poly_predict = lr_pca_poly.predict(pca_poly.transform(X_test_pca_transformed))\n",
    "    print(\"MAE for Multiple Linear Regression with polynomial degree {} and PCA=2 is\".format(pca_poly.get_params()['degree']), \n",
    "          mean_absolute_error(y_test, y_pca_poly_predict))\n",
    "    \n",
    "    x2 = np.linspace(min(X_pca[:, 0]), max(X_pca[:, 0]), 50)\n",
    "    y2 = np.linspace(min(X_pca[:, 1]), max(X_pca[:, 1]), 50)\n",
    "    x_mesh2, y_mesh2 = np.meshgrid(x2, y2)\n",
    "    data_mesh2 = [np.array([x_mesh2[i], y_mesh2[i]]).T for i in range(len(x_mesh2))]\n",
    "    z_pca_poly = np.array([lr_pca_poly.fit(X_pca_poly, y).predict(pca_poly.transform(data_mesh2[i])) for i in range(len(x_mesh2))]) \n",
    "\n",
    "    ## set for coloring of points above and below with PCA and Polynomial\n",
    "    points_above_poly = y_test >= y_pca_poly_predict\n",
    "    points_below_poly = y_test < y_pca_poly_predict\n",
    "\n",
    "    ax.view_init(azim=175, elev=2)\n",
    "    ax.plot_surface(x_mesh1, y_mesh1, z_all, color='gray', alpha=0.4)\n",
    "    ax.plot_surface(x_mesh2, y_mesh2, z_pca_poly, color='#8B6CF5', alpha=0.4)\n",
    "    ax.scatter(X_pca[group_indices, 0][points_above_poly], \n",
    "               X_pca[group_indices, 1][points_above_poly], \n",
    "               y_test[points_above_poly], color='k')\n",
    "    ax.scatter(X_pca[group_indices, 0][points_below_poly], \n",
    "               X_pca[group_indices, 1][points_below_poly], \n",
    "               y_test[points_below_poly], color='r')\n",
    "    ax.scatter(x_group, y_group, y_pca_poly_predict[0], linewidths=6, color='#3E18BF')\n",
    "    \n",
    "    return ax"
   ]
  },
  {
   "cell_type": "code",
   "execution_count": 24,
   "metadata": {
    "scrolled": true
   },
   "outputs": [
    {
     "name": "stdout",
     "output_type": "stream",
     "text": [
      "MAE for Multiple Linear Regression with polynomial degree 2 and PCA=2 is 8.70831061252305\n",
      "MAE for Multiple Linear Regression with polynomial degree 3 and PCA=2 is 8.997250564894916\n",
      "MAE for Multiple Linear Regression with polynomial degree 4 and PCA=2 is 8.760987844692519\n",
      "MAE for Multiple Linear Regression with polynomial degree 5 and PCA=2 is 8.56857852412488\n",
      "MAE for Multiple Linear Regression with polynomial degree 6 and PCA=2 is 10.01998344370861\n",
      "MAE for Multiple Linear Regression with polynomial degree 7 and PCA=2 is 9.151602172274124\n"
     ]
    },
    {
     "data": {
      "text/plain": [
       "Text(0.5, 0.92, 'Degree=7')"
      ]
     },
     "execution_count": 24,
     "metadata": {},
     "output_type": "execute_result"
    }
   ],
   "source": [
    "## plot different polynomials with Gridspec with PCA=2\n",
    "import matplotlib.gridspec as gridspec\n",
    "%matplotlib qt\n",
    "\n",
    "fig = plt.figure(figsize = (10,15), constrained_layout=True)\n",
    "gs1 = gridspec.GridSpec(3, 2, figure = fig)\n",
    "gs1.update(wspace=0.00, hspace=0.05) # set the spacing between axes.\n",
    "\n",
    "ax1 = plt.subplot(gs1[0], projection='3d')\n",
    "plot_poly_poc(degree=2, ax=ax1)\n",
    "ax1.set_xlabel('PCA1')\n",
    "ax1.set_title(\"Degree=2\")\n",
    "\n",
    "ax2 = plt.subplot(gs1[1], projection='3d')\n",
    "plot_poly_poc(degree=3, ax=ax2)\n",
    "ax2.set_title(\"Degree=3\")\n",
    "\n",
    "ax3 = plt.subplot(gs1[2], projection='3d')\n",
    "plot_poly_poc(degree=4, ax=ax3)\n",
    "ax3.set_xlabel('PCA1')\n",
    "ax3.set_zlabel('suicides/100k pop')\n",
    "ax3.set_title(\"Degree=4\")\n",
    "\n",
    "ax4 = plt.subplot(gs1[3], projection='3d')\n",
    "plot_poly_poc(degree=5, ax=ax4)\n",
    "ax4.set_zlabel('suicides/100k pop')\n",
    "ax4.set_title(\"Degree=5\")\n",
    "\n",
    "ax5 = plt.subplot(gs1[4], projection='3d')\n",
    "plot_poly_poc(degree=6, ax=ax5)\n",
    "ax5.set_xlabel('PCA1')\n",
    "ax5.set_ylabel('PCA2')\n",
    "ax5.set_title(\"Degree=6\")\n",
    "\n",
    "ax6 = plt.subplot(gs1[5], projection='3d')\n",
    "plot_poly_poc(degree=7, ax=ax6)\n",
    "ax6.set_ylabel('PCA2')\n",
    "ax6.set_zlabel('suicides/100k pop')\n",
    "ax6.set_title(\"Degree=7\")"
   ]
  },
  {
   "cell_type": "markdown",
   "metadata": {},
   "source": [
    "__2. [30 pts] Now use the original sex, age and generation variables in numerical form and\n",
    "develop a new model. Use your model to predict the target variable for the people with age\n",
    "20, male, and generation X. What is the MAE error of this prediction? How many line\n",
    "coefficients are there? (Note that for this step you have to think of a way of encoding the\n",
    "original nominal age feature and generation feature into numerical features.)__"
   ]
  },
  {
   "cell_type": "code",
   "execution_count": 25,
   "metadata": {},
   "outputs": [],
   "source": [
    "df3 = df.copy(deep=True)\n",
    "\n",
    "df3['sex'] = df3['sex'].map({'female': 0, \n",
    "                             'male': 1})\n",
    "\n",
    "df3['age'] = df3['age'].map({'5-14 years': 0, \n",
    "                             '15-24 years': 1, \n",
    "                             '25-34 years': 2, \n",
    "                             '35-54 years': 3, \n",
    "                             '55-74 years': 4, \n",
    "                             '75+ years': 5})\n",
    "\n",
    "df3['generation'] = df3['generation'].map({'Generation Z': 0, \n",
    "                                           'Millenials': 1, \n",
    "                                           'Generation X': 2, \n",
    "                                           'Boomers': 3, \n",
    "                                           'Silent': 4, \n",
    "                                           'G.I. Generation': 5})"
   ]
  },
  {
   "cell_type": "code",
   "execution_count": 26,
   "metadata": {},
   "outputs": [
    {
     "data": {
      "text/html": [
       "<div>\n",
       "<style scoped>\n",
       "    .dataframe tbody tr th:only-of-type {\n",
       "        vertical-align: middle;\n",
       "    }\n",
       "\n",
       "    .dataframe tbody tr th {\n",
       "        vertical-align: top;\n",
       "    }\n",
       "\n",
       "    .dataframe thead th {\n",
       "        text-align: right;\n",
       "    }\n",
       "</style>\n",
       "<table border=\"1\" class=\"dataframe\">\n",
       "  <thead>\n",
       "    <tr style=\"text-align: right;\">\n",
       "      <th></th>\n",
       "      <th>sex</th>\n",
       "      <th>age</th>\n",
       "      <th>suicides/100k pop</th>\n",
       "      <th>generation</th>\n",
       "    </tr>\n",
       "  </thead>\n",
       "  <tbody>\n",
       "    <tr>\n",
       "      <th>0</th>\n",
       "      <td>1</td>\n",
       "      <td>1</td>\n",
       "      <td>6.71</td>\n",
       "      <td>2</td>\n",
       "    </tr>\n",
       "    <tr>\n",
       "      <th>1</th>\n",
       "      <td>1</td>\n",
       "      <td>3</td>\n",
       "      <td>5.19</td>\n",
       "      <td>4</td>\n",
       "    </tr>\n",
       "    <tr>\n",
       "      <th>2</th>\n",
       "      <td>0</td>\n",
       "      <td>1</td>\n",
       "      <td>4.83</td>\n",
       "      <td>2</td>\n",
       "    </tr>\n",
       "    <tr>\n",
       "      <th>3</th>\n",
       "      <td>1</td>\n",
       "      <td>5</td>\n",
       "      <td>4.59</td>\n",
       "      <td>5</td>\n",
       "    </tr>\n",
       "    <tr>\n",
       "      <th>4</th>\n",
       "      <td>1</td>\n",
       "      <td>2</td>\n",
       "      <td>3.28</td>\n",
       "      <td>3</td>\n",
       "    </tr>\n",
       "  </tbody>\n",
       "</table>\n",
       "</div>"
      ],
      "text/plain": [
       "   sex  age  suicides/100k pop  generation\n",
       "0    1    1               6.71           2\n",
       "1    1    3               5.19           4\n",
       "2    0    1               4.83           2\n",
       "3    1    5               4.59           5\n",
       "4    1    2               3.28           3"
      ]
     },
     "execution_count": 26,
     "metadata": {},
     "output_type": "execute_result"
    }
   ],
   "source": [
    "df3.head()"
   ]
  },
  {
   "cell_type": "markdown",
   "metadata": {},
   "source": [
    "So the results we got above where as follows with OneHotEncoding:\n",
    "* Standard Linear Regression All Components Degree=1 - 9.52 \n",
    "* Standard Linear Regression All Components Degree=5 - 8.7\n",
    "* Standard Linear Regression 2 Primary Components Degree=1 - 8.61 \n",
    "* Standard Linear Regression 2 Primary Components Degree=5 - 8.56"
   ]
  },
  {
   "cell_type": "code",
   "execution_count": 27,
   "metadata": {},
   "outputs": [],
   "source": [
    "## set index to keep \n",
    "group_indices = df3.index[(df3['age'] == 1) &\n",
    "                          (df3['sex'] == 1) &\n",
    "                          (df3['generation'] == 2)]"
   ]
  },
  {
   "cell_type": "code",
   "execution_count": 28,
   "metadata": {},
   "outputs": [],
   "source": [
    "_X = df3.loc[:, df3.columns != 'suicides/100k pop']\n",
    "_y = df3.loc[:, df3.columns == 'suicides/100k pop'].values.ravel()\n",
    "\n",
    "_X_test = df3.loc[group_indices].loc[:, df3.columns != 'suicides/100k pop']\n",
    "_y_test = df3.loc[group_indices].loc[:, df3.columns == 'suicides/100k pop'].values.ravel()"
   ]
  },
  {
   "cell_type": "code",
   "execution_count": 29,
   "metadata": {},
   "outputs": [
    {
     "name": "stdout",
     "output_type": "stream",
     "text": [
      "New MAE for Multiple Linear Regression with polynomial degree 1 is 8.717371097655723\n"
     ]
    }
   ],
   "source": [
    "## Standard Linear Regression All Components Degree=1\n",
    "lin_reg2 = LinearRegression()\n",
    "lin_reg2.fit(_X, _y)\n",
    "\n",
    "_y_pred = lin_reg2.predict(_X_test)\n",
    "print(\"New MAE for Multiple Linear Regression with polynomial degree 1 is\", mean_absolute_error(_y_test, _y_pred))"
   ]
  },
  {
   "cell_type": "code",
   "execution_count": 30,
   "metadata": {},
   "outputs": [
    {
     "name": "stdout",
     "output_type": "stream",
     "text": [
      "New MAE for Multiple Linear Regression with polynomial degree 5 is 8.714476745408648\n"
     ]
    }
   ],
   "source": [
    "#Standard Linear Regression All Components Degree=5\n",
    "_poly = PolynomialFeatures(degree=5)\n",
    "_X_poly = _poly.fit_transform(_X)\n",
    "\n",
    "_lin_reg_poly = LinearRegression()\n",
    "_lin_reg_poly.fit(_X_poly, _y)\n",
    "\n",
    "_y_pred_poly = _lin_reg_poly.predict(_poly.fit_transform(_X_test))\n",
    "\n",
    "print(f\"New MAE for Multiple Linear Regression with polynomial degree {_poly.get_params()['degree']} is\", \n",
    "      mean_absolute_error(_y_test, _y_pred_poly))"
   ]
  },
  {
   "cell_type": "code",
   "execution_count": 31,
   "metadata": {},
   "outputs": [
    {
     "name": "stdout",
     "output_type": "stream",
     "text": [
      "New MAE for Multiple Linear Regression with polynomial degree 1 and PCA=2 is 12.600128656380033\n"
     ]
    }
   ],
   "source": [
    "#Standard Linear Regression 2 Primary Components Degree=1\n",
    "_pca = PCA(n_components=2, random_state=41)\n",
    "_X_pca = _pca.fit_transform(_X)\n",
    "\n",
    "_lr_pca = LinearRegression()\n",
    "_lr_pca.fit(_X_pca, _y)\n",
    "\n",
    "_X_test_pca_transformed = _pca.transform(_X_test)\n",
    "_y_pca_predict = lr_pca.predict(_X_test_pca_transformed)\n",
    "print(\"New MAE for Multiple Linear Regression with polynomial degree 1 and PCA=2 is\", \n",
    "      mean_absolute_error(_y_test, _y_pca_predict))"
   ]
  },
  {
   "cell_type": "code",
   "execution_count": 32,
   "metadata": {},
   "outputs": [
    {
     "name": "stdout",
     "output_type": "stream",
     "text": [
      "MAE for Multiple Linear Regression with polynomial degree 5 and PCA=2 is 8.924302537437944\n"
     ]
    }
   ],
   "source": [
    "#Standard Linear Regression 2 Primary Components Degree=5\n",
    "_pca_poly = PolynomialFeatures(degree=5)\n",
    "_X_pca_poly = _pca_poly.fit_transform(_X_pca)\n",
    "\n",
    "_lr_pca_poly = LinearRegression()\n",
    "_lr_pca_poly.fit(_X_pca_poly, _y)\n",
    "\n",
    "_y_pca_poly_predict = _lr_pca_poly.predict(_pca_poly.transform(_X_test_pca_transformed))\n",
    "print(\"MAE for Multiple Linear Regression with polynomial degree {} and PCA=2 is\".format(_pca_poly.get_params()['degree']), \n",
    "      mean_absolute_error(_y_test, _y_pca_poly_predict))"
   ]
  },
  {
   "cell_type": "markdown",
   "metadata": {},
   "source": [
    "Here are the new results not using OneHotEncoding:\n",
    "* Standard Linear Regression All Components Degree=1 - <span style=\"color:red\">~~9.52~~</span> 8.71\n",
    "* Standard Linear Regression All Components Degree=5 - <span style=\"color:red\">~~8.7~~</span> 8.71\n",
    "* Standard Linear Regression 2 Primary Components Degree=1 - <span style=\"color:red\">~~8.61~~</span> 12.6\n",
    "* Standard Linear Regression 2 Primary Components Degree=5 - <span style=\"color:red\">~~8.56~~</span> 8.92\n",
    "\n",
    "__3. [10 pts] Did you note any change in these two model performances?__\n",
    "<p>Looks like the MAE did better without OneHotEncoding encoding compared to a strictly linear version using OneHotEncoding.  However when we do PCA() on the OneHotEncoded data with a polynomial of degree 5 or 6 it is better. Since we only have 3 variables when we map the data to a value."
   ]
  },
  {
   "cell_type": "code",
   "execution_count": 33,
   "metadata": {},
   "outputs": [
    {
     "name": "stdout",
     "output_type": "stream",
     "text": [
      "[14.84646226  3.70818792  0.42179613]\n"
     ]
    },
    {
     "data": {
      "text/plain": [
       "3"
      ]
     },
     "execution_count": 33,
     "metadata": {},
     "output_type": "execute_result"
    }
   ],
   "source": [
    "_coef = lin_reg2.coef_\n",
    "\n",
    "## there should be 12 since X has shape (N, 12)\n",
    "print(_coef)\n",
    "len(_coef)"
   ]
  },
  {
   "cell_type": "markdown",
   "metadata": {},
   "source": [
    "__4. [10 pts] What is the prediction for age 33, male and generation Alpha (i.e. the generation\n",
    "after generation Z)?__\n",
    "\n",
    "We can do this with the OneHotEncoded Data but we have to remove the `drop_first=True` parameter for that column specifically and add all zeros."
   ]
  },
  {
   "cell_type": "code",
   "execution_count": 34,
   "metadata": {},
   "outputs": [
    {
     "data": {
      "text/html": [
       "<div>\n",
       "<style scoped>\n",
       "    .dataframe tbody tr th:only-of-type {\n",
       "        vertical-align: middle;\n",
       "    }\n",
       "\n",
       "    .dataframe tbody tr th {\n",
       "        vertical-align: top;\n",
       "    }\n",
       "\n",
       "    .dataframe thead th {\n",
       "        text-align: right;\n",
       "    }\n",
       "</style>\n",
       "<table border=\"1\" class=\"dataframe\">\n",
       "  <thead>\n",
       "    <tr style=\"text-align: right;\">\n",
       "      <th></th>\n",
       "      <th>suicides/100k pop</th>\n",
       "      <th>age_25-34 years</th>\n",
       "      <th>age_35-54 years</th>\n",
       "      <th>age_5-14 years</th>\n",
       "      <th>age_55-74 years</th>\n",
       "      <th>age_75+ years</th>\n",
       "      <th>sex_male</th>\n",
       "      <th>generation_Boomers</th>\n",
       "      <th>generation_G.I. Generation</th>\n",
       "      <th>generation_Generation X</th>\n",
       "      <th>generation_Generation Z</th>\n",
       "      <th>generation_Millenials</th>\n",
       "      <th>generation_Silent</th>\n",
       "    </tr>\n",
       "  </thead>\n",
       "  <tbody>\n",
       "    <tr>\n",
       "      <th>0</th>\n",
       "      <td>6.71</td>\n",
       "      <td>0</td>\n",
       "      <td>0</td>\n",
       "      <td>0</td>\n",
       "      <td>0</td>\n",
       "      <td>0</td>\n",
       "      <td>1</td>\n",
       "      <td>0</td>\n",
       "      <td>0</td>\n",
       "      <td>1</td>\n",
       "      <td>0</td>\n",
       "      <td>0</td>\n",
       "      <td>0</td>\n",
       "    </tr>\n",
       "    <tr>\n",
       "      <th>1</th>\n",
       "      <td>5.19</td>\n",
       "      <td>0</td>\n",
       "      <td>1</td>\n",
       "      <td>0</td>\n",
       "      <td>0</td>\n",
       "      <td>0</td>\n",
       "      <td>1</td>\n",
       "      <td>0</td>\n",
       "      <td>0</td>\n",
       "      <td>0</td>\n",
       "      <td>0</td>\n",
       "      <td>0</td>\n",
       "      <td>1</td>\n",
       "    </tr>\n",
       "    <tr>\n",
       "      <th>2</th>\n",
       "      <td>4.83</td>\n",
       "      <td>0</td>\n",
       "      <td>0</td>\n",
       "      <td>0</td>\n",
       "      <td>0</td>\n",
       "      <td>0</td>\n",
       "      <td>0</td>\n",
       "      <td>0</td>\n",
       "      <td>0</td>\n",
       "      <td>1</td>\n",
       "      <td>0</td>\n",
       "      <td>0</td>\n",
       "      <td>0</td>\n",
       "    </tr>\n",
       "    <tr>\n",
       "      <th>3</th>\n",
       "      <td>4.59</td>\n",
       "      <td>0</td>\n",
       "      <td>0</td>\n",
       "      <td>0</td>\n",
       "      <td>0</td>\n",
       "      <td>1</td>\n",
       "      <td>1</td>\n",
       "      <td>0</td>\n",
       "      <td>1</td>\n",
       "      <td>0</td>\n",
       "      <td>0</td>\n",
       "      <td>0</td>\n",
       "      <td>0</td>\n",
       "    </tr>\n",
       "    <tr>\n",
       "      <th>4</th>\n",
       "      <td>3.28</td>\n",
       "      <td>1</td>\n",
       "      <td>0</td>\n",
       "      <td>0</td>\n",
       "      <td>0</td>\n",
       "      <td>0</td>\n",
       "      <td>1</td>\n",
       "      <td>1</td>\n",
       "      <td>0</td>\n",
       "      <td>0</td>\n",
       "      <td>0</td>\n",
       "      <td>0</td>\n",
       "      <td>0</td>\n",
       "    </tr>\n",
       "  </tbody>\n",
       "</table>\n",
       "</div>"
      ],
      "text/plain": [
       "   suicides/100k pop  age_25-34 years  age_35-54 years  age_5-14 years  \\\n",
       "0               6.71                0                0               0   \n",
       "1               5.19                0                1               0   \n",
       "2               4.83                0                0               0   \n",
       "3               4.59                0                0               0   \n",
       "4               3.28                1                0               0   \n",
       "\n",
       "   age_55-74 years  age_75+ years  sex_male  generation_Boomers  \\\n",
       "0                0              0         1                   0   \n",
       "1                0              0         1                   0   \n",
       "2                0              0         0                   0   \n",
       "3                0              1         1                   0   \n",
       "4                0              0         1                   1   \n",
       "\n",
       "   generation_G.I. Generation  generation_Generation X  \\\n",
       "0                           0                        1   \n",
       "1                           0                        0   \n",
       "2                           0                        1   \n",
       "3                           1                        0   \n",
       "4                           0                        0   \n",
       "\n",
       "   generation_Generation Z  generation_Millenials  generation_Silent  \n",
       "0                        0                      0                  0  \n",
       "1                        0                      0                  1  \n",
       "2                        0                      0                  0  \n",
       "3                        0                      0                  0  \n",
       "4                        0                      0                  0  "
      ]
     },
     "execution_count": 34,
     "metadata": {},
     "output_type": "execute_result"
    }
   ],
   "source": [
    "df4 = pd.get_dummies(df, columns=['age', 'sex'], drop_first=True) \n",
    "df4 = pd.get_dummies(df4, columns=['generation']) ## keep first for generation\n",
    "df4.head()"
   ]
  },
  {
   "cell_type": "code",
   "execution_count": 35,
   "metadata": {},
   "outputs": [
    {
     "data": {
      "text/html": [
       "<div>\n",
       "<style scoped>\n",
       "    .dataframe tbody tr th:only-of-type {\n",
       "        vertical-align: middle;\n",
       "    }\n",
       "\n",
       "    .dataframe tbody tr th {\n",
       "        vertical-align: top;\n",
       "    }\n",
       "\n",
       "    .dataframe thead th {\n",
       "        text-align: right;\n",
       "    }\n",
       "</style>\n",
       "<table border=\"1\" class=\"dataframe\">\n",
       "  <thead>\n",
       "    <tr style=\"text-align: right;\">\n",
       "      <th></th>\n",
       "      <th>age_25-34 years</th>\n",
       "      <th>age_35-54 years</th>\n",
       "      <th>age_5-14 years</th>\n",
       "      <th>age_55-74 years</th>\n",
       "      <th>age_75+ years</th>\n",
       "      <th>sex_male</th>\n",
       "      <th>generation_Boomers</th>\n",
       "      <th>generation_G.I. Generation</th>\n",
       "      <th>generation_Generation X</th>\n",
       "      <th>generation_Generation Z</th>\n",
       "      <th>generation_Millenials</th>\n",
       "      <th>generation_Silent</th>\n",
       "    </tr>\n",
       "  </thead>\n",
       "  <tbody>\n",
       "    <tr>\n",
       "      <th>0</th>\n",
       "      <td>0</td>\n",
       "      <td>0</td>\n",
       "      <td>0</td>\n",
       "      <td>0</td>\n",
       "      <td>0</td>\n",
       "      <td>1</td>\n",
       "      <td>0</td>\n",
       "      <td>0</td>\n",
       "      <td>1</td>\n",
       "      <td>0</td>\n",
       "      <td>0</td>\n",
       "      <td>0</td>\n",
       "    </tr>\n",
       "    <tr>\n",
       "      <th>1</th>\n",
       "      <td>0</td>\n",
       "      <td>1</td>\n",
       "      <td>0</td>\n",
       "      <td>0</td>\n",
       "      <td>0</td>\n",
       "      <td>1</td>\n",
       "      <td>0</td>\n",
       "      <td>0</td>\n",
       "      <td>0</td>\n",
       "      <td>0</td>\n",
       "      <td>0</td>\n",
       "      <td>1</td>\n",
       "    </tr>\n",
       "    <tr>\n",
       "      <th>2</th>\n",
       "      <td>0</td>\n",
       "      <td>0</td>\n",
       "      <td>0</td>\n",
       "      <td>0</td>\n",
       "      <td>0</td>\n",
       "      <td>0</td>\n",
       "      <td>0</td>\n",
       "      <td>0</td>\n",
       "      <td>1</td>\n",
       "      <td>0</td>\n",
       "      <td>0</td>\n",
       "      <td>0</td>\n",
       "    </tr>\n",
       "    <tr>\n",
       "      <th>3</th>\n",
       "      <td>0</td>\n",
       "      <td>0</td>\n",
       "      <td>0</td>\n",
       "      <td>0</td>\n",
       "      <td>1</td>\n",
       "      <td>1</td>\n",
       "      <td>0</td>\n",
       "      <td>1</td>\n",
       "      <td>0</td>\n",
       "      <td>0</td>\n",
       "      <td>0</td>\n",
       "      <td>0</td>\n",
       "    </tr>\n",
       "    <tr>\n",
       "      <th>4</th>\n",
       "      <td>1</td>\n",
       "      <td>0</td>\n",
       "      <td>0</td>\n",
       "      <td>0</td>\n",
       "      <td>0</td>\n",
       "      <td>1</td>\n",
       "      <td>1</td>\n",
       "      <td>0</td>\n",
       "      <td>0</td>\n",
       "      <td>0</td>\n",
       "      <td>0</td>\n",
       "      <td>0</td>\n",
       "    </tr>\n",
       "  </tbody>\n",
       "</table>\n",
       "</div>"
      ],
      "text/plain": [
       "   age_25-34 years  age_35-54 years  age_5-14 years  age_55-74 years  \\\n",
       "0                0                0               0                0   \n",
       "1                0                1               0                0   \n",
       "2                0                0               0                0   \n",
       "3                0                0               0                0   \n",
       "4                1                0               0                0   \n",
       "\n",
       "   age_75+ years  sex_male  generation_Boomers  generation_G.I. Generation  \\\n",
       "0              0         1                   0                           0   \n",
       "1              0         1                   0                           0   \n",
       "2              0         0                   0                           0   \n",
       "3              1         1                   0                           1   \n",
       "4              0         1                   1                           0   \n",
       "\n",
       "   generation_Generation X  generation_Generation Z  generation_Millenials  \\\n",
       "0                        1                        0                      0   \n",
       "1                        0                        0                      0   \n",
       "2                        1                        0                      0   \n",
       "3                        0                        0                      0   \n",
       "4                        0                        0                      0   \n",
       "\n",
       "   generation_Silent  \n",
       "0                  0  \n",
       "1                  1  \n",
       "2                  0  \n",
       "3                  0  \n",
       "4                  0  "
      ]
     },
     "execution_count": 35,
     "metadata": {},
     "output_type": "execute_result"
    }
   ],
   "source": [
    "X_4 = df4.loc[:, df4.columns != 'suicides/100k pop']\n",
    "X_4.head()"
   ]
  },
  {
   "cell_type": "code",
   "execution_count": 36,
   "metadata": {},
   "outputs": [
    {
     "name": "stdout",
     "output_type": "stream",
     "text": [
      "Prediction for age 33, male, in genA -4739326300492.712\n"
     ]
    }
   ],
   "source": [
    "X_4_test = np.array([1, 0, 0, 0, 0, 1, 0, 0, 0, 0, 0, 0]).reshape(1, -1)\n",
    "\n",
    "lr_4 = LinearRegression()\n",
    "predict = lr_4.fit(X_4, y).predict(X_4_test)\n",
    "print(\"Prediction for age 33, male, in genA\", predict[0])"
   ]
  },
  {
   "cell_type": "markdown",
   "metadata": {},
   "source": [
    "The reason the value is negative is that there is no data for that particular example.  Let try adding a value and moving the generations down 1 for the numerical data."
   ]
  },
  {
   "cell_type": "code",
   "execution_count": 37,
   "metadata": {},
   "outputs": [],
   "source": [
    "from collections import OrderedDict \n",
    "\n",
    "df4a = df.copy(deep=True)\n",
    "\n",
    "df4a['sex'] = df4a['sex'].map({'female': 0, \n",
    "                             'male': 1})\n",
    "\n",
    "df4a['age'] = df4a['age'].map({'5-14 years': 0, \n",
    "                             '15-24 years': 1, \n",
    "                             '25-34 years': 2, \n",
    "                             '35-54 years': 3, \n",
    "                             '55-74 years': 4, \n",
    "                             '75+ years': 5})\n",
    "\n",
    "gen_map = OrderedDict({'Generation Alpha': 0,\n",
    "                       'Generation Z': 1, \n",
    "                       'Millenials': 2, \n",
    "                       'Generation X': 3, \n",
    "                       'Boomers': 4, \n",
    "                       'Silent': 5, \n",
    "                       'G.I. Generation': 6})\n",
    "\n",
    "df4a['generation'] = df4a['generation'].map(gen_map)"
   ]
  },
  {
   "cell_type": "code",
   "execution_count": 38,
   "metadata": {},
   "outputs": [
    {
     "data": {
      "text/plain": [
       "0"
      ]
     },
     "execution_count": 38,
     "metadata": {},
     "output_type": "execute_result"
    }
   ],
   "source": [
    "X_4a = df4a.loc[:, df4a.columns != 'suicides/100k pop']\n",
    "sum(X_4a.generation == 0)"
   ]
  },
  {
   "cell_type": "code",
   "execution_count": 39,
   "metadata": {},
   "outputs": [
    {
     "data": {
      "text/html": [
       "<div>\n",
       "<style scoped>\n",
       "    .dataframe tbody tr th:only-of-type {\n",
       "        vertical-align: middle;\n",
       "    }\n",
       "\n",
       "    .dataframe tbody tr th {\n",
       "        vertical-align: top;\n",
       "    }\n",
       "\n",
       "    .dataframe thead th {\n",
       "        text-align: right;\n",
       "    }\n",
       "</style>\n",
       "<table border=\"1\" class=\"dataframe\">\n",
       "  <thead>\n",
       "    <tr style=\"text-align: right;\">\n",
       "      <th></th>\n",
       "      <th>sex</th>\n",
       "      <th>age</th>\n",
       "      <th>generation</th>\n",
       "    </tr>\n",
       "  </thead>\n",
       "  <tbody>\n",
       "    <tr>\n",
       "      <th>0</th>\n",
       "      <td>1</td>\n",
       "      <td>1</td>\n",
       "      <td>3</td>\n",
       "    </tr>\n",
       "    <tr>\n",
       "      <th>1</th>\n",
       "      <td>1</td>\n",
       "      <td>3</td>\n",
       "      <td>5</td>\n",
       "    </tr>\n",
       "    <tr>\n",
       "      <th>2</th>\n",
       "      <td>0</td>\n",
       "      <td>1</td>\n",
       "      <td>3</td>\n",
       "    </tr>\n",
       "    <tr>\n",
       "      <th>3</th>\n",
       "      <td>1</td>\n",
       "      <td>5</td>\n",
       "      <td>6</td>\n",
       "    </tr>\n",
       "    <tr>\n",
       "      <th>4</th>\n",
       "      <td>1</td>\n",
       "      <td>2</td>\n",
       "      <td>4</td>\n",
       "    </tr>\n",
       "  </tbody>\n",
       "</table>\n",
       "</div>"
      ],
      "text/plain": [
       "   sex  age  generation\n",
       "0    1    1           3\n",
       "1    1    3           5\n",
       "2    0    1           3\n",
       "3    1    5           6\n",
       "4    1    2           4"
      ]
     },
     "execution_count": 39,
     "metadata": {},
     "output_type": "execute_result"
    }
   ],
   "source": [
    "X_4a.head()"
   ]
  },
  {
   "cell_type": "code",
   "execution_count": 40,
   "metadata": {},
   "outputs": [
    {
     "name": "stdout",
     "output_type": "stream",
     "text": [
      "Prediction for age 33, male, in genA 16.84891852065249\n"
     ]
    }
   ],
   "source": [
    "X_4a_test = np.array([1, 2, 0]).reshape(1, -1)\n",
    "\n",
    "lr_4a = LinearRegression()\n",
    "predict_4a = lr_4.fit(X_4a, y).predict(X_4a_test)\n",
    "print(\"Prediction for age 33, male, in genA\", predict_4a[0])"
   ]
  },
  {
   "cell_type": "markdown",
   "metadata": {},
   "source": [
    "So this one make sense because if we test with each other generation we see if going down and this number is near the generation before it."
   ]
  },
  {
   "cell_type": "code",
   "execution_count": 41,
   "metadata": {},
   "outputs": [
    {
     "name": "stdout",
     "output_type": "stream",
     "text": [
      "Prediction for age 33, male, in G.I. Generation    19.3797             \n",
      "Prediction for age 33, male, in Silent             18.9579             \n",
      "Prediction for age 33, male, in Boomers            18.5361             \n",
      "Prediction for age 33, male, in Generation X       18.1143             \n",
      "Prediction for age 33, male, in Millenials         17.6925             \n",
      "Prediction for age 33, male, in Generation Z       17.2707             \n",
      "Prediction for age 33, male, in Generation Alpha   16.8489             \n"
     ]
    }
   ],
   "source": [
    "for k, v in OrderedDict(reversed(list(gen_map.items()))).items():\n",
    "    X_4b_test = np.array([1, 2, v]).reshape(1, -1)\n",
    "    predict_4b = lr_4a.fit(X_4a, y).predict(X_4b_test)\n",
    "    print(f'Prediction for age 33, male, in {k:<18} {round(predict_4b[0], 4):<20}')"
   ]
  },
  {
   "cell_type": "markdown",
   "metadata": {},
   "source": [
    "__5. [10 pts] Give one advantage when using regression (as opposed to classification with\n",
    "nominal features) in terms of input data features.__\n",
    "\n",
    "The one feature is that you do not have to worry about the model making an interpretation, i.e. assuming and ordering, on the numerical data.  The value of the data will be incorporated into regression algorithm and may have affect the loss function less that in logistic regression or classification by bucketing the dependent variable."
   ]
  },
  {
   "cell_type": "markdown",
   "metadata": {},
   "source": [
    "__6. [10 pts bonus] Give one advantage when using regular numerical values rather than onehot encoding for regression.__\n",
    "\n",
    "One advantage is upkeep with the model.  If you have you data in OneHotEncoded you will have to continue to have the new data OneHotEncoded.  The other advantage is basically what we saw with the above.  The linear regression formula gave a really low negative number, which is not invalid as we can have negative numbers with linear regression because we can cross the x-intercept with the fitted line, but that sparse matrix made it harder to come up a valid estimate.  Since sometime a nominal ordering is valid, as we saw in the data exploration step in Assignment 3 where there was correlation between generation and suicide rate, it can be beneficial to make predictions on data we have not seen before by giving a value to these examples (which is a priori bias) can help make a prediction that is more valid.  This is where we have the difference between frequentists vs. Bayesian statistics."
   ]
  }
 ],
 "metadata": {
  "kernelspec": {
   "display_name": "Python 3",
   "language": "python",
   "name": "python3"
  },
  "language_info": {
   "codemirror_mode": {
    "name": "ipython",
    "version": 3
   },
   "file_extension": ".py",
   "mimetype": "text/x-python",
   "name": "python",
   "nbconvert_exporter": "python",
   "pygments_lexer": "ipython3",
   "version": "3.7.1"
  }
 },
 "nbformat": 4,
 "nbformat_minor": 4
}
