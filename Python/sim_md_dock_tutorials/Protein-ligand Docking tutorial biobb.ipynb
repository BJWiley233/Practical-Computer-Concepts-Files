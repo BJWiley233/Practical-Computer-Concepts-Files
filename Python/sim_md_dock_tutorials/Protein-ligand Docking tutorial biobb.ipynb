{
 "cells": [
  {
   "cell_type": "code",
   "execution_count": 1,
   "id": "6635c84e",
   "metadata": {},
   "outputs": [
    {
     "data": {
      "application/vnd.jupyter.widget-view+json": {
       "model_id": "a8c2e8af6d0c4614967e4085da1bb9ce",
       "version_major": 2,
       "version_minor": 0
      },
      "text/plain": []
     },
     "metadata": {},
     "output_type": "display_data"
    }
   ],
   "source": [
    "import nglview\n",
    "import ipywidgets\n",
    "\n",
    "pdb_code = \"3LFA\"         # P38 + Dasatinib\n",
    "\n",
    "ligand_code = \"1N1\"       # Dasatinib"
   ]
  },
  {
   "cell_type": "code",
   "execution_count": 2,
   "id": "7cd5822b",
   "metadata": {},
   "outputs": [],
   "source": [
    "import certifi\n",
    "import urllib3\n",
    "http = urllib3.PoolManager(\n",
    "     cert_reqs='CERT_REQUIRED',\n",
    "     ca_certs=certifi.where()\n",
    ")"
   ]
  },
  {
   "cell_type": "code",
   "execution_count": 3,
   "id": "15d19fe4",
   "metadata": {},
   "outputs": [
    {
     "data": {
      "text/plain": [
       "<urllib3.response.HTTPResponse at 0x7f993b5675d0>"
      ]
     },
     "execution_count": 3,
     "metadata": {},
     "output_type": "execute_result"
    }
   ],
   "source": [
    "http.request('GET', 'www.ebi.ac.uk')"
   ]
  },
  {
   "cell_type": "code",
   "execution_count": 4,
   "id": "8b63a9fe",
   "metadata": {},
   "outputs": [
    {
     "name": "stdout",
     "output_type": "stream",
     "text": [
      "2021-12-05 01:51:53,832 [MainThread  ] [INFO ]  Downloading: 3lfa from: https://www.ebi.ac.uk/pdbe/entry-files/download/pdb3lfa.ent\n"
     ]
    },
    {
     "name": "stderr",
     "output_type": "stream",
     "text": [
      "/Users/brian/anaconda3/envs/biobb/lib/python3.7/site-packages/urllib3/connectionpool.py:1020: InsecureRequestWarning: Unverified HTTPS request is being made to host 'www.ebi.ac.uk'. Adding certificate verification is strongly advised. See: https://urllib3.readthedocs.io/en/1.26.x/advanced-usage.html#ssl-warnings\n",
      "  InsecureRequestWarning,\n"
     ]
    },
    {
     "name": "stdout",
     "output_type": "stream",
     "text": [
      "2021-12-05 01:51:54,576 [MainThread  ] [INFO ]  Writting pdb to: download.pdb\n",
      "2021-12-05 01:51:54,577 [MainThread  ] [INFO ]  Filtering lines NOT starting with one of these words: ['ATOM', 'HETATM']\n"
     ]
    },
    {
     "data": {
      "text/plain": [
       "0"
      ]
     },
     "execution_count": 4,
     "metadata": {},
     "output_type": "execute_result"
    }
   ],
   "source": [
    "from biobb_io.api.pdb import pdb\n",
    "\n",
    "download_pdb = \"download.pdb\"\n",
    "prop = {\n",
    "  \"pdb_code\": pdb_code,\n",
    "  \"filter\": [\"ATOM\", \"HETATM\"]\n",
    "}\n",
    "\n",
    "pdb(output_pdb_path=download_pdb,\n",
    "    properties=prop)"
   ]
  },
  {
   "cell_type": "code",
   "execution_count": 5,
   "id": "4d7f2cac",
   "metadata": {},
   "outputs": [
    {
     "data": {
      "application/vnd.jupyter.widget-view+json": {
       "model_id": "39af07d2b4f64a6dae24c943a4f953ff",
       "version_major": 2,
       "version_minor": 0
      },
      "text/plain": [
       "NGLWidget()"
      ]
     },
     "metadata": {},
     "output_type": "display_data"
    }
   ],
   "source": [
    "view = nglview.show_structure_file(download_pdb, default=True)\n",
    "view.center()\n",
    "view._remote_call('setSize', target='Widget', args=['','600px'])\n",
    "\n",
    "view\n"
   ]
  },
  {
   "cell_type": "code",
   "execution_count": 6,
   "id": "c0ec13cc",
   "metadata": {},
   "outputs": [
    {
     "name": "stdout",
     "output_type": "stream",
     "text": [
      "ATOM      1  N   GLU A   4      43.732 -17.189 -28.467  1.00 44.05           N  \r\n",
      "ATOM      2  CA  GLU A   4      42.557 -17.359 -27.580  1.00 43.91           C  \r\n",
      "ATOM      3  C   GLU A   4      42.111 -16.014 -27.005  1.00 43.57           C  \r\n",
      "ATOM      4  O   GLU A   4      41.027 -15.519 -27.327  1.00 43.96           O  \r\n",
      "ATOM      5  CB  GLU A   4      42.872 -18.342 -26.449  1.00 43.90           C  \r\n",
      "ATOM      6  N   ARG A   5      42.937 -15.436 -26.142  1.00 43.09           N  \r\n",
      "ATOM      7  CA  ARG A   5      42.564 -14.209 -25.442  1.00 42.57           C  \r\n",
      "ATOM      8  C   ARG A   5      42.708 -13.013 -26.377  1.00 41.61           C  \r\n",
      "ATOM      9  O   ARG A   5      43.746 -12.869 -27.021  1.00 41.52           O  \r\n",
      "ATOM     10  CB  ARG A   5      43.426 -14.010 -24.193  1.00 42.65           C  \r\n"
     ]
    }
   ],
   "source": [
    "!head download.pdb"
   ]
  },
  {
   "cell_type": "code",
   "execution_count": 7,
   "id": "62538648",
   "metadata": {},
   "outputs": [
    {
     "name": "stdout",
     "output_type": "stream",
     "text": [
      "2021-12-05 01:51:54,917 [MainThread  ] [INFO ]  Creating 4721e899-aa49-4d78-8420-33c820b86d79 temporary folder\n",
      "2021-12-05 01:51:54,918 [MainThread  ] [INFO ]  check_structure -i /Users/brian/tools/biobb/biobb_wf_virtual-screening/download.pdb -o pdb_protein.pdb --force_save --non_interactive command_list --list 4721e899-aa49-4d78-8420-33c820b86d79/extract_prot.lst\n",
      "\n",
      "2021-12-05 01:51:56,301 [MainThread  ] [INFO ]  Exit code 0\n",
      "\n",
      "2021-12-05 01:51:56,303 [MainThread  ] [INFO ]  ===============================================================================\n",
      "=                   BioBB structure checking utility v3.8.1                   =\n",
      "=                 A. Hospital, P. Andrio, J.L. Gelpi 2018-21                  =\n",
      "===============================================================================\n",
      "\n",
      "Warning: sequence features only available in mmCIF format or with external fasta input\n",
      "Structure /Users/brian/tools/biobb/biobb_wf_virtual-screening/download.pdb loaded\n",
      " Title: \n",
      " Experimental method: unknown\n",
      " Resolution (A): N.A.\n",
      "\n",
      " Num. models: 1\n",
      " Num. chains: 1 (A: Protein)\n",
      " Num. residues:  483\n",
      " Num. residues with ins. codes:  0\n",
      " Num. HETATM residues:  150\n",
      " Num. ligands or modified residues:  2\n",
      " Num. water mol.:  148\n",
      " Num. atoms:  2874\n",
      "Modified residues found\n",
      "1N1 A361\n",
      "Small mol ligands found\n",
      "BOG A1000\n",
      "\n",
      "\n",
      "Step 1: ligands --remove All\n",
      "\n",
      "Running ligands. Options: --remove All\n",
      "2 Ligands detected\n",
      " 1N1 A361\n",
      " BOG A1000\n",
      "Ligands removed All (2)\n",
      "\n",
      "Step 2: water --remove Yes\n",
      "\n",
      "Running water. Options: --remove Yes\n",
      "148 Water molecules detected\n",
      "148 Water molecules removed\n",
      "Command list completed\n",
      "Final Num. models: 1\n",
      "Final Num. chains: 1 (A: Protein)\n",
      "Final Num. residues:  333\n",
      "Final Num. residues with ins. codes:  0\n",
      "Final Num. HETATM residues:  0\n",
      "Final Num. ligands or modified residues:  0\n",
      "Final Num. water mol.:  0\n",
      "Final Num. atoms:  2673\n",
      "Structure saved on pdb_protein.pdb\n",
      "\n",
      "2021-12-05 01:51:56,304 [MainThread  ] [INFO ]  Not using any container\n",
      "2021-12-05 01:51:56,305 [MainThread  ] [INFO ]  \n",
      "\n",
      "2021-12-05 01:51:56,331 [MainThread  ] [INFO ]  Exit code 0\n",
      "\n",
      "2021-12-05 01:51:56,334 [MainThread  ] [INFO ]  Removed: []\n",
      "2021-12-05 01:51:56,343 [MainThread  ] [INFO ]  PDB format detected, removing all atoms from residues named AQ4\n",
      "2021-12-05 01:51:56,348 [MainThread  ] [INFO ]  Removed: []\n"
     ]
    },
    {
     "data": {
      "text/plain": [
       "0"
      ]
     },
     "execution_count": 7,
     "metadata": {},
     "output_type": "execute_result"
    }
   ],
   "source": [
    "from biobb_structure_utils.utils.extract_molecule import extract_molecule\n",
    "from biobb_structure_utils.utils.remove_ligand import remove_ligand\n",
    "\n",
    "pdb_protein = \"pdb_protein.pdb\"\n",
    "pdb_protein_with_water = \"pdb_protein_with_water.pdb\"\n",
    "extract_molecule(input_structure_path=download_pdb,\n",
    "                output_molecule_path=pdb_protein)\n",
    "remove_ligand(input_structure_path=download_pdb,\n",
    "                output_structure_path=pdb_protein_with_water)\n",
    "\n"
   ]
  },
  {
   "cell_type": "code",
   "execution_count": 8,
   "id": "50eee179",
   "metadata": {},
   "outputs": [
    {
     "data": {
      "application/vnd.jupyter.widget-view+json": {
       "model_id": "8b4b9b7167b848dd8a68daa0d082a729",
       "version_major": 2,
       "version_minor": 0
      },
      "text/plain": [
       "NGLWidget()"
      ]
     },
     "metadata": {},
     "output_type": "display_data"
    }
   ],
   "source": [
    "view = nglview.show_structure_file(pdb_protein, default=False)\n",
    "view.add_representation(repr_type='cartoon',\n",
    "                       selection='not het',\n",
    "                       colorScheme = 'atomindex')\n",
    "view.center()\n",
    "view._remote_call('setSize', target='Widget', args=['','600px'])\n",
    "view"
   ]
  },
  {
   "cell_type": "code",
   "execution_count": 9,
   "id": "dd00700d",
   "metadata": {},
   "outputs": [
    {
     "name": "stdout",
     "output_type": "stream",
     "text": [
      "2021-12-05 01:51:56,434 [MainThread  ] [INFO ]  Getting binding sites from: https://www.ebi.ac.uk/pdbe/api/pdb/entry/binding_sites/3lfa\n",
      "2021-12-05 01:51:57,011 [MainThread  ] [INFO ]  2 binding sites found\n",
      "2021-12-05 01:51:57,011 [MainThread  ] [INFO ]  Writting json to: residues.json\n"
     ]
    },
    {
     "data": {
      "text/plain": [
       "0"
      ]
     },
     "execution_count": 9,
     "metadata": {},
     "output_type": "execute_result"
    }
   ],
   "source": [
    "from biobb_io.api.drugbank import drugbank\n",
    "from biobb_io.api.api_binding_site import api_binding_site\n",
    "\n",
    "residues_json = \"residues.json\"\n",
    "prop = {\n",
    "    \"pdb_code\": pdb_code\n",
    "}\n",
    "\n",
    "api_binding_site(output_json_path=residues_json,\n",
    "                properties=prop)"
   ]
  },
  {
   "cell_type": "code",
   "execution_count": 10,
   "id": "b9ffdf24",
   "metadata": {},
   "outputs": [
    {
     "name": "stdout",
     "output_type": "stream",
     "text": [
      "{\n",
      "    \"3lfa\": [\n",
      "        {\n",
      "            \"details\": \"BINDING SITE FOR RESIDUE BOG\",\n",
      "            \"evidence_code\": \"Software\",\n",
      "            \"ligand_residues\": [\n",
      "                {\n",
      "                    \"author_insertion_code\": null,\n",
      "                    \"author_residue_number\": 1000,\n",
      "                    \"chain_id\": \"A\",\n",
      "                    \"chem_comp_id\": \"BOG\",\n",
      "                    \"entity_id\": 3,\n",
      "                    \"residue_number\": 1,\n",
      "                    \"struct_asym_id\": \"C\"\n",
      "                }\n",
      "            ],\n",
      "            \"site_id\": \"AC2\",\n",
      "            \"site_residues\": [\n",
      "                {\n",
      "                    \"author_insertion_code\": null,\n",
      "                    \"author_residue_number\": 294,\n",
      "                    \"chain_id\": \"A\",\n",
      "                    \"chem_comp_id\": \"ASP\",\n",
      "                    \"entity_id\": 1,\n",
      "                    \"residue_number\": 294,\n",
      "                    \"struct_asym_id\": \"A\",\n",
      "                    \"symmetry_symbol\": \"1_555\"\n",
      "                },\n",
      "                {\n",
      "                    \"author_insertion_code\": null,\n",
      "                    \"author_residue_number\": 293,\n",
      "                    \"chain_id\": \"A\",\n",
      "                    \"chem_comp_id\": \"SER\",\n",
      "                    \"entity_id\": 1,\n",
      "                    \"residue_number\": 293,\n",
      "                    \"struct_asym_id\": \"A\",\n",
      "                    \"symmetry_symbol\": \"1_555\"\n",
      "                },\n",
      "                {\n",
      "                    \"author_insertion_code\": null,\n",
      "                    \"author_residue_number\": 292,\n",
      "                    \"chain_id\": \"A\",\n",
      "                    \"chem_comp_id\": \"ASP\",\n",
      "                    \"entity_id\": 1,\n",
      "                    \"residue_number\": 292,\n",
      "                    \"struct_asym_id\": \"A\",\n",
      "                    \"symmetry_symbol\": \"1_555\"\n",
      "                },\n",
      "                {\n",
      "                    \"author_insertion_code\": null,\n",
      "                    \"author_residue_number\": 192,\n",
      "                    \"chain_id\": \"A\",\n",
      "                    \"chem_comp_id\": \"GLU\",\n",
      "                    \"entity_id\": 1,\n",
      "                    \"residue_number\": 192,\n",
      "                    \"struct_asym_id\": \"A\",\n",
      "                    \"symmetry_symbol\": \"1_555\"\n",
      "                },\n",
      "                {\n",
      "                    \"author_insertion_code\": null,\n",
      "                    \"author_residue_number\": 197,\n",
      "                    \"chain_id\": \"A\",\n",
      "                    \"chem_comp_id\": \"TRP\",\n",
      "                    \"entity_id\": 1,\n",
      "                    \"residue_number\": 197,\n",
      "                    \"struct_asym_id\": \"A\",\n",
      "                    \"symmetry_symbol\": \"1_555\"\n",
      "                },\n",
      "                {\n",
      "                    \"author_insertion_code\": null,\n",
      "                    \"author_residue_number\": 199,\n",
      "                    \"chain_id\": \"A\",\n",
      "                    \"chem_comp_id\": \"HIS\",\n",
      "                    \"entity_id\": 1,\n",
      "                    \"residue_number\": 199,\n",
      "                    \"struct_asym_id\": \"A\",\n",
      "                    \"symmetry_symbol\": \"1_555\"\n",
      "                },\n",
      "                {\n",
      "                    \"author_insertion_code\": null,\n",
      "                    \"author_residue_number\": 200,\n",
      "                    \"chain_id\": \"A\",\n",
      "                    \"chem_comp_id\": \"TYR\",\n",
      "                    \"entity_id\": 1,\n",
      "                    \"residue_number\": 200,\n",
      "                    \"struct_asym_id\": \"A\",\n",
      "                    \"symmetry_symbol\": \"1_555\"\n",
      "                },\n",
      "                {\n",
      "                    \"author_insertion_code\": null,\n",
      "                    \"author_residue_number\": 246,\n",
      "                    \"chain_id\": \"A\",\n",
      "                    \"chem_comp_id\": \"LEU\",\n",
      "                    \"entity_id\": 1,\n",
      "                    \"residue_number\": 246,\n",
      "                    \"struct_asym_id\": \"A\",\n",
      "                    \"symmetry_symbol\": \"1_555\"\n",
      "                },\n",
      "                {\n",
      "                    \"author_insertion_code\": null,\n",
      "                    \"author_residue_number\": 249,\n",
      "                    \"chain_id\": \"A\",\n",
      "                    \"chem_comp_id\": \"LYS\",\n",
      "                    \"entity_id\": 1,\n",
      "                    \"residue_number\": 249,\n",
      "                    \"struct_asym_id\": \"A\",\n",
      "                    \"symmetry_symbol\": \"1_555\"\n",
      "                },\n",
      "                {\n",
      "                    \"author_insertion_code\": null,\n",
      "                    \"author_residue_number\": 291,\n",
      "                    \"chain_id\": \"A\",\n",
      "                    \"chem_comp_id\": \"LEU\",\n",
      "                    \"entity_id\": 1,\n",
      "                    \"residue_number\": 291,\n",
      "                    \"struct_asym_id\": \"A\",\n",
      "                    \"symmetry_symbol\": \"1_555\"\n",
      "                },\n",
      "                {\n",
      "                    \"author_insertion_code\": null,\n",
      "                    \"author_residue_number\": 418,\n",
      "                    \"chain_id\": \"A\",\n",
      "                    \"chem_comp_id\": \"HOH\",\n",
      "                    \"entity_id\": 4,\n",
      "                    \"residue_number\": 57,\n",
      "                    \"struct_asym_id\": \"D\",\n",
      "                    \"symmetry_symbol\": \"1_555\"\n",
      "                },\n",
      "                {\n",
      "                    \"author_insertion_code\": null,\n",
      "                    \"author_residue_number\": 388,\n",
      "                    \"chain_id\": \"A\",\n",
      "                    \"chem_comp_id\": \"HOH\",\n",
      "                    \"entity_id\": 4,\n",
      "                    \"residue_number\": 27,\n",
      "                    \"struct_asym_id\": \"D\",\n",
      "                    \"symmetry_symbol\": \"1_555\"\n",
      "                },\n",
      "                {\n",
      "                    \"author_insertion_code\": null,\n",
      "                    \"author_residue_number\": 485,\n",
      "                    \"chain_id\": \"A\",\n",
      "                    \"chem_comp_id\": \"HOH\",\n",
      "                    \"entity_id\": 4,\n",
      "                    \"residue_number\": 124,\n",
      "                    \"struct_asym_id\": \"D\",\n",
      "                    \"symmetry_symbol\": \"1_555\"\n",
      "                }\n",
      "            ]\n",
      "        },\n",
      "        {\n",
      "            \"details\": \"BINDING SITE FOR RESIDUE 1N1\",\n",
      "            \"evidence_code\": \"Software\",\n",
      "            \"ligand_residues\": [\n",
      "                {\n",
      "                    \"author_insertion_code\": null,\n",
      "                    \"author_residue_number\": 361,\n",
      "                    \"chain_id\": \"A\",\n",
      "                    \"chem_comp_id\": \"1N1\",\n",
      "                    \"entity_id\": 2,\n",
      "                    \"residue_number\": 1,\n",
      "                    \"struct_asym_id\": \"B\"\n",
      "                }\n",
      "            ],\n",
      "            \"site_id\": \"AC1\",\n",
      "            \"site_residues\": [\n",
      "                {\n",
      "                    \"author_insertion_code\": null,\n",
      "                    \"author_residue_number\": 30,\n",
      "                    \"chain_id\": \"A\",\n",
      "                    \"chem_comp_id\": \"VAL\",\n",
      "                    \"entity_id\": 1,\n",
      "                    \"residue_number\": 30,\n",
      "                    \"struct_asym_id\": \"A\",\n",
      "                    \"symmetry_symbol\": \"1_555\"\n",
      "                },\n",
      "                {\n",
      "                    \"author_insertion_code\": null,\n",
      "                    \"author_residue_number\": 51,\n",
      "                    \"chain_id\": \"A\",\n",
      "                    \"chem_comp_id\": \"ALA\",\n",
      "                    \"entity_id\": 1,\n",
      "                    \"residue_number\": 51,\n",
      "                    \"struct_asym_id\": \"A\",\n",
      "                    \"symmetry_symbol\": \"1_555\"\n",
      "                },\n",
      "                {\n",
      "                    \"author_insertion_code\": null,\n",
      "                    \"author_residue_number\": 71,\n",
      "                    \"chain_id\": \"A\",\n",
      "                    \"chem_comp_id\": \"GLU\",\n",
      "                    \"entity_id\": 1,\n",
      "                    \"residue_number\": 71,\n",
      "                    \"struct_asym_id\": \"A\",\n",
      "                    \"symmetry_symbol\": \"1_555\"\n",
      "                },\n",
      "                {\n",
      "                    \"author_insertion_code\": null,\n",
      "                    \"author_residue_number\": 104,\n",
      "                    \"chain_id\": \"A\",\n",
      "                    \"chem_comp_id\": \"LEU\",\n",
      "                    \"entity_id\": 1,\n",
      "                    \"residue_number\": 104,\n",
      "                    \"struct_asym_id\": \"A\",\n",
      "                    \"symmetry_symbol\": \"1_555\"\n",
      "                },\n",
      "                {\n",
      "                    \"author_insertion_code\": null,\n",
      "                    \"author_residue_number\": 106,\n",
      "                    \"chain_id\": \"A\",\n",
      "                    \"chem_comp_id\": \"THR\",\n",
      "                    \"entity_id\": 1,\n",
      "                    \"residue_number\": 106,\n",
      "                    \"struct_asym_id\": \"A\",\n",
      "                    \"symmetry_symbol\": \"1_555\"\n",
      "                },\n",
      "                {\n",
      "                    \"author_insertion_code\": null,\n",
      "                    \"author_residue_number\": 107,\n",
      "                    \"chain_id\": \"A\",\n",
      "                    \"chem_comp_id\": \"HIS\",\n",
      "                    \"entity_id\": 1,\n",
      "                    \"residue_number\": 107,\n",
      "                    \"struct_asym_id\": \"A\",\n",
      "                    \"symmetry_symbol\": \"1_555\"\n",
      "                },\n",
      "                {\n",
      "                    \"author_insertion_code\": null,\n",
      "                    \"author_residue_number\": 109,\n",
      "                    \"chain_id\": \"A\",\n",
      "                    \"chem_comp_id\": \"MET\",\n",
      "                    \"entity_id\": 1,\n",
      "                    \"residue_number\": 109,\n",
      "                    \"struct_asym_id\": \"A\",\n",
      "                    \"symmetry_symbol\": \"1_555\"\n",
      "                },\n",
      "                {\n",
      "                    \"author_insertion_code\": null,\n",
      "                    \"author_residue_number\": 438,\n",
      "                    \"chain_id\": \"A\",\n",
      "                    \"chem_comp_id\": \"HOH\",\n",
      "                    \"entity_id\": 4,\n",
      "                    \"residue_number\": 77,\n",
      "                    \"struct_asym_id\": \"D\",\n",
      "                    \"symmetry_symbol\": \"1_555\"\n",
      "                }\n",
      "            ]\n",
      "        }\n",
      "    ]\n",
      "}\n"
     ]
    }
   ],
   "source": [
    "import json\n",
    "\n",
    "with open(\"residues.json\") as f:\n",
    "    data = json.load(f)\n",
    "    print(json.dumps(data, indent=4))"
   ]
  },
  {
   "cell_type": "code",
   "execution_count": 11,
   "id": "69ab7290",
   "metadata": {},
   "outputs": [
    {
     "data": {
      "text/plain": [
       "'3lfa'"
      ]
     },
     "execution_count": 11,
     "metadata": {},
     "output_type": "execute_result"
    }
   ],
   "source": [
    "pdb_code.lower()"
   ]
  },
  {
   "cell_type": "code",
   "execution_count": 45,
   "id": "c1451bde",
   "metadata": {},
   "outputs": [
    {
     "data": {
      "application/vnd.jupyter.widget-view+json": {
       "model_id": "70a03160867f4282aff95c3ad3898962",
       "version_major": 2,
       "version_minor": 0
      },
      "text/plain": [
       "Dropdown(description='B Sites', options=(('binding_site0', 0), ('binding_site1', 1)), value=0)"
      ]
     },
     "metadata": {},
     "output_type": "display_data"
    },
    {
     "data": {
      "text/plain": [
       "{0: [294, 293, 292, 192, 197, 199, 200, 246, 249, 291, 418, 388, 485],\n",
       " 1: [30, 51, 71, 104, 106, 107, 109, 438]}"
      ]
     },
     "execution_count": 45,
     "metadata": {},
     "output_type": "execute_result"
    }
   ],
   "source": [
    "bindingSites = {}\n",
    "bsites = []\n",
    "\n",
    "for i, item in enumerate(data[pdb_code.lower()]):\n",
    "    bindingSites[i] = []\n",
    "    bsites.append((\"binding_site\" + str(i), i))\n",
    "    for res in item['site_residues']: \n",
    "        bindingSites[i].append(res['author_residue_number'])\n",
    "bindingSites\n",
    "bsites\n",
    "\n",
    "mdsel = ipywidgets.Dropdown(\n",
    "    options=bsites,\n",
    "    description=\"B Sites\",\n",
    "    disabled=False\n",
    ")\n",
    "display(mdsel)\n",
    "bindingSites\n"
   ]
  },
  {
   "cell_type": "code",
   "execution_count": 46,
   "id": "fb19a324",
   "metadata": {},
   "outputs": [
    {
     "data": {
      "application/vnd.jupyter.widget-view+json": {
       "model_id": "5271070f0c004653965b2315c2ce6e15",
       "version_major": 2,
       "version_minor": 0
      },
      "text/plain": [
       "NGLWidget()"
      ]
     },
     "metadata": {},
     "output_type": "display_data"
    }
   ],
   "source": [
    "def VIEW(view):\n",
    "    view.center()\n",
    "    view._remote_call('setSize', target='Widget', args=['','600px'])\n",
    "\n",
    "    return(view)\n",
    "    \n",
    "view = nglview.show_structure_file(download_pdb, default=False)\n",
    "view.add_representation(repr_type=\"cartoon\",\n",
    "                       selection=\"not het\",\n",
    "                       opacity=0.34,\n",
    "                       color=\"#cccccc\")\n",
    "view.add_representation(repr_type='surface',\n",
    "                       selection=\", \".join([str(v) for v in bindingSites[mdsel.value]]),\n",
    "                       color='pink',\n",
    "                       lowResolution=True,\n",
    "                       smooth=1)\n",
    "\n",
    "VIEW(view)"
   ]
  },
  {
   "cell_type": "code",
   "execution_count": 48,
   "id": "9fa89912",
   "metadata": {},
   "outputs": [
    {
     "data": {
      "text/plain": [
       "[30, 51, 71, 104, 106, 107, 109, 438]"
      ]
     },
     "execution_count": 48,
     "metadata": {},
     "output_type": "execute_result"
    }
   ],
   "source": [
    "bindingSites[mdsel.value]"
   ]
  },
  {
   "cell_type": "code",
   "execution_count": 49,
   "id": "5239c54d",
   "metadata": {},
   "outputs": [
    {
     "name": "stdout",
     "output_type": "stream",
     "text": [
      "2021-12-05 02:39:55,944 [MainThread  ] [INFO ]  Loading input PDB structure download.pdb\n",
      "2021-12-05 02:39:55,986 [MainThread  ] [INFO ]  Mapping residue structure into input structure\n",
      "2021-12-05 02:39:55,987 [MainThread  ] [INFO ]  Cannot match all the residues listed in 30, 51, 71, 104, 106, 107, 109, 438 into download.pdb. Found 7 out of 8\n",
      "2021-12-05 02:39:55,987 [MainThread  ] [INFO ]  Binding site center (Angstroms):     23.913    -2.702   -23.513\n",
      "2021-12-05 02:39:55,988 [MainThread  ] [INFO ]  Binding site size (Angstroms):       17.776    23.257    22.986\n",
      "2021-12-05 02:39:55,989 [MainThread  ] [INFO ]  Volume (cubic Angstroms): 76020\n",
      "2021-12-05 02:39:55,990 [MainThread  ] [INFO ]  Adding box coordinates\n",
      "2021-12-05 02:39:55,992 [MainThread  ] [INFO ]  Saving output PDB file (with box setting annotations): box.pdb\n"
     ]
    },
    {
     "data": {
      "text/plain": [
       "0"
      ]
     },
     "execution_count": 49,
     "metadata": {},
     "output_type": "execute_result"
    }
   ],
   "source": [
    "from biobb_vs.utils.box_residues import box_residues\n",
    "\n",
    "output_box = \"box.pdb\"\n",
    "prop = {\n",
    "    \"resid_list\": bindingSites[mdsel.value],\n",
    "    \"offset\": 12, # 12 angstroms\n",
    "    \"box_coordinates\": True\n",
    "}\n",
    "\n",
    "box_residues(input_pdb_path=download_pdb,\n",
    "            output_pdb_path=output_box,\n",
    "            properties=prop)"
   ]
  },
  {
   "cell_type": "code",
   "execution_count": 51,
   "id": "a214b674",
   "metadata": {},
   "outputs": [
    {
     "data": {
      "application/vnd.jupyter.widget-view+json": {
       "model_id": "4aacbf772b8641e9b363b4aad41a8bfd",
       "version_major": 2,
       "version_minor": 0
      },
      "text/plain": [
       "NGLWidget()"
      ]
     },
     "metadata": {},
     "output_type": "display_data"
    }
   ],
   "source": [
    "view = nglview.NGLWidget()\n",
    "\n",
    "s = view.add_component(download_pdb)\n",
    "b = view.add_component(output_box)\n",
    "\n",
    "atomPair = [\n",
    "    [ \"9999:Z.ZN1\", \"9999:Z.ZN2\" ],\n",
    "    [ \"9999:Z.ZN2\", \"9999:Z.ZN4\" ],\n",
    "    [ \"9999:Z.ZN4\", \"9999:Z.ZN3\" ],\n",
    "    [ \"9999:Z.ZN3\", \"9999:Z.ZN1\" ],\n",
    "    \n",
    "    [ \"9999:Z.ZN5\", \"9999:Z.ZN6\" ],\n",
    "    [ \"9999:Z.ZN6\", \"9999:Z.ZN8\" ],\n",
    "    [ \"9999:Z.ZN8\", \"9999:Z.ZN7\" ],\n",
    "    [ \"9999:Z.ZN7\", \"9999:Z.ZN5\" ],\n",
    "    \n",
    "    [ \"9999:Z.ZN1\", \"9999:Z.ZN5\" ],\n",
    "    [ \"9999:Z.ZN2\", \"9999:Z.ZN6\" ],\n",
    "    [ \"9999:Z.ZN3\", \"9999:Z.ZN7\" ],\n",
    "    [ \"9999:Z.ZN4\", \"9999:Z.ZN8\" ]\n",
    "]\n",
    "\n",
    "s.add_representation(repr_type='cartoon',\n",
    "                     selection='not het',\n",
    "                     color='#ccc',\n",
    "                     opacity=0.2)\n",
    "\n",
    "# ligands box\n",
    "b.add_representation(repr_type='ball+stick',\n",
    "                     selection='9999',\n",
    "                     color='pink', \n",
    "                     aspectRatio = 8)\n",
    "# lines box\n",
    "b.add_representation(repr_type='distance', \n",
    "                     atomPair= atomPair,\n",
    "                     labelVisible=False,\n",
    "                     color= 'black')\n",
    "\n",
    "s.add_representation(repr_type='surface',\n",
    "                    selection=', '.join(str(v) for v in bindingSites[mdsel.value]),\n",
    "                    color='blue',\n",
    "                    lowResolution=True,\n",
    "                    smooth=1, surfaceType='av', contour=True,\n",
    "                    opacity=0.3, useWorker=True, wrap=True)\n",
    "\n",
    "VIEW(view)"
   ]
  },
  {
   "cell_type": "code",
   "execution_count": 52,
   "id": "8bcad308",
   "metadata": {},
   "outputs": [
    {
     "name": "stdout",
     "output_type": "stream",
     "text": [
      "2021-12-05 02:40:16,660 [MainThread  ] [INFO ]  Downloading: 1N1 from: ftp://ftp.ebi.ac.uk/pub/databases/msd/pdbechem_v2/1/1N1/1N1_ideal.sdf\n",
      "2021-12-05 02:40:16,661 [MainThread  ] [INFO ]  Writting sdf to: ideal.sdf\n"
     ]
    },
    {
     "data": {
      "text/plain": [
       "0"
      ]
     },
     "execution_count": 52,
     "metadata": {},
     "output_type": "execute_result"
    }
   ],
   "source": [
    "from biobb_io.api.ideal_sdf import ideal_sdf\n",
    "\n",
    "sdf_ideal = \"ideal.sdf\"\n",
    "prop = {\n",
    "    #\"ligand_code\": \"STI\"\n",
    "    \"ligand_code\": ligand_code\n",
    "}\n",
    "\n",
    "ideal_sdf(output_sdf_path=sdf_ideal,\n",
    "         properties=prop)"
   ]
  },
  {
   "cell_type": "code",
   "execution_count": 53,
   "id": "fda91a2b",
   "metadata": {},
   "outputs": [
    {
     "name": "stdout",
     "output_type": "stream",
     "text": [
      "2021-12-05 02:40:22,271 [MainThread  ] [INFO ]  Value  is not compatible as a coordinates value\n",
      "2021-12-05 02:40:22,271 [MainThread  ] [INFO ]  Not using any container\n",
      "2021-12-05 02:40:22,272 [MainThread  ] [INFO ]  obabel -isdf /Users/brian/tools/biobb/biobb_wf_virtual-screening/ideal.sdf -opdb -Oligand.pdb  \n",
      "\n",
      "2021-12-05 02:40:22,650 [MainThread  ] [INFO ]  Exit code 0\n",
      "\n",
      "2021-12-05 02:40:22,652 [MainThread  ] [INFO ]  1 molecule converted\n",
      "\n"
     ]
    },
    {
     "data": {
      "text/plain": [
       "0"
      ]
     },
     "execution_count": 53,
     "metadata": {},
     "output_type": "execute_result"
    }
   ],
   "source": [
    "from biobb_chemistry.babelm.babel_convert import babel_convert\n",
    "\n",
    "ligand = \"ligand.pdb\"\n",
    "\n",
    "prop = {\n",
    "    \"input_format\": \"sdf\",\n",
    "    \"output_format\": \"pdb\",\n",
    "    \"obabel_path\": \"obabel\"\n",
    "}\n",
    "babel_convert(input_path = sdf_ideal,\n",
    "            output_path = ligand,\n",
    "            properties=prop)"
   ]
  },
  {
   "cell_type": "code",
   "execution_count": 54,
   "id": "d0012f8b",
   "metadata": {},
   "outputs": [
    {
     "name": "stdout",
     "output_type": "stream",
     "text": [
      "2021-12-05 02:40:25,589 [MainThread  ] [INFO ]  Value  is not compatible as a coordinates value\n",
      "2021-12-05 02:40:25,590 [MainThread  ] [INFO ]  Not using any container\n",
      "2021-12-05 02:40:25,591 [MainThread  ] [INFO ]  obabel -ipdb /Users/brian/tools/biobb/biobb_wf_virtual-screening/ligand.pdb -opdbqt -Oprep_ligand.pdbqt  \n",
      "\n",
      "2021-12-05 02:40:25,742 [MainThread  ] [INFO ]  Exit code 0\n",
      "\n",
      "2021-12-05 02:40:25,744 [MainThread  ] [INFO ]  1 molecule converted\n",
      "\n"
     ]
    },
    {
     "data": {
      "text/plain": [
       "0"
      ]
     },
     "execution_count": 54,
     "metadata": {},
     "output_type": "execute_result"
    }
   ],
   "source": [
    "prep_ligand = \"prep_ligand.pdbqt\"\n",
    "\n",
    "prop = {\n",
    "    \"input_format\": \"pdb\",\n",
    "    \"output_format\": \"pdbqt\",\n",
    "    \"obabel_path\": \"obabel\"\n",
    "}\n",
    "babel_convert(input_path = ligand,\n",
    "            output_path = prep_ligand,\n",
    "            properties=prop)"
   ]
  },
  {
   "cell_type": "code",
   "execution_count": 57,
   "id": "60419474",
   "metadata": {},
   "outputs": [
    {
     "data": {
      "application/vnd.jupyter.widget-view+json": {
       "model_id": "f43657b5612548ff87e35b340d0615a4",
       "version_major": 2,
       "version_minor": 0
      },
      "text/plain": [
       "HBox(children=(NGLWidget(), NGLWidget()))"
      ]
     },
     "metadata": {},
     "output_type": "display_data"
    }
   ],
   "source": [
    "from ipywidgets import HBox\n",
    "\n",
    "v0 = nglview.show_structure_file(ligand)\n",
    "v1 = nglview.show_structure_file(prep_ligand)\n",
    "\n",
    "v0._set_size('500px', '')\n",
    "v1._set_size('500px', '')\n",
    "\n",
    "def on_change(change):\n",
    "    v1._set_camera_orientation(change['new'])\n",
    "    \n",
    "v0.observe(on_change, ['_camera_orientation'])\n",
    "\n",
    "HBox([v0, v1])"
   ]
  },
  {
   "cell_type": "code",
   "execution_count": 58,
   "id": "42d1212c",
   "metadata": {},
   "outputs": [
    {
     "name": "stdout",
     "output_type": "stream",
     "text": [
      "2021-12-05 02:46:13,817 [MainThread  ] [INFO ]  Not using any container\n",
      "2021-12-05 02:46:13,818 [MainThread  ] [INFO ]  check_structure -i /Users/brian/tools/biobb/biobb_wf_virtual-screening/pdb_protein.pdb -o prep_receptor.pdbqt --force_save add_hydrogen --add_charges --add_mode auto\n",
      "\n",
      "2021-12-05 02:46:14,871 [MainThread  ] [INFO ]  Exit code 0\n",
      "\n",
      "2021-12-05 02:46:14,874 [MainThread  ] [INFO ]  ===============================================================================\n",
      "=                   BioBB structure checking utility v3.8.1                   =\n",
      "=                 A. Hospital, P. Andrio, J.L. Gelpi 2018-21                  =\n",
      "===============================================================================\n",
      "\n",
      "Warning: sequence features only available in mmCIF format or with external fasta input\n",
      "Structure /Users/brian/tools/biobb/biobb_wf_virtual-screening/pdb_protein.pdb loaded\n",
      " Title: \n",
      " Experimental method: unknown\n",
      " Resolution (A): N.A.\n",
      "\n",
      " Num. models: 1\n",
      " Num. chains: 1 (A: Protein)\n",
      " Num. residues:  333\n",
      " Num. residues with ins. codes:  0\n",
      " Num. HETATM residues:  0\n",
      " Num. ligands or modified residues:  0\n",
      " Num. water mol.:  0\n",
      " Num. atoms:  2673\n",
      "\n",
      "Running add_hydrogen. Options: --add_charges --add_mode auto\n",
      "109 Residues requiring selection on adding H atoms\n",
      " CYS A39,A119,A162,A211\n",
      " ASP A43,A88,A101,A112,A124,A125,A145,A150,A161,A168,A205,A227,A230,A283,A292,A294,A313,A315,A316,A321,A324,A331,A335,A343\n",
      " GLU A4,A12,A19,A22,A71,A81,A97,A98,A160,A163,A192,A215,A245,A253,A286,A317,A328,A336,A344\n",
      " HIS A64,A77,A80,A107,A126,A142,A148,A199,A228,A305,A312\n",
      " LYS A15,A45,A53,A54,A66,A76,A79,A118,A121,A139,A152,A165,A233,A248,A249,A267,A287,A295,A338\n",
      " ARG A5,A10,A23,A49,A57,A67,A70,A73,A94,A136,A149,A186,A189,A220,A237,A256,A296,A330\n",
      " TYR A9,A24,A35,A69,A103,A132,A140,A188,A200,A258,A307,A311,A323,A342\n",
      "WARNING: fixing side chains, override with --no_fix_side\n",
      "Running fixside. Options: --fix all\n",
      "5 Residues with missing side chain atoms found\n",
      " GLU A4     CG,CD,OE1,OE2\n",
      " LYS A15    CG,CD,CE,NZ\n",
      " TYR A35    CG,CD1,CE1,CZ,OH,CE2,CD2\n",
      " LYS A118   CG,CD,CE,NZ\n",
      " HIS A199   CG,ND1,CE1,NE2,CD2\n",
      "Fixing side chains\n",
      "GLU A4\n",
      "  Adding new atom CG\n",
      "  Adding new atom CD\n",
      "  Adding new atom OE1\n",
      "  Adding new atom OE2\n",
      "LYS A15\n",
      "  Adding new atom CG\n",
      "  Adding new atom CD\n",
      "  Adding new atom CE\n",
      "  Adding new atom NZ\n",
      "TYR A35\n",
      "  Adding new atom CG\n",
      "  Adding new atom CD1\n",
      "  Adding new atom CE1\n",
      "  Adding new atom CZ\n",
      "  Adding new atom OH\n",
      "  Adding new atom CE2\n",
      "  Adding new atom CD2\n",
      "LYS A118\n",
      "  Adding new atom CG\n",
      "  Adding new atom CD\n",
      "  Adding new atom CE\n",
      "  Adding new atom NZ\n",
      "HIS A199\n",
      "  Adding new atom CG\n",
      "  Adding new atom ND1\n",
      "  Adding new atom CE1\n",
      "  Adding new atom NE2\n",
      "  Adding new atom CD2\n",
      "Fixed 5 side chain(s)\n",
      "Checking for steric clashes\n",
      "No severe clashes detected\n",
      "1 Steric apolar clashes detected\n",
      " TYR A35.OH   GLU A71.CD      2.531 A\n",
      "No polar_acceptor clashes detected\n",
      "No polar_donor clashes detected\n",
      "No positive clashes detected\n",
      "No negative clashes detected\n",
      "Selection: auto\n",
      "Replacing HIS A64 by HIE\n",
      "Replacing HIS A77 by HIE\n",
      "Replacing HIS A80 by HIE\n",
      "Replacing HIS A107 by HIE\n",
      "Replacing HIS A126 by HIE\n",
      "Replacing HIS A142 by HIE\n",
      "Replacing HIS A148 by HIE\n",
      "Replacing HIS A199 by HIE\n",
      "Replacing HIS A228 by HIE\n",
      "Replacing HIS A305 by HIE\n",
      "Replacing HIS A312 by HIE\n",
      "Updating partial charges and atom types\n",
      "Warning: OXT atom missing in CSER A32. Run backbone --add_atoms first\n",
      "Warning: OXT atom missing in CASP A168. Run backbone --add_atoms first\n",
      "Warning: OXT atom missing in CLEU A353. Run backbone --add_atoms first\n",
      "Total assigned charge:      -3.79\n",
      "Final Num. models: 1\n",
      "Final Num. chains: 1 (A: Protein)\n",
      "Final Num. residues:  333\n",
      "Final Num. residues with ins. codes:  0\n",
      "Final Num. HETATM residues:  0\n",
      "Final Num. ligands or modified residues:  0\n",
      "Final Num. water mol.:  0\n",
      "Final Num. atoms:  5407\n",
      "Structure saved on prep_receptor.pdbqt\n",
      "\n",
      "2021-12-05 02:46:14,879 [MainThread  ] [INFO ]  prep_receptor.pdbqt file ends with END, cleaning\n",
      "2021-12-05 02:46:14,885 [MainThread  ] [INFO ]  Removed: []\n"
     ]
    },
    {
     "data": {
      "text/plain": [
       "0"
      ]
     },
     "execution_count": 58,
     "metadata": {},
     "output_type": "execute_result"
    }
   ],
   "source": [
    "from biobb_structure_utils.utils.str_check_add_hydrogens import str_check_add_hydrogens\n",
    "\n",
    "prep_receptor = \"prep_receptor.pdbqt\"\n",
    "\n",
    "prop = {\n",
    "    \"charges\": True,\n",
    "    \"mode\": 'auto'\n",
    "}\n",
    "\n",
    "str_check_add_hydrogens(\n",
    "    input_structure_path=pdb_protein,\n",
    "    output_structure_path=prep_receptor,\n",
    "    properties=prop\n",
    ")"
   ]
  },
  {
   "cell_type": "code",
   "execution_count": 59,
   "id": "988dfa3d",
   "metadata": {},
   "outputs": [
    {
     "name": "stdout",
     "output_type": "stream",
     "text": [
      "2021-12-05 02:46:18,668 [MainThread  ] [INFO ]  Executing AutoDock Vina\n",
      "2021-12-05 02:46:18,668 [MainThread  ] [INFO ]  Not using any container\n",
      "2021-12-05 02:46:18,669 [MainThread  ] [INFO ]  /Users/brian/tools/biobb/biobb_wf_virtual-screening/bin/vina_1.2.3_mac_x86_64 --ligand prep_ligand.pdbqt --receptor prep_receptor.pdbqt --center_x=23.913 --center_y=-2.702 --center_z=-23.513 --size_x=17.776 --size_y=23.257 --size_z=22.986 --out output_vina.pdbqt --log t.log\n",
      "\n",
      "2021-12-05 02:46:18,759 [MainThread  ] [INFO ]  Exit code 1\n",
      "\n",
      "2021-12-05 02:46:18,761 [MainThread  ] [INFO ]  AutoDock Vina v1.2.3\n",
      "\n",
      "2021-12-05 02:46:18,761 [MainThread  ] [INFO ]  Command line parse error: unrecognised option '--log'\n",
      "\n",
      "Correct usage:\n",
      "\n",
      "Input:\n",
      "  --receptor arg             rigid part of the receptor (PDBQT)\n",
      "  --flex arg                 flexible side chains, if any (PDBQT)\n",
      "  --ligand arg               ligand (PDBQT)\n",
      "  --batch arg                batch ligand (PDBQT)\n",
      "  --scoring arg (=vina)      scoring function (ad4, vina or vinardo)\n",
      "\n",
      "Search space (required):\n",
      "  --maps arg                 affinity maps for the autodock4.2 (ad4) or vina \n",
      "                             scoring function\n",
      "  --center_x arg             X coordinate of the center (Angstrom)\n",
      "  --center_y arg             Y coordinate of the center (Angstrom)\n",
      "  --center_z arg             Z coordinate of the center (Angstrom)\n",
      "  --size_x arg               size in the X dimension (Angstrom)\n",
      "  --size_y arg               size in the Y dimension (Angstrom)\n",
      "  --size_z arg               size in the Z dimension (Angstrom)\n",
      "  --autobox                  set maps dimensions based on input ligand(s) (for \n",
      "                             --score_only and --local_only)\n",
      "\n",
      "Output (optional):\n",
      "  --out arg                  output models (PDBQT), the default is chosen based\n",
      "                             on the ligand file name\n",
      "  --dir arg                  output directory for batch mode\n",
      "  --write_maps arg           output filename (directory + prefix name) for \n",
      "                             maps. Option --force_even_voxels may be needed to \n",
      "                             comply with .map format\n",
      "\n",
      "Misc (optional):\n",
      "  --cpu arg (=0)             the number of CPUs to use (the default is to try \n",
      "                             to detect the number of CPUs or, failing that, use\n",
      "                             1)\n",
      "  --seed arg (=0)            explicit random seed\n",
      "  --exhaustiveness arg (=8)  exhaustiveness of the global search (roughly \n",
      "                             proportional to time): 1+\n",
      "  --max_evals arg (=0)       number of evaluations in each MC run (if zero, \n",
      "                             which is the default, the number of MC steps is \n",
      "                             based on heuristics)\n",
      "  --num_modes arg (=9)       maximum number of binding modes to generate\n",
      "  --min_rmsd arg (=1)        minimum RMSD between output poses\n",
      "  --energy_range arg (=3)    maximum energy difference between the best binding\n",
      "                             mode and the worst one displayed (kcal/mol)\n",
      "  --spacing arg (=0.375)     grid spacing (Angstrom)\n",
      "  --verbosity arg (=1)       verbosity (0=no output, 1=normal, 2=verbose)\n",
      "\n",
      "Configuration file (optional):\n",
      "  --config arg               the above options can be put here\n",
      "\n",
      "Information (optional):\n",
      "  --help                     display usage summary\n",
      "  --help_advanced            display usage summary with advanced options\n",
      "  --version                  display program version\n",
      "\n",
      "\n"
     ]
    },
    {
     "data": {
      "text/plain": [
       "1"
      ]
     },
     "execution_count": 59,
     "metadata": {},
     "output_type": "execute_result"
    }
   ],
   "source": [
    "from biobb_vs.vina.autodock_vina_run import autodock_vina_run\n",
    "\n",
    "output_vina_pdbqt = \"output_vina.pdbqt\"\n",
    "output_vina_log = \"t.log\"\n",
    "#output_vina_log = None\n",
    "#output_log_path = output_vina_log,\n",
    "prop = {\n",
    "    \"vina_path\": \"/Users/brian/tools/biobb/biobb_wf_virtual-screening/bin/vina_1.2.3_mac_x86_64\"\n",
    "}\n",
    "autodock_vina_run(input_ligand_pdbqt_path = prep_ligand,\n",
    "                  input_receptor_pdbqt_path = prep_receptor,\n",
    "                  input_box_path = output_box,\n",
    "                  output_pdbqt_path = output_vina_pdbqt,\n",
    "                  output_log_path = output_vina_log,\n",
    "                  properties=prop)"
   ]
  },
  {
   "cell_type": "code",
   "execution_count": 69,
   "id": "17217ccb",
   "metadata": {},
   "outputs": [
    {
     "data": {
      "application/vnd.jupyter.widget-view+json": {
       "model_id": "b7ec8aeeb3ef40eaaf080819d72fee23",
       "version_major": 2,
       "version_minor": 0
      },
      "text/plain": [
       "HBox(children=(NGLWidget(), NGLWidget()))"
      ]
     },
     "metadata": {},
     "output_type": "display_data"
    }
   ],
   "source": [
    "models = \"all\"\n",
    "v0 = nglview.show_structure_file(output_vina_pdbqt, default=False)\n",
    "v0.add_representation(repr_type='licorice',\n",
    "                      selection=models,\n",
    "                      colorScheme='partialCharge')\n",
    "\n",
    "v1.center()\n",
    "\n",
    "v1 = nglview.show_structure_file(output_vina_pdbqt, default=False)\n",
    "v1 .add_representation(repr_type='ball+stick',\n",
    "                      selection=models)\n",
    "\n",
    "v0.center()\n",
    "\n",
    "\n",
    "v0._set_size('500px', '')\n",
    "v1._set_size('500px', '')  \n",
    "v0.observe(on_change, ['_camera_orientation'])\n",
    "\n",
    "HBox([v0, v1])"
   ]
  },
  {
   "cell_type": "code",
   "execution_count": 61,
   "id": "469dd6cd",
   "metadata": {},
   "outputs": [
    {
     "data": {
      "application/vnd.jupyter.widget-view+json": {
       "model_id": "d226adf6e54745cd9548daf5508f8fa8",
       "version_major": 2,
       "version_minor": 0
      },
      "text/plain": [
       "Dropdown(description='Sel. model:', options=(('model0', 0), ('model1', 1), ('model2', 2), ('model3', 3), ('mod…"
      ]
     },
     "metadata": {},
     "output_type": "display_data"
    }
   ],
   "source": [
    "from Bio.PDB import PDBParser\n",
    "\n",
    "parser = PDBParser(QUIET=True)\n",
    "structure = parser.get_structure(\"protein\", output_vina_pdbqt)\n",
    "\n",
    "models = []\n",
    "for i, m in enumerate(structure):\n",
    "    models.append(('model' + str(i), i))\n",
    "\n",
    "mdsel = ipywidgets.Dropdown(\n",
    "    options=models,\n",
    "    description=\"Sel. model:\",\n",
    "    disabled=False\n",
    ")\n",
    "display(mdsel)\n"
   ]
  },
  {
   "cell_type": "code",
   "execution_count": 73,
   "id": "68b3bf95",
   "metadata": {},
   "outputs": [
    {
     "data": {
      "text/plain": [
       "9"
      ]
     },
     "execution_count": 73,
     "metadata": {},
     "output_type": "execute_result"
    }
   ],
   "source": [
    "len(structure)"
   ]
  },
  {
   "cell_type": "code",
   "execution_count": 76,
   "id": "97a75375",
   "metadata": {},
   "outputs": [
    {
     "name": "stdout",
     "output_type": "stream",
     "text": [
      "2021-12-05 22:18:40,218 [MainThread  ] [INFO ]  Saving model 1 to output_model_1.pdbqt\n",
      "2021-12-05 22:18:40,227 [MainThread  ] [INFO ]  Value  is not compatible as a coordinates value\n",
      "2021-12-05 22:18:40,228 [MainThread  ] [INFO ]  Not using any container\n",
      "2021-12-05 22:18:40,229 [MainThread  ] [INFO ]  obabel -ipdbqt /Users/brian/tools/biobb/biobb_wf_virtual-screening/output_model_1.pdbqt -opdb -Ooutput_model_1.pdb  \n",
      "\n",
      "2021-12-05 22:18:40,361 [MainThread  ] [INFO ]  Exit code 0\n",
      "\n",
      "2021-12-05 22:18:40,362 [MainThread  ] [INFO ]  1 molecule converted\n",
      "\n",
      "2021-12-05 22:18:40,375 [MainThread  ] [INFO ]  Removed: []\n",
      "2021-12-05 22:18:40,395 [MainThread  ] [INFO ]  Saving model 2 to output_model_2.pdbqt\n",
      "2021-12-05 22:18:40,404 [MainThread  ] [INFO ]  Value  is not compatible as a coordinates value\n",
      "2021-12-05 22:18:40,405 [MainThread  ] [INFO ]  Not using any container\n",
      "2021-12-05 22:18:40,405 [MainThread  ] [INFO ]  obabel -ipdbqt /Users/brian/tools/biobb/biobb_wf_virtual-screening/output_model_2.pdbqt -opdb -Ooutput_model_2.pdb  \n",
      "\n",
      "2021-12-05 22:18:40,554 [MainThread  ] [INFO ]  Exit code 0\n",
      "\n",
      "2021-12-05 22:18:40,556 [MainThread  ] [INFO ]  1 molecule converted\n",
      "\n",
      "2021-12-05 22:18:40,568 [MainThread  ] [INFO ]  Removed: []\n",
      "2021-12-05 22:18:40,586 [MainThread  ] [INFO ]  Saving model 3 to output_model_3.pdbqt\n",
      "2021-12-05 22:18:40,595 [MainThread  ] [INFO ]  Value  is not compatible as a coordinates value\n",
      "2021-12-05 22:18:40,595 [MainThread  ] [INFO ]  Not using any container\n",
      "2021-12-05 22:18:40,596 [MainThread  ] [INFO ]  obabel -ipdbqt /Users/brian/tools/biobb/biobb_wf_virtual-screening/output_model_3.pdbqt -opdb -Ooutput_model_3.pdb  \n",
      "\n",
      "2021-12-05 22:18:40,757 [MainThread  ] [INFO ]  Exit code 0\n",
      "\n",
      "2021-12-05 22:18:40,759 [MainThread  ] [INFO ]  1 molecule converted\n",
      "\n",
      "2021-12-05 22:18:40,770 [MainThread  ] [INFO ]  Removed: []\n",
      "2021-12-05 22:18:40,789 [MainThread  ] [INFO ]  Saving model 4 to output_model_4.pdbqt\n",
      "2021-12-05 22:18:40,797 [MainThread  ] [INFO ]  Value  is not compatible as a coordinates value\n",
      "2021-12-05 22:18:40,798 [MainThread  ] [INFO ]  Not using any container\n",
      "2021-12-05 22:18:40,799 [MainThread  ] [INFO ]  obabel -ipdbqt /Users/brian/tools/biobb/biobb_wf_virtual-screening/output_model_4.pdbqt -opdb -Ooutput_model_4.pdb  \n",
      "\n",
      "2021-12-05 22:18:40,959 [MainThread  ] [INFO ]  Exit code 0\n",
      "\n",
      "2021-12-05 22:18:40,961 [MainThread  ] [INFO ]  1 molecule converted\n",
      "\n",
      "2021-12-05 22:18:40,972 [MainThread  ] [INFO ]  Removed: []\n",
      "2021-12-05 22:18:40,988 [MainThread  ] [INFO ]  Saving model 5 to output_model_5.pdbqt\n",
      "2021-12-05 22:18:40,998 [MainThread  ] [INFO ]  Value  is not compatible as a coordinates value\n",
      "2021-12-05 22:18:40,998 [MainThread  ] [INFO ]  Not using any container\n",
      "2021-12-05 22:18:40,999 [MainThread  ] [INFO ]  obabel -ipdbqt /Users/brian/tools/biobb/biobb_wf_virtual-screening/output_model_5.pdbqt -opdb -Ooutput_model_5.pdb  \n",
      "\n",
      "2021-12-05 22:18:41,217 [MainThread  ] [INFO ]  Exit code 0\n",
      "\n",
      "2021-12-05 22:18:41,219 [MainThread  ] [INFO ]  1 molecule converted\n",
      "\n",
      "2021-12-05 22:18:41,233 [MainThread  ] [INFO ]  Removed: []\n",
      "2021-12-05 22:18:41,252 [MainThread  ] [INFO ]  Saving model 6 to output_model_6.pdbqt\n",
      "2021-12-05 22:18:41,262 [MainThread  ] [INFO ]  Value  is not compatible as a coordinates value\n",
      "2021-12-05 22:18:41,263 [MainThread  ] [INFO ]  Not using any container\n",
      "2021-12-05 22:18:41,264 [MainThread  ] [INFO ]  obabel -ipdbqt /Users/brian/tools/biobb/biobb_wf_virtual-screening/output_model_6.pdbqt -opdb -Ooutput_model_6.pdb  \n",
      "\n",
      "2021-12-05 22:18:41,422 [MainThread  ] [INFO ]  Exit code 0\n",
      "\n",
      "2021-12-05 22:18:41,424 [MainThread  ] [INFO ]  1 molecule converted\n",
      "\n",
      "2021-12-05 22:18:41,438 [MainThread  ] [INFO ]  Removed: []\n",
      "2021-12-05 22:18:41,460 [MainThread  ] [INFO ]  Saving model 7 to output_model_7.pdbqt\n",
      "2021-12-05 22:18:41,473 [MainThread  ] [INFO ]  Value  is not compatible as a coordinates value\n",
      "2021-12-05 22:18:41,474 [MainThread  ] [INFO ]  Not using any container\n",
      "2021-12-05 22:18:41,474 [MainThread  ] [INFO ]  obabel -ipdbqt /Users/brian/tools/biobb/biobb_wf_virtual-screening/output_model_7.pdbqt -opdb -Ooutput_model_7.pdb  \n",
      "\n",
      "2021-12-05 22:18:41,623 [MainThread  ] [INFO ]  Exit code 0\n",
      "\n",
      "2021-12-05 22:18:41,625 [MainThread  ] [INFO ]  1 molecule converted\n",
      "\n",
      "2021-12-05 22:18:41,639 [MainThread  ] [INFO ]  Removed: []\n",
      "2021-12-05 22:18:41,659 [MainThread  ] [INFO ]  Saving model 8 to output_model_8.pdbqt\n",
      "2021-12-05 22:18:41,672 [MainThread  ] [INFO ]  Value  is not compatible as a coordinates value\n",
      "2021-12-05 22:18:41,673 [MainThread  ] [INFO ]  Not using any container\n",
      "2021-12-05 22:18:41,674 [MainThread  ] [INFO ]  obabel -ipdbqt /Users/brian/tools/biobb/biobb_wf_virtual-screening/output_model_8.pdbqt -opdb -Ooutput_model_8.pdb  \n",
      "\n",
      "2021-12-05 22:18:41,824 [MainThread  ] [INFO ]  Exit code 0\n",
      "\n",
      "2021-12-05 22:18:41,825 [MainThread  ] [INFO ]  1 molecule converted\n",
      "\n",
      "2021-12-05 22:18:41,839 [MainThread  ] [INFO ]  Removed: []\n",
      "2021-12-05 22:18:41,858 [MainThread  ] [INFO ]  Saving model 9 to output_model_9.pdbqt\n",
      "2021-12-05 22:18:41,875 [MainThread  ] [INFO ]  Value  is not compatible as a coordinates value\n",
      "2021-12-05 22:18:41,876 [MainThread  ] [INFO ]  Not using any container\n",
      "2021-12-05 22:18:41,877 [MainThread  ] [INFO ]  obabel -ipdbqt /Users/brian/tools/biobb/biobb_wf_virtual-screening/output_model_9.pdbqt -opdb -Ooutput_model_9.pdb  \n",
      "\n",
      "2021-12-05 22:18:42,026 [MainThread  ] [INFO ]  Exit code 0\n",
      "\n",
      "2021-12-05 22:18:42,028 [MainThread  ] [INFO ]  1 molecule converted\n",
      "\n",
      "2021-12-05 22:18:42,042 [MainThread  ] [INFO ]  Removed: []\n"
     ]
    }
   ],
   "source": [
    "from Bio.PDB import PDBParser\n",
    "\n",
    "parser = PDBParser(QUIET=True)\n",
    "structure = parser.get_structure(\"protein\", output_vina_pdbqt)\n",
    "\n",
    "models = []\n",
    "for i, m in enumerate(structure):\n",
    "\n",
    "    prop = {\n",
    "    \"model\": i + 1\n",
    "    }\n",
    "    output_pdbqt_model = \"output_model_{}.pdbqt\".format(i+1)\n",
    "    extract_model_pdbqt(input_pdbqt_path=output_vina_pdbqt,\n",
    "                       output_pdbqt_path=output_pdbqt_model,\n",
    "                       properties=prop)\n",
    "    \n",
    "    output_pdb_model = \"output_model_{}.pdb\".format(i+1)\n",
    "    prop = {\n",
    "    \"input_format\": \"pdbqt\",\n",
    "    \"output_format\": \"pdb\",\n",
    "    \"obabel_path\": \"obabel\"\n",
    "    }\n",
    "    babel_convert(input_path = output_pdbqt_model,\n",
    "            output_path = output_pdb_model,\n",
    "            properties=prop)\n",
    "    \n",
    "    \n",
    "    out_struct = \"out_struct_{}.pdb\".format(i+1)\n",
    "    cat_pdb(input_structure1=download_pdb,\n",
    "           input_structure2=output_pdb_model,\n",
    "           output_structure_path=out_struct)\n",
    "    "
   ]
  },
  {
   "cell_type": "code",
   "execution_count": 77,
   "id": "47a3e7a9",
   "metadata": {},
   "outputs": [
    {
     "data": {
      "text/plain": [
       "'out_struct_9.pdb'"
      ]
     },
     "execution_count": 77,
     "metadata": {},
     "output_type": "execute_result"
    }
   ],
   "source": [
    "out_struct"
   ]
  },
  {
   "cell_type": "code",
   "execution_count": 70,
   "id": "60675d81",
   "metadata": {},
   "outputs": [
    {
     "data": {
      "text/plain": [
       "3"
      ]
     },
     "execution_count": 70,
     "metadata": {},
     "output_type": "execute_result"
    }
   ],
   "source": [
    "mdsel.value"
   ]
  },
  {
   "cell_type": "code",
   "execution_count": 64,
   "id": "7bacdcf9",
   "metadata": {},
   "outputs": [
    {
     "name": "stdout",
     "output_type": "stream",
     "text": [
      "2021-12-05 02:52:39,938 [MainThread  ] [INFO ]  Saving model 4 to output_model.pdbqt\n"
     ]
    },
    {
     "data": {
      "text/plain": [
       "0"
      ]
     },
     "execution_count": 64,
     "metadata": {},
     "output_type": "execute_result"
    }
   ],
   "source": [
    "from biobb_vs.utils.extract_model_pdbqt import extract_model_pdbqt\n",
    "\n",
    "output_pdbqt_model = \"output_model.pdbqt\"\n",
    "prop = {\n",
    "    \"model\": mdsel.value + 1\n",
    "}\n",
    "\n",
    "extract_model_pdbqt(input_pdbqt_path=output_vina_pdbqt,\n",
    "                   output_pdbqt_path=output_pdbqt_model,\n",
    "                   properties=prop)"
   ]
  },
  {
   "cell_type": "code",
   "execution_count": 67,
   "id": "a097f2b8",
   "metadata": {},
   "outputs": [
    {
     "name": "stdout",
     "output_type": "stream",
     "text": [
      "2021-12-05 19:10:58,019 [MainThread  ] [INFO ]  Removed: []\n"
     ]
    },
    {
     "data": {
      "text/plain": [
       "0"
      ]
     },
     "execution_count": 67,
     "metadata": {},
     "output_type": "execute_result"
    }
   ],
   "source": [
    "from biobb_structure_utils.utils.cat_pdb import cat_pdb\n",
    "\n",
    "out_struct = \"out_struct.pdb\"\n",
    "\n",
    "cat_pdb(input_structure1=download_pdb,\n",
    "       input_structure2=\"output_model.pdb\",\n",
    "       output_structure_path=out_struct)"
   ]
  },
  {
   "cell_type": "code",
   "execution_count": 78,
   "id": "f5f798c6",
   "metadata": {},
   "outputs": [
    {
     "name": "stdout",
     "output_type": "stream",
     "text": [
      "out_struct_1.pdb out_struct_4.pdb out_struct_7.pdb\r\n",
      "out_struct_2.pdb out_struct_5.pdb out_struct_8.pdb\r\n",
      "out_struct_3.pdb out_struct_6.pdb out_struct_9.pdb\r\n"
     ]
    }
   ],
   "source": [
    "!ls out_struct_*.pdb"
   ]
  },
  {
   "cell_type": "code",
   "execution_count": 26,
   "id": "baaf6111",
   "metadata": {},
   "outputs": [
    {
     "name": "stdout",
     "output_type": "stream",
     "text": [
      "2021-12-05 01:52:01,930 [MainThread  ] [INFO ]  Downloading: db01254 from: https://www.drugbank.ca/structures/small_molecule_drugs/db01254.sdf?type=3d\n"
     ]
    },
    {
     "name": "stderr",
     "output_type": "stream",
     "text": [
      "/Users/brian/anaconda3/envs/biobb/lib/python3.7/site-packages/urllib3/connectionpool.py:1020: InsecureRequestWarning: Unverified HTTPS request is being made to host 'www.drugbank.ca'. Adding certificate verification is strongly advised. See: https://urllib3.readthedocs.io/en/1.26.x/advanced-usage.html#ssl-warnings\n",
      "  InsecureRequestWarning,\n",
      "/Users/brian/anaconda3/envs/biobb/lib/python3.7/site-packages/urllib3/connectionpool.py:1020: InsecureRequestWarning: Unverified HTTPS request is being made to host 'go.drugbank.com'. Adding certificate verification is strongly advised. See: https://urllib3.readthedocs.io/en/1.26.x/advanced-usage.html#ssl-warnings\n",
      "  InsecureRequestWarning,\n"
     ]
    },
    {
     "name": "stdout",
     "output_type": "stream",
     "text": [
      "2021-12-05 01:52:02,411 [MainThread  ] [INFO ]  Writting sdf to: newComponent.sdf\n"
     ]
    },
    {
     "data": {
      "text/plain": [
       "0"
      ]
     },
     "execution_count": 26,
     "metadata": {},
     "output_type": "execute_result"
    }
   ],
   "source": [
    "from biobb_io.api.drugbank import drugbank\n",
    "prop = {\n",
    "    'drugbank_id': 'DB01254'\n",
    "}\n",
    "drugbank(output_sdf_path='newComponent.sdf',\n",
    "        properties=prop)"
   ]
  },
  {
   "cell_type": "code",
   "execution_count": null,
   "id": "3fe5a953",
   "metadata": {},
   "outputs": [],
   "source": []
  }
 ],
 "metadata": {
  "kernelspec": {
   "display_name": "Python 3 (ipykernel)",
   "language": "python",
   "name": "python3"
  },
  "language_info": {
   "codemirror_mode": {
    "name": "ipython",
    "version": 3
   },
   "file_extension": ".py",
   "mimetype": "text/x-python",
   "name": "python",
   "nbconvert_exporter": "python",
   "pygments_lexer": "ipython3",
   "version": "3.7.12"
  }
 },
 "nbformat": 4,
 "nbformat_minor": 5
}
